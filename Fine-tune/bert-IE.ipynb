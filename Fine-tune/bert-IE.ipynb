{
 "cells": [
  {
   "cell_type": "markdown",
   "metadata": {},
   "source": [
    "# Fine Tune"
   ]
  },
  {
   "cell_type": "code",
   "execution_count": 1,
   "metadata": {},
   "outputs": [
    {
     "name": "stderr",
     "output_type": "stream",
     "text": [
      "c:\\Users\\fizuf\\anaconda3\\envs\\vidovax-env\\Lib\\site-packages\\tqdm\\auto.py:21: TqdmWarning: IProgress not found. Please update jupyter and ipywidgets. See https://ipywidgets.readthedocs.io/en/stable/user_install.html\n",
      "  from .autonotebook import tqdm as notebook_tqdm\n"
     ]
    }
   ],
   "source": [
    "import pandas as pd\n",
    "import numpy as np\n",
    "import matplotlib.pyplot as plt\n",
    "import seaborn as sns\n",
    "\n",
    "from transformers import BertTokenizer, BertModel, BertForSequenceClassification, AdamW\n",
    "\n",
    "from sklearn.model_selection import train_test_split\n",
    "from sklearn.utils.class_weight import compute_class_weight\n",
    "from sklearn.preprocessing import LabelEncoder\n",
    "from sklearn.metrics import accuracy_score, precision_recall_fscore_support, classification_report\n",
    "\n",
    "import torch\n",
    "import torch.utils.data\n",
    "from torch.utils.data import DataLoader, TensorDataset\n",
    "\n",
    "import tqdm as tqdm"
   ]
  },
  {
   "cell_type": "markdown",
   "metadata": {},
   "source": [
    "## Prepare Dataset"
   ]
  },
  {
   "cell_type": "code",
   "execution_count": 11,
   "metadata": {},
   "outputs": [],
   "source": [
    "mbti_df = pd.read_csv('../processed/all_data_3.csv')"
   ]
  },
  {
   "cell_type": "code",
   "execution_count": 12,
   "metadata": {},
   "outputs": [
    {
     "data": {
      "text/html": [
       "<div>\n",
       "<style scoped>\n",
       "    .dataframe tbody tr th:only-of-type {\n",
       "        vertical-align: middle;\n",
       "    }\n",
       "\n",
       "    .dataframe tbody tr th {\n",
       "        vertical-align: top;\n",
       "    }\n",
       "\n",
       "    .dataframe thead th {\n",
       "        text-align: right;\n",
       "    }\n",
       "</style>\n",
       "<table border=\"1\" class=\"dataframe\">\n",
       "  <thead>\n",
       "    <tr style=\"text-align: right;\">\n",
       "      <th></th>\n",
       "      <th>Unnamed: 0</th>\n",
       "      <th>type</th>\n",
       "      <th>tweet</th>\n",
       "    </tr>\n",
       "  </thead>\n",
       "  <tbody>\n",
       "    <tr>\n",
       "      <th>0</th>\n",
       "      <td>0</td>\n",
       "      <td>ISFJ</td>\n",
       "      <td>Mindhunter, Broadchurch, The Sinner, Orphan Bl...</td>\n",
       "    </tr>\n",
       "    <tr>\n",
       "      <th>1</th>\n",
       "      <td>1</td>\n",
       "      <td>ISFJ</td>\n",
       "      <td>Tinder has your health in mind.</td>\n",
       "    </tr>\n",
       "    <tr>\n",
       "      <th>2</th>\n",
       "      <td>2</td>\n",
       "      <td>ISFJ</td>\n",
       "      <td>5 of 5 stars to Pretty Face by Lucy Parker</td>\n",
       "    </tr>\n",
       "    <tr>\n",
       "      <th>3</th>\n",
       "      <td>3</td>\n",
       "      <td>ISFJ</td>\n",
       "      <td>Outstanding faculty from and more at Winter Co...</td>\n",
       "    </tr>\n",
       "    <tr>\n",
       "      <th>4</th>\n",
       "      <td>4</td>\n",
       "      <td>ISFJ</td>\n",
       "      <td>Using pray and wait on God, can be a means of ...</td>\n",
       "    </tr>\n",
       "    <tr>\n",
       "      <th>...</th>\n",
       "      <td>...</td>\n",
       "      <td>...</td>\n",
       "      <td>...</td>\n",
       "    </tr>\n",
       "    <tr>\n",
       "      <th>106322</th>\n",
       "      <td>106322</td>\n",
       "      <td>ESTP</td>\n",
       "      <td>This is so legit holy shit lol I work in rando...</td>\n",
       "    </tr>\n",
       "    <tr>\n",
       "      <th>106323</th>\n",
       "      <td>106323</td>\n",
       "      <td>ESTP</td>\n",
       "      <td>Same here When Im in a group Im fairly quiet u...</td>\n",
       "    </tr>\n",
       "    <tr>\n",
       "      <th>106324</th>\n",
       "      <td>106324</td>\n",
       "      <td>ESTJ</td>\n",
       "      <td>Im more worried about the idea that we are sla...</td>\n",
       "    </tr>\n",
       "    <tr>\n",
       "      <th>106325</th>\n",
       "      <td>106325</td>\n",
       "      <td>ESTP</td>\n",
       "      <td>Believing you dont have ethics is still an eth...</td>\n",
       "    </tr>\n",
       "    <tr>\n",
       "      <th>106326</th>\n",
       "      <td>106326</td>\n",
       "      <td>ESFP</td>\n",
       "      <td>You sound like such a spergelord In my experie...</td>\n",
       "    </tr>\n",
       "  </tbody>\n",
       "</table>\n",
       "<p>106327 rows × 3 columns</p>\n",
       "</div>"
      ],
      "text/plain": [
       "        Unnamed: 0  type                                              tweet\n",
       "0                0  ISFJ  Mindhunter, Broadchurch, The Sinner, Orphan Bl...\n",
       "1                1  ISFJ                    Tinder has your health in mind.\n",
       "2                2  ISFJ         5 of 5 stars to Pretty Face by Lucy Parker\n",
       "3                3  ISFJ  Outstanding faculty from and more at Winter Co...\n",
       "4                4  ISFJ  Using pray and wait on God, can be a means of ...\n",
       "...            ...   ...                                                ...\n",
       "106322      106322  ESTP  This is so legit holy shit lol I work in rando...\n",
       "106323      106323  ESTP  Same here When Im in a group Im fairly quiet u...\n",
       "106324      106324  ESTJ  Im more worried about the idea that we are sla...\n",
       "106325      106325  ESTP  Believing you dont have ethics is still an eth...\n",
       "106326      106326  ESFP  You sound like such a spergelord In my experie...\n",
       "\n",
       "[106327 rows x 3 columns]"
      ]
     },
     "execution_count": 12,
     "metadata": {},
     "output_type": "execute_result"
    }
   ],
   "source": [
    "mbti_df"
   ]
  },
  {
   "cell_type": "markdown",
   "metadata": {},
   "source": [
    "### Add column `introvert_extrovert`"
   ]
  },
  {
   "cell_type": "code",
   "execution_count": 13,
   "metadata": {},
   "outputs": [],
   "source": [
    "mbti_df['introvert_extrovert'] = mbti_df['type'].apply(lambda x: 'Introvert' if x[0] == 'I' else 'Extrovert')"
   ]
  },
  {
   "cell_type": "code",
   "execution_count": 14,
   "metadata": {},
   "outputs": [
    {
     "data": {
      "text/html": [
       "<div>\n",
       "<style scoped>\n",
       "    .dataframe tbody tr th:only-of-type {\n",
       "        vertical-align: middle;\n",
       "    }\n",
       "\n",
       "    .dataframe tbody tr th {\n",
       "        vertical-align: top;\n",
       "    }\n",
       "\n",
       "    .dataframe thead th {\n",
       "        text-align: right;\n",
       "    }\n",
       "</style>\n",
       "<table border=\"1\" class=\"dataframe\">\n",
       "  <thead>\n",
       "    <tr style=\"text-align: right;\">\n",
       "      <th></th>\n",
       "      <th>Unnamed: 0</th>\n",
       "      <th>type</th>\n",
       "      <th>tweet</th>\n",
       "      <th>introvert_extrovert</th>\n",
       "    </tr>\n",
       "  </thead>\n",
       "  <tbody>\n",
       "    <tr>\n",
       "      <th>81841</th>\n",
       "      <td>81841</td>\n",
       "      <td>ISTP</td>\n",
       "      <td>for the most part i love it i like feeling use...</td>\n",
       "      <td>Introvert</td>\n",
       "    </tr>\n",
       "    <tr>\n",
       "      <th>13340</th>\n",
       "      <td>13340</td>\n",
       "      <td>ENFP</td>\n",
       "      <td>Really With those lines Oh hell no I dont thin...</td>\n",
       "      <td>Extrovert</td>\n",
       "    </tr>\n",
       "    <tr>\n",
       "      <th>2355</th>\n",
       "      <td>2355</td>\n",
       "      <td>ENFJ</td>\n",
       "      <td>How are your energy levels By which I mean do ...</td>\n",
       "      <td>Extrovert</td>\n",
       "    </tr>\n",
       "    <tr>\n",
       "      <th>11689</th>\n",
       "      <td>11689</td>\n",
       "      <td>ENFP</td>\n",
       "      <td>I love the fall weather in a way its comfortin...</td>\n",
       "      <td>Extrovert</td>\n",
       "    </tr>\n",
       "    <tr>\n",
       "      <th>19850</th>\n",
       "      <td>19850</td>\n",
       "      <td>ENTJ</td>\n",
       "      <td>i guess i should have explained my point your ...</td>\n",
       "      <td>Extrovert</td>\n",
       "    </tr>\n",
       "    <tr>\n",
       "      <th>20830</th>\n",
       "      <td>20830</td>\n",
       "      <td>ENTJ</td>\n",
       "      <td>lordmercurio im sorry but i think you misunder...</td>\n",
       "      <td>Extrovert</td>\n",
       "    </tr>\n",
       "    <tr>\n",
       "      <th>4594</th>\n",
       "      <td>4594</td>\n",
       "      <td>ENFJ</td>\n",
       "      <td>not really i like the shy ones and if anything...</td>\n",
       "      <td>Extrovert</td>\n",
       "    </tr>\n",
       "    <tr>\n",
       "      <th>12204</th>\n",
       "      <td>12204</td>\n",
       "      <td>ENFP</td>\n",
       "      <td>dont stress so much get yourself to a place wh...</td>\n",
       "      <td>Extrovert</td>\n",
       "    </tr>\n",
       "    <tr>\n",
       "      <th>31705</th>\n",
       "      <td>31705</td>\n",
       "      <td>ENTP</td>\n",
       "      <td>yes that is it it seems really a good choice t...</td>\n",
       "      <td>Extrovert</td>\n",
       "    </tr>\n",
       "    <tr>\n",
       "      <th>47546</th>\n",
       "      <td>47546</td>\n",
       "      <td>INFP</td>\n",
       "      <td>i didnt like children until i had one i suppos...</td>\n",
       "      <td>Introvert</td>\n",
       "    </tr>\n",
       "  </tbody>\n",
       "</table>\n",
       "</div>"
      ],
      "text/plain": [
       "       Unnamed: 0  type                                              tweet  \\\n",
       "81841       81841  ISTP  for the most part i love it i like feeling use...   \n",
       "13340       13340  ENFP  Really With those lines Oh hell no I dont thin...   \n",
       "2355         2355  ENFJ  How are your energy levels By which I mean do ...   \n",
       "11689       11689  ENFP  I love the fall weather in a way its comfortin...   \n",
       "19850       19850  ENTJ  i guess i should have explained my point your ...   \n",
       "20830       20830  ENTJ  lordmercurio im sorry but i think you misunder...   \n",
       "4594         4594  ENFJ  not really i like the shy ones and if anything...   \n",
       "12204       12204  ENFP  dont stress so much get yourself to a place wh...   \n",
       "31705       31705  ENTP  yes that is it it seems really a good choice t...   \n",
       "47546       47546  INFP  i didnt like children until i had one i suppos...   \n",
       "\n",
       "      introvert_extrovert  \n",
       "81841           Introvert  \n",
       "13340           Extrovert  \n",
       "2355            Extrovert  \n",
       "11689           Extrovert  \n",
       "19850           Extrovert  \n",
       "20830           Extrovert  \n",
       "4594            Extrovert  \n",
       "12204           Extrovert  \n",
       "31705           Extrovert  \n",
       "47546           Introvert  "
      ]
     },
     "execution_count": 14,
     "metadata": {},
     "output_type": "execute_result"
    }
   ],
   "source": [
    "mbti_df.sample(10)"
   ]
  },
  {
   "cell_type": "markdown",
   "metadata": {},
   "source": [
    "### Consider only posts with length < 32 words"
   ]
  },
  {
   "cell_type": "code",
   "execution_count": 15,
   "metadata": {},
   "outputs": [],
   "source": [
    "mbti_df = mbti_df[mbti_df['tweet'].str.split().str.len() < 32]"
   ]
  },
  {
   "cell_type": "code",
   "execution_count": 16,
   "metadata": {},
   "outputs": [
    {
     "data": {
      "text/html": [
       "<div>\n",
       "<style scoped>\n",
       "    .dataframe tbody tr th:only-of-type {\n",
       "        vertical-align: middle;\n",
       "    }\n",
       "\n",
       "    .dataframe tbody tr th {\n",
       "        vertical-align: top;\n",
       "    }\n",
       "\n",
       "    .dataframe thead th {\n",
       "        text-align: right;\n",
       "    }\n",
       "</style>\n",
       "<table border=\"1\" class=\"dataframe\">\n",
       "  <thead>\n",
       "    <tr style=\"text-align: right;\">\n",
       "      <th></th>\n",
       "      <th>Unnamed: 0</th>\n",
       "      <th>type</th>\n",
       "      <th>tweet</th>\n",
       "      <th>introvert_extrovert</th>\n",
       "    </tr>\n",
       "  </thead>\n",
       "  <tbody>\n",
       "    <tr>\n",
       "      <th>0</th>\n",
       "      <td>0</td>\n",
       "      <td>ISFJ</td>\n",
       "      <td>Mindhunter, Broadchurch, The Sinner, Orphan Bl...</td>\n",
       "      <td>Introvert</td>\n",
       "    </tr>\n",
       "    <tr>\n",
       "      <th>1</th>\n",
       "      <td>1</td>\n",
       "      <td>ISFJ</td>\n",
       "      <td>Tinder has your health in mind.</td>\n",
       "      <td>Introvert</td>\n",
       "    </tr>\n",
       "    <tr>\n",
       "      <th>2</th>\n",
       "      <td>2</td>\n",
       "      <td>ISFJ</td>\n",
       "      <td>5 of 5 stars to Pretty Face by Lucy Parker</td>\n",
       "      <td>Introvert</td>\n",
       "    </tr>\n",
       "    <tr>\n",
       "      <th>3</th>\n",
       "      <td>3</td>\n",
       "      <td>ISFJ</td>\n",
       "      <td>Outstanding faculty from and more at Winter Co...</td>\n",
       "      <td>Introvert</td>\n",
       "    </tr>\n",
       "    <tr>\n",
       "      <th>4</th>\n",
       "      <td>4</td>\n",
       "      <td>ISFJ</td>\n",
       "      <td>Using pray and wait on God, can be a means of ...</td>\n",
       "      <td>Introvert</td>\n",
       "    </tr>\n",
       "    <tr>\n",
       "      <th>...</th>\n",
       "      <td>...</td>\n",
       "      <td>...</td>\n",
       "      <td>...</td>\n",
       "      <td>...</td>\n",
       "    </tr>\n",
       "    <tr>\n",
       "      <th>106313</th>\n",
       "      <td>106313</td>\n",
       "      <td>ESTP</td>\n",
       "      <td>True I do end up the mentor but I feel like Yo...</td>\n",
       "      <td>Extrovert</td>\n",
       "    </tr>\n",
       "    <tr>\n",
       "      <th>106321</th>\n",
       "      <td>106321</td>\n",
       "      <td>ESFP</td>\n",
       "      <td>LOL and thats why I got sort of mad because th...</td>\n",
       "      <td>Extrovert</td>\n",
       "    </tr>\n",
       "    <tr>\n",
       "      <th>106322</th>\n",
       "      <td>106322</td>\n",
       "      <td>ESTP</td>\n",
       "      <td>This is so legit holy shit lol I work in rando...</td>\n",
       "      <td>Extrovert</td>\n",
       "    </tr>\n",
       "    <tr>\n",
       "      <th>106324</th>\n",
       "      <td>106324</td>\n",
       "      <td>ESTJ</td>\n",
       "      <td>Im more worried about the idea that we are sla...</td>\n",
       "      <td>Extrovert</td>\n",
       "    </tr>\n",
       "    <tr>\n",
       "      <th>106325</th>\n",
       "      <td>106325</td>\n",
       "      <td>ESTP</td>\n",
       "      <td>Believing you dont have ethics is still an eth...</td>\n",
       "      <td>Extrovert</td>\n",
       "    </tr>\n",
       "  </tbody>\n",
       "</table>\n",
       "<p>35554 rows × 4 columns</p>\n",
       "</div>"
      ],
      "text/plain": [
       "        Unnamed: 0  type                                              tweet  \\\n",
       "0                0  ISFJ  Mindhunter, Broadchurch, The Sinner, Orphan Bl...   \n",
       "1                1  ISFJ                    Tinder has your health in mind.   \n",
       "2                2  ISFJ         5 of 5 stars to Pretty Face by Lucy Parker   \n",
       "3                3  ISFJ  Outstanding faculty from and more at Winter Co...   \n",
       "4                4  ISFJ  Using pray and wait on God, can be a means of ...   \n",
       "...            ...   ...                                                ...   \n",
       "106313      106313  ESTP  True I do end up the mentor but I feel like Yo...   \n",
       "106321      106321  ESFP  LOL and thats why I got sort of mad because th...   \n",
       "106322      106322  ESTP  This is so legit holy shit lol I work in rando...   \n",
       "106324      106324  ESTJ  Im more worried about the idea that we are sla...   \n",
       "106325      106325  ESTP  Believing you dont have ethics is still an eth...   \n",
       "\n",
       "       introvert_extrovert  \n",
       "0                Introvert  \n",
       "1                Introvert  \n",
       "2                Introvert  \n",
       "3                Introvert  \n",
       "4                Introvert  \n",
       "...                    ...  \n",
       "106313           Extrovert  \n",
       "106321           Extrovert  \n",
       "106322           Extrovert  \n",
       "106324           Extrovert  \n",
       "106325           Extrovert  \n",
       "\n",
       "[35554 rows x 4 columns]"
      ]
     },
     "execution_count": 16,
     "metadata": {},
     "output_type": "execute_result"
    }
   ],
   "source": [
    "mbti_df"
   ]
  },
  {
   "cell_type": "code",
   "execution_count": 17,
   "metadata": {},
   "outputs": [],
   "source": [
    "mbti_df = mbti_df.drop(columns=['Unnamed: 0'])"
   ]
  },
  {
   "cell_type": "code",
   "execution_count": 18,
   "metadata": {},
   "outputs": [
    {
     "data": {
      "text/html": [
       "<div>\n",
       "<style scoped>\n",
       "    .dataframe tbody tr th:only-of-type {\n",
       "        vertical-align: middle;\n",
       "    }\n",
       "\n",
       "    .dataframe tbody tr th {\n",
       "        vertical-align: top;\n",
       "    }\n",
       "\n",
       "    .dataframe thead th {\n",
       "        text-align: right;\n",
       "    }\n",
       "</style>\n",
       "<table border=\"1\" class=\"dataframe\">\n",
       "  <thead>\n",
       "    <tr style=\"text-align: right;\">\n",
       "      <th></th>\n",
       "      <th>type</th>\n",
       "      <th>tweet</th>\n",
       "      <th>introvert_extrovert</th>\n",
       "    </tr>\n",
       "  </thead>\n",
       "  <tbody>\n",
       "    <tr>\n",
       "      <th>28707</th>\n",
       "      <td>ENTP</td>\n",
       "      <td>Everywhere because our interests are so divers...</td>\n",
       "      <td>Extrovert</td>\n",
       "    </tr>\n",
       "    <tr>\n",
       "      <th>26793</th>\n",
       "      <td>ENTP</td>\n",
       "      <td>King of the geeks I would talk with everyone b...</td>\n",
       "      <td>Extrovert</td>\n",
       "    </tr>\n",
       "    <tr>\n",
       "      <th>69297</th>\n",
       "      <td>ISFP</td>\n",
       "      <td>thank you i do want to be social but in social...</td>\n",
       "      <td>Introvert</td>\n",
       "    </tr>\n",
       "    <tr>\n",
       "      <th>13880</th>\n",
       "      <td>ENFP</td>\n",
       "      <td>Maybe one day Stuck in Australia for the momen...</td>\n",
       "      <td>Extrovert</td>\n",
       "    </tr>\n",
       "    <tr>\n",
       "      <th>46390</th>\n",
       "      <td>INFP</td>\n",
       "      <td>I dont get how you can ignore Ni when its your...</td>\n",
       "      <td>Introvert</td>\n",
       "    </tr>\n",
       "    <tr>\n",
       "      <th>80878</th>\n",
       "      <td>ISTP</td>\n",
       "      <td>my college experience in a nutshell freshman y...</td>\n",
       "      <td>Introvert</td>\n",
       "    </tr>\n",
       "    <tr>\n",
       "      <th>88769</th>\n",
       "      <td>ISTP</td>\n",
       "      <td>I would guess that they exist but I have yet t...</td>\n",
       "      <td>Introvert</td>\n",
       "    </tr>\n",
       "    <tr>\n",
       "      <th>86587</th>\n",
       "      <td>ISTP</td>\n",
       "      <td>first rule of the internet i learnt keep your ...</td>\n",
       "      <td>Introvert</td>\n",
       "    </tr>\n",
       "    <tr>\n",
       "      <th>42429</th>\n",
       "      <td>INFP</td>\n",
       "      <td>i was going to write some long contemplative r...</td>\n",
       "      <td>Introvert</td>\n",
       "    </tr>\n",
       "    <tr>\n",
       "      <th>89892</th>\n",
       "      <td>ESTP</td>\n",
       "      <td>i suppose when people have impairments in some...</td>\n",
       "      <td>Extrovert</td>\n",
       "    </tr>\n",
       "  </tbody>\n",
       "</table>\n",
       "</div>"
      ],
      "text/plain": [
       "       type                                              tweet  \\\n",
       "28707  ENTP  Everywhere because our interests are so divers...   \n",
       "26793  ENTP  King of the geeks I would talk with everyone b...   \n",
       "69297  ISFP  thank you i do want to be social but in social...   \n",
       "13880  ENFP  Maybe one day Stuck in Australia for the momen...   \n",
       "46390  INFP  I dont get how you can ignore Ni when its your...   \n",
       "80878  ISTP  my college experience in a nutshell freshman y...   \n",
       "88769  ISTP  I would guess that they exist but I have yet t...   \n",
       "86587  ISTP  first rule of the internet i learnt keep your ...   \n",
       "42429  INFP  i was going to write some long contemplative r...   \n",
       "89892  ESTP  i suppose when people have impairments in some...   \n",
       "\n",
       "      introvert_extrovert  \n",
       "28707           Extrovert  \n",
       "26793           Extrovert  \n",
       "69297           Introvert  \n",
       "13880           Extrovert  \n",
       "46390           Introvert  \n",
       "80878           Introvert  \n",
       "88769           Introvert  \n",
       "86587           Introvert  \n",
       "42429           Introvert  \n",
       "89892           Extrovert  "
      ]
     },
     "execution_count": 18,
     "metadata": {},
     "output_type": "execute_result"
    }
   ],
   "source": [
    "mbti_df.sample(10)"
   ]
  },
  {
   "cell_type": "code",
   "execution_count": 23,
   "metadata": {},
   "outputs": [
    {
     "name": "stderr",
     "output_type": "stream",
     "text": [
      "C:\\Users\\fizuf\\AppData\\Local\\Temp\\ipykernel_27396\\3209175506.py:6: FutureWarning: \n",
      "\n",
      "Passing `palette` without assigning `hue` is deprecated and will be removed in v0.14.0. Assign the `x` variable to `hue` and set `legend=False` for the same effect.\n",
      "\n",
      "  ax = sns.barplot(data=mbti_df_grouped, x='introvert_extrovert', y='n_posts', palette='husl')\n"
     ]
    },
    {
     "data": {
      "image/png": "[encoded data removed]",
      "text/plain": [
       "<Figure size 1000x600 with 1 Axes>"
      ]
     },
     "metadata": {},
     "output_type": "display_data"
    }
   ],
   "source": [
    "mbti_df_grouped = mbti_df.groupby('introvert_extrovert').size().reset_index(name='n_posts')\n",
    "mbti_df_grouped = mbti_df_grouped.sort_values(by='n_posts', ascending=False)\n",
    "mbti_df_grouped.columns = ['introvert_extrovert', 'n_posts']\n",
    "\n",
    "plt.figure(figsize=(10, 6))\n",
    "ax = sns.barplot(data=mbti_df_grouped, x='introvert_extrovert', y='n_posts', palette='husl')\n",
    "\n",
    "# Add annotations (number of users above each bar)\n",
    "for p in ax.patches:\n",
    "    ax.annotate(f'{int(p.get_height())}', \n",
    "                (p.get_x() + p.get_width() / 2, p.get_height()), \n",
    "                ha='center', va='bottom', fontsize=8, color='black')\n",
    "\n",
    "plt.title('Distribution by introvertion and extrovertion', fontsize=16, fontweight='bold', pad=16)\n",
    "plt.xlabel('Introvert (I) or Extrovert (E)', fontsize=12)\n",
    "plt.ylabel('Number of posts', fontsize=12)\n",
    "\n",
    "plt.show()"
   ]
  },
  {
   "cell_type": "code",
   "execution_count": 24,
   "metadata": {},
   "outputs": [],
   "source": [
    "mbti_labels_dict = {\n",
    "    'Introvert': 0,\n",
    "    'Extrovert': 1,\n",
    "}"
   ]
  },
  {
   "cell_type": "markdown",
   "metadata": {},
   "source": [
    "### Split datasets"
   ]
  },
  {
   "cell_type": "code",
   "execution_count": 25,
   "metadata": {},
   "outputs": [],
   "source": [
    "X = mbti_df['tweet']\n",
    "y = mbti_df['introvert_extrovert']\n",
    "\n",
    "y = y.map(mbti_labels_dict)"
   ]
  },
  {
   "cell_type": "code",
   "execution_count": 27,
   "metadata": {},
   "outputs": [
    {
     "name": "stdout",
     "output_type": "stream",
     "text": [
      "Using device: cpu\n"
     ]
    }
   ],
   "source": [
    "device = torch.device(\"cuda\" if torch.cuda.is_available() else \"cpu\")\n",
    "\n",
    "print(f\"Using device: {device}\")"
   ]
  },
  {
   "cell_type": "markdown",
   "metadata": {},
   "source": [
    "### Fine Tune BERT"
   ]
  },
  {
   "cell_type": "code",
   "execution_count": null,
   "metadata": {},
   "outputs": [
    {
     "name": "stderr",
     "output_type": "stream",
     "text": [
      "Some weights of BertForSequenceClassification were not initialized from the model checkpoint at bert-base-uncased and are newly initialized: ['classifier.bias', 'classifier.weight']\n",
      "You should probably TRAIN this model on a down-stream task to be able to use it for predictions and inference.\n"
     ]
    }
   ],
   "source": [
    "tokenizer = BertTokenizer.from_pretrained('bert-base-uncased')\n",
    "model = BertForSequenceClassification.from_pretrained('bert-base-uncased', num_labels=2)  \n",
    "model.config.hidden_dropout_prob = 0.3"
   ]
  },
  {
   "cell_type": "code",
   "execution_count": 29,
   "metadata": {},
   "outputs": [],
   "source": [
    "inputs = tokenizer(X.tolist(), padding=True, truncation=True, max_length=32, return_tensors='pt')\n",
    "labels = torch.tensor(y.values) \n",
    "\n",
    "train_dataset = torch.utils.data.TensorDataset(inputs['input_ids'], inputs['attention_mask'], labels)\n",
    "\n",
    "train_dataset, val_dataset = train_test_split(train_dataset, test_size=0.3)\n",
    "\n",
    "train_dataloader = DataLoader(train_dataset, batch_size=16, shuffle=True)\n",
    "val_dataloader = DataLoader(val_dataset, batch_size=16)"
   ]
  },
  {
   "cell_type": "code",
   "execution_count": 30,
   "metadata": {},
   "outputs": [
    {
     "name": "stderr",
     "output_type": "stream",
     "text": [
      "c:\\Users\\fizuf\\anaconda3\\envs\\vidovax-env\\Lib\\site-packages\\transformers\\optimization.py:591: FutureWarning: This implementation of AdamW is deprecated and will be removed in a future version. Use the PyTorch implementation torch.optim.AdamW instead, or set `no_deprecation_warning=True` to disable this warning\n",
      "  warnings.warn(\n"
     ]
    },
    {
     "name": "stdout",
     "output_type": "stream",
     "text": [
      "Epoch 1/10, Loss: 0.6794853951102051\n",
      "Accuracy: 0.5733, Precision: 0.5487, Recall: 0.5733, F1-Score: 0.5020\n",
      "Epoch 2/10, Loss: 0.6523785028405545\n",
      "Accuracy: 0.6130, Precision: 0.6046, Recall: 0.6130, F1-Score: 0.5970\n",
      "Epoch 3/10, Loss: 0.5516601334539049\n",
      "Accuracy: 0.7170, Precision: 0.7154, Recall: 0.7170, F1-Score: 0.7157\n",
      "Epoch 4/10, Loss: 0.3578805566303298\n",
      "Accuracy: 0.8451, Precision: 0.8448, Recall: 0.8451, F1-Score: 0.8449\n",
      "Epoch 5/10, Loss: 0.19581714185711313\n",
      "Accuracy: 0.9235, Precision: 0.9235, Recall: 0.9235, F1-Score: 0.9235\n",
      "Epoch 6/10, Loss: 0.11730857793263287\n",
      "Accuracy: 0.9564, Precision: 0.9564, Recall: 0.9564, F1-Score: 0.9564\n",
      "Epoch 7/10, Loss: 0.08205806897895693\n",
      "Accuracy: 0.9698, Precision: 0.9698, Recall: 0.9698, F1-Score: 0.9698\n",
      "Epoch 8/10, Loss: 0.06494690493911273\n",
      "Accuracy: 0.9760, Precision: 0.9760, Recall: 0.9760, F1-Score: 0.9760\n",
      "Epoch 9/10, Loss: 0.05007106474909577\n",
      "Accuracy: 0.9820, Precision: 0.9820, Recall: 0.9820, F1-Score: 0.9820\n",
      "Epoch 10/10, Loss: 0.04672677954832816\n",
      "Accuracy: 0.9832, Precision: 0.9832, Recall: 0.9832, F1-Score: 0.9832\n"
     ]
    }
   ],
   "source": [
    "import joblib\n",
    "\n",
    "optimizer = AdamW(model.parameters(), lr=1e-5, weight_decay=0.01)\n",
    "criterion = torch.nn.CrossEntropyLoss()\n",
    "\n",
    "# Training loop\n",
    "device = torch.device(\"cuda\" if torch.cuda.is_available() else \"cpu\")\n",
    "model.to(device)\n",
    "\n",
    "num_epochs = 10\n",
    "\n",
    "losses = []\n",
    "acc = []\n",
    "prec = []\n",
    "recalls = []\n",
    "f1score = []\n",
    "\n",
    "for epoch in range(num_epochs):\n",
    "    model.train()  # Set model to training mode\n",
    "    running_loss = 0.0\n",
    "    all_preds = []\n",
    "    all_labels = []\n",
    "    \n",
    "    for batch in train_dataloader:\n",
    "        input_ids, attention_mask, labels = [b.to(device) for b in batch]\n",
    "        \n",
    "        # Zero gradients\n",
    "        optimizer.zero_grad()\n",
    "        \n",
    "        # Forward pass\n",
    "        outputs = model(input_ids, attention_mask=attention_mask)\n",
    "        logits = outputs.logits\n",
    "        \n",
    "        # Calculate loss\n",
    "        loss = criterion(logits, labels)\n",
    "        \n",
    "        # Backward pass and optimize\n",
    "        loss.backward()\n",
    "        optimizer.step()\n",
    "        \n",
    "        # Track loss\n",
    "        running_loss += loss.item()\n",
    "        \n",
    "        # Track predictions and labels\n",
    "        preds = logits.argmax(dim=-1)\n",
    "        all_preds.extend(preds.cpu().numpy())\n",
    "        all_labels.extend(labels.cpu().numpy())\n",
    "    \n",
    "    avg_loss = running_loss / len(train_dataloader)\n",
    "\n",
    "    losses.append(avg_loss)\n",
    "    print(f\"Epoch {epoch + 1}/{num_epochs}, Loss: {avg_loss}\")\n",
    "    \n",
    "    # Calculate metrics (accuracy, precision, recall, F1-score)\n",
    "    accuracy = accuracy_score(all_labels, all_preds)\n",
    "    precision, recall, f1, _ = precision_recall_fscore_support(all_labels, all_preds, average='weighted')\n",
    "\n",
    "    acc.append(accuracy)\n",
    "    prec.append(precision)\n",
    "    recalls.append(recall)\n",
    "    f1score.append(f1)\n",
    "\n",
    "    print(f\"Accuracy: {accuracy:.4f}, Precision: {precision:.4f}, Recall: {recall:.4f}, F1-Score: {f1:.4f}\")\n",
    "\n",
    "\n",
    "joblib.dump(model, 'data/model_3.joblib')\n",
    "joblib.dump(tokenizer, 'data/tokenizer_3.joblib')"
   ]
  },
  {
   "cell_type": "code",
   "execution_count": 31,
   "metadata": {},
   "outputs": [
    {
     "data": {
      "text/plain": [
       "['data/tokenizer_3.joblib']"
      ]
     },
     "execution_count": 31,
     "metadata": {},
     "output_type": "execute_result"
    }
   ],
   "source": [
    "import joblib\n",
    "\n",
    "joblib.dump(model, 'data/model_3.joblib')\n",
    "joblib.dump(tokenizer, 'data/tokenizer_3.joblib')"
   ]
  },
  {
   "cell_type": "markdown",
   "metadata": {},
   "source": [
    "### Loss"
   ]
  },
  {
   "cell_type": "code",
   "execution_count": 32,
   "metadata": {},
   "outputs": [
    {
     "data": {
      "image/png": "[encoded data removed]",
      "text/plain": [
       "<Figure size 1000x600 with 1 Axes>"
      ]
     },
     "metadata": {},
     "output_type": "display_data"
    }
   ],
   "source": [
    "plt.figure(figsize=(10, 6))  # Set the figure size\n",
    "plt.plot(losses, label='Training Loss', color='b', marker='o')  # Plot losses\n",
    "plt.title('Training Loss over Epochs')  # Title of the plot\n",
    "plt.xlabel('Epochs')  # Label for the x-axis\n",
    "plt.ylabel('Loss')  # Label for the y-axis\n",
    "plt.legend()  # Add a legend\n",
    "plt.grid(True)  # Show gridlines for better readability\n",
    "plt.show()  # Display the plot"
   ]
  },
  {
   "cell_type": "markdown",
   "metadata": {},
   "source": [
    "### Accuracy, precision, recall, and f1-score"
   ]
  },
  {
   "cell_type": "code",
   "execution_count": 33,
   "metadata": {},
   "outputs": [
    {
     "name": "stdout",
     "output_type": "stream",
     "text": [
      "              precision    recall  f1-score   support\n",
      "\n",
      "           0       0.99      0.99      0.99     14246\n",
      "           1       0.98      0.98      0.98     10641\n",
      "\n",
      "    accuracy                           0.98     24887\n",
      "   macro avg       0.98      0.98      0.98     24887\n",
      "weighted avg       0.98      0.98      0.98     24887\n",
      "\n"
     ]
    }
   ],
   "source": [
    "from sklearn.metrics import classification_report\n",
    "\n",
    "# Print classification report\n",
    "print(classification_report(all_preds, all_labels))\n"
   ]
  },
  {
   "cell_type": "code",
   "execution_count": 34,
   "metadata": {},
   "outputs": [
    {
     "data": {
      "image/png": "[encoded data removed]",
      "text/plain": [
       "<Figure size 1000x600 with 1 Axes>"
      ]
     },
     "metadata": {},
     "output_type": "display_data"
    }
   ],
   "source": [
    "epochs = range(1, len(acc) + 1)\n",
    "\n",
    "# Plotting the metrics\n",
    "plt.figure(figsize=(10, 6))\n",
    "plt.plot(epochs, acc, label='Accuracy', marker='o')\n",
    "plt.plot(epochs, prec, label='Precision', marker='s')\n",
    "plt.plot(epochs, recalls, label='Recall', marker='d')\n",
    "plt.plot(epochs, f1score, label='F1 Score', marker='^')\n",
    "\n",
    "# Adding labels and title\n",
    "plt.xlabel('Epochs')\n",
    "plt.ylabel('Score')\n",
    "plt.title('Performance Metrics Over Epochs')\n",
    "plt.legend()\n",
    "\n",
    "# Display the plot\n",
    "plt.grid(True)\n",
    "plt.show()"
   ]
  },
  {
   "cell_type": "markdown",
   "metadata": {},
   "source": [
    "## Evaluation"
   ]
  },
  {
   "cell_type": "code",
   "execution_count": 2,
   "metadata": {},
   "outputs": [
    {
     "name": "stderr",
     "output_type": "stream",
     "text": [
      "c:\\Users\\fizuf\\anaconda3\\envs\\vidovax-env\\Lib\\site-packages\\tqdm\\auto.py:21: TqdmWarning: IProgress not found. Please update jupyter and ipywidgets. See https://ipywidgets.readthedocs.io/en/stable/user_install.html\n",
      "  from .autonotebook import tqdm as notebook_tqdm\n"
     ]
    }
   ],
   "source": [
    "import joblib \n",
    "\n",
    "model = joblib.load('data/model_2.joblib')\n",
    "tokenizer = joblib.load('data/tokenizer_2.joblib')"
   ]
  },
  {
   "cell_type": "code",
   "execution_count": 35,
   "metadata": {},
   "outputs": [
    {
     "name": "stderr",
     "output_type": "stream",
     "text": [
      "BertSdpaSelfAttention is used but `torch.nn.functional.scaled_dot_product_attention` does not support non-absolute `position_embedding_type` or `output_attentions=True` or `head_mask`. Falling back to the manual attention implementation, but specifying the manual implementation will be required from Transformers version v5.0.0 onwards. This warning can be removed using the argument `attn_implementation=\"eager\"` when loading the model.\n"
     ]
    },
    {
     "name": "stdout",
     "output_type": "stream",
     "text": [
      "Testing - Accuracy: 0.5652, Precision: 0.5581, Recall: 0.5652, F1-Score: 0.5593\n",
      "              precision    recall  f1-score   support\n",
      "\n",
      "           0       0.61      0.67      0.64      6073\n",
      "           1       0.49      0.42      0.45      4594\n",
      "\n",
      "    accuracy                           0.57     10667\n",
      "   macro avg       0.55      0.55      0.55     10667\n",
      "weighted avg       0.56      0.57      0.56     10667\n",
      "\n"
     ]
    }
   ],
   "source": [
    "import torch\n",
    "\n",
    "model.eval()  # Set model to evaluation mode\n",
    "\n",
    "val_preds = []\n",
    "val_labels = []\n",
    "all_attentions = []\n",
    "\n",
    "with torch.no_grad():\n",
    "    for batch in val_dataloader:\n",
    "        input_ids, attention_mask, labels = [b.to(device) for b in batch]\n",
    "        outputs = model(input_ids, attention_mask=attention_mask, output_attentions=True)\n",
    "        attentions = outputs.attentions\n",
    "        all_attentions.append(attentions)\n",
    "        logits = outputs.logits\n",
    "        preds = logits.argmax(dim=-1)\n",
    "        val_preds.extend(preds.cpu().numpy())\n",
    "        val_labels.extend(labels.cpu().numpy())\n",
    "                        \n",
    "    # Validation metrics\n",
    "    val_accuracy = accuracy_score(val_labels, val_preds)\n",
    "    val_precision, val_recall, val_f1, _ = precision_recall_fscore_support(val_labels, val_preds, average='weighted')\n",
    "\n",
    "    print(f\"Testing - Accuracy: {val_accuracy:.4f}, Precision: {val_precision:.4f}, Recall: {val_recall:.4f}, F1-Score: {val_f1:.4f}\")\n",
    "\n",
    "# Print classification report using val_preds and val_labels\n",
    "print(classification_report(val_labels, val_preds))\n"
   ]
  },
  {
   "cell_type": "code",
   "execution_count": 36,
   "metadata": {},
   "outputs": [
    {
     "data": {
      "image/png": "[encoded data removed]",
      "text/plain": [
       "<Figure size 1000x800 with 2 Axes>"
      ]
     },
     "metadata": {},
     "output_type": "display_data"
    }
   ],
   "source": [
    "layer = 0  # First layer\n",
    "head = 0   # First attention head\n",
    "attention_weights = attentions[layer][0, head].cpu().numpy()\n",
    "\n",
    "plt.figure(figsize=(10, 8))\n",
    "sns.heatmap(attention_weights, annot=False, cmap='viridis')\n",
    "plt.title(f\"Attention Weights - Layer {layer}, Head {head}\")\n",
    "plt.show()"
   ]
  }
 ],
 "metadata": {
  "kernelspec": {
   "display_name": "vidovax-env",
   "language": "python",
   "name": "python3"
  },
  "language_info": {
   "codemirror_mode": {
    "name": "ipython",
    "version": 3
   },
   "file_extension": ".py",
   "mimetype": "text/x-python",
   "name": "python",
   "nbconvert_exporter": "python",
   "pygments_lexer": "ipython3",
   "version": "3.11.11"
  }
 },
 "nbformat": 4,
 "nbformat_minor": 2
}
