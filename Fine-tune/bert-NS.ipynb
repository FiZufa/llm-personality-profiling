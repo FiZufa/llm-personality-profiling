{
 "cells": [
  {
   "cell_type": "markdown",
   "metadata": {},
   "source": [
    "# Fine Tune"
   ]
  },
  {
   "cell_type": "code",
   "execution_count": 1,
   "metadata": {},
   "outputs": [
    {
     "name": "stderr",
     "output_type": "stream",
     "text": [
      "c:\\Users\\fizuf\\anaconda3\\envs\\vidovax-env\\Lib\\site-packages\\tqdm\\auto.py:21: TqdmWarning: IProgress not found. Please update jupyter and ipywidgets. See https://ipywidgets.readthedocs.io/en/stable/user_install.html\n",
      "  from .autonotebook import tqdm as notebook_tqdm\n"
     ]
    }
   ],
   "source": [
    "import pandas as pd\n",
    "import numpy as np\n",
    "import matplotlib.pyplot as plt\n",
    "import seaborn as sns\n",
    "\n",
    "from transformers import BertTokenizer, BertModel, BertForSequenceClassification, AdamW\n",
    "\n",
    "from sklearn.model_selection import train_test_split\n",
    "from sklearn.utils.class_weight import compute_class_weight\n",
    "from sklearn.preprocessing import LabelEncoder\n",
    "from sklearn.metrics import accuracy_score, precision_recall_fscore_support, classification_report\n",
    "\n",
    "import torch\n",
    "import torch.utils.data\n",
    "from torch.utils.data import DataLoader, TensorDataset\n",
    "\n",
    "import tqdm as tqdm"
   ]
  },
  {
   "cell_type": "markdown",
   "metadata": {},
   "source": [
    "## Prepare Dataset"
   ]
  },
  {
   "cell_type": "code",
   "execution_count": 2,
   "metadata": {},
   "outputs": [],
   "source": [
    "mbti_df = pd.read_csv('../processed/all_data_3.csv')"
   ]
  },
  {
   "cell_type": "code",
   "execution_count": 3,
   "metadata": {},
   "outputs": [
    {
     "data": {
      "text/html": [
       "<div>\n",
       "<style scoped>\n",
       "    .dataframe tbody tr th:only-of-type {\n",
       "        vertical-align: middle;\n",
       "    }\n",
       "\n",
       "    .dataframe tbody tr th {\n",
       "        vertical-align: top;\n",
       "    }\n",
       "\n",
       "    .dataframe thead th {\n",
       "        text-align: right;\n",
       "    }\n",
       "</style>\n",
       "<table border=\"1\" class=\"dataframe\">\n",
       "  <thead>\n",
       "    <tr style=\"text-align: right;\">\n",
       "      <th></th>\n",
       "      <th>Unnamed: 0</th>\n",
       "      <th>type</th>\n",
       "      <th>tweet</th>\n",
       "    </tr>\n",
       "  </thead>\n",
       "  <tbody>\n",
       "    <tr>\n",
       "      <th>0</th>\n",
       "      <td>0</td>\n",
       "      <td>ISFJ</td>\n",
       "      <td>Mindhunter, Broadchurch, The Sinner, Orphan Bl...</td>\n",
       "    </tr>\n",
       "    <tr>\n",
       "      <th>1</th>\n",
       "      <td>1</td>\n",
       "      <td>ISFJ</td>\n",
       "      <td>Tinder has your health in mind.</td>\n",
       "    </tr>\n",
       "    <tr>\n",
       "      <th>2</th>\n",
       "      <td>2</td>\n",
       "      <td>ISFJ</td>\n",
       "      <td>5 of 5 stars to Pretty Face by Lucy Parker</td>\n",
       "    </tr>\n",
       "    <tr>\n",
       "      <th>3</th>\n",
       "      <td>3</td>\n",
       "      <td>ISFJ</td>\n",
       "      <td>Outstanding faculty from and more at Winter Co...</td>\n",
       "    </tr>\n",
       "    <tr>\n",
       "      <th>4</th>\n",
       "      <td>4</td>\n",
       "      <td>ISFJ</td>\n",
       "      <td>Using pray and wait on God, can be a means of ...</td>\n",
       "    </tr>\n",
       "    <tr>\n",
       "      <th>...</th>\n",
       "      <td>...</td>\n",
       "      <td>...</td>\n",
       "      <td>...</td>\n",
       "    </tr>\n",
       "    <tr>\n",
       "      <th>106322</th>\n",
       "      <td>106322</td>\n",
       "      <td>ESTP</td>\n",
       "      <td>This is so legit holy shit lol I work in rando...</td>\n",
       "    </tr>\n",
       "    <tr>\n",
       "      <th>106323</th>\n",
       "      <td>106323</td>\n",
       "      <td>ESTP</td>\n",
       "      <td>Same here When Im in a group Im fairly quiet u...</td>\n",
       "    </tr>\n",
       "    <tr>\n",
       "      <th>106324</th>\n",
       "      <td>106324</td>\n",
       "      <td>ESTJ</td>\n",
       "      <td>Im more worried about the idea that we are sla...</td>\n",
       "    </tr>\n",
       "    <tr>\n",
       "      <th>106325</th>\n",
       "      <td>106325</td>\n",
       "      <td>ESTP</td>\n",
       "      <td>Believing you dont have ethics is still an eth...</td>\n",
       "    </tr>\n",
       "    <tr>\n",
       "      <th>106326</th>\n",
       "      <td>106326</td>\n",
       "      <td>ESFP</td>\n",
       "      <td>You sound like such a spergelord In my experie...</td>\n",
       "    </tr>\n",
       "  </tbody>\n",
       "</table>\n",
       "<p>106327 rows × 3 columns</p>\n",
       "</div>"
      ],
      "text/plain": [
       "        Unnamed: 0  type                                              tweet\n",
       "0                0  ISFJ  Mindhunter, Broadchurch, The Sinner, Orphan Bl...\n",
       "1                1  ISFJ                    Tinder has your health in mind.\n",
       "2                2  ISFJ         5 of 5 stars to Pretty Face by Lucy Parker\n",
       "3                3  ISFJ  Outstanding faculty from and more at Winter Co...\n",
       "4                4  ISFJ  Using pray and wait on God, can be a means of ...\n",
       "...            ...   ...                                                ...\n",
       "106322      106322  ESTP  This is so legit holy shit lol I work in rando...\n",
       "106323      106323  ESTP  Same here When Im in a group Im fairly quiet u...\n",
       "106324      106324  ESTJ  Im more worried about the idea that we are sla...\n",
       "106325      106325  ESTP  Believing you dont have ethics is still an eth...\n",
       "106326      106326  ESFP  You sound like such a spergelord In my experie...\n",
       "\n",
       "[106327 rows x 3 columns]"
      ]
     },
     "execution_count": 3,
     "metadata": {},
     "output_type": "execute_result"
    }
   ],
   "source": [
    "mbti_df"
   ]
  },
  {
   "cell_type": "markdown",
   "metadata": {},
   "source": [
    "### Add column `introvert_extrovert`"
   ]
  },
  {
   "cell_type": "code",
   "execution_count": 4,
   "metadata": {},
   "outputs": [],
   "source": [
    "mbti_df['intuition_sensing'] = mbti_df['type'].apply(lambda x: 'Intuition' if x[1] == 'N' else 'Sensing')"
   ]
  },
  {
   "cell_type": "code",
   "execution_count": 5,
   "metadata": {},
   "outputs": [
    {
     "data": {
      "text/html": [
       "<div>\n",
       "<style scoped>\n",
       "    .dataframe tbody tr th:only-of-type {\n",
       "        vertical-align: middle;\n",
       "    }\n",
       "\n",
       "    .dataframe tbody tr th {\n",
       "        vertical-align: top;\n",
       "    }\n",
       "\n",
       "    .dataframe thead th {\n",
       "        text-align: right;\n",
       "    }\n",
       "</style>\n",
       "<table border=\"1\" class=\"dataframe\">\n",
       "  <thead>\n",
       "    <tr style=\"text-align: right;\">\n",
       "      <th></th>\n",
       "      <th>Unnamed: 0</th>\n",
       "      <th>type</th>\n",
       "      <th>tweet</th>\n",
       "      <th>intuition_sensing</th>\n",
       "    </tr>\n",
       "  </thead>\n",
       "  <tbody>\n",
       "    <tr>\n",
       "      <th>63912</th>\n",
       "      <td>63912</td>\n",
       "      <td>INTP</td>\n",
       "      <td>thank you all for your replies this community ...</td>\n",
       "      <td>Intuition</td>\n",
       "    </tr>\n",
       "    <tr>\n",
       "      <th>10099</th>\n",
       "      <td>10099</td>\n",
       "      <td>ENFP</td>\n",
       "      <td>have you ever been a public setting where some...</td>\n",
       "      <td>Intuition</td>\n",
       "    </tr>\n",
       "    <tr>\n",
       "      <th>48009</th>\n",
       "      <td>48009</td>\n",
       "      <td>INFP</td>\n",
       "      <td>i think your avatar sums it all up pretty well...</td>\n",
       "      <td>Intuition</td>\n",
       "    </tr>\n",
       "    <tr>\n",
       "      <th>71910</th>\n",
       "      <td>71910</td>\n",
       "      <td>ISFP</td>\n",
       "      <td>Just ignore this person You didnt ask for opin...</td>\n",
       "      <td>Sensing</td>\n",
       "    </tr>\n",
       "    <tr>\n",
       "      <th>19481</th>\n",
       "      <td>19481</td>\n",
       "      <td>ENTJ</td>\n",
       "      <td>it will take awhile for me but thats only beca...</td>\n",
       "      <td>Intuition</td>\n",
       "    </tr>\n",
       "    <tr>\n",
       "      <th>38097</th>\n",
       "      <td>38097</td>\n",
       "      <td>INFJ</td>\n",
       "      <td>wow really it depends on what you find intelle...</td>\n",
       "      <td>Intuition</td>\n",
       "    </tr>\n",
       "    <tr>\n",
       "      <th>94340</th>\n",
       "      <td>94340</td>\n",
       "      <td>ESFJ</td>\n",
       "      <td>im sure you are right that it does take a shit...</td>\n",
       "      <td>Sensing</td>\n",
       "    </tr>\n",
       "    <tr>\n",
       "      <th>71619</th>\n",
       "      <td>71619</td>\n",
       "      <td>ISFP</td>\n",
       "      <td>color come to realize that i need to spend mor...</td>\n",
       "      <td>Sensing</td>\n",
       "    </tr>\n",
       "    <tr>\n",
       "      <th>82674</th>\n",
       "      <td>82674</td>\n",
       "      <td>ISTP</td>\n",
       "      <td>Ah yea youtube has never and will never be MP3...</td>\n",
       "      <td>Sensing</td>\n",
       "    </tr>\n",
       "    <tr>\n",
       "      <th>20163</th>\n",
       "      <td>20163</td>\n",
       "      <td>ENTJ</td>\n",
       "      <td>Oh you know why I stated she was bipolar Tell ...</td>\n",
       "      <td>Intuition</td>\n",
       "    </tr>\n",
       "  </tbody>\n",
       "</table>\n",
       "</div>"
      ],
      "text/plain": [
       "       Unnamed: 0  type                                              tweet  \\\n",
       "63912       63912  INTP  thank you all for your replies this community ...   \n",
       "10099       10099  ENFP  have you ever been a public setting where some...   \n",
       "48009       48009  INFP  i think your avatar sums it all up pretty well...   \n",
       "71910       71910  ISFP  Just ignore this person You didnt ask for opin...   \n",
       "19481       19481  ENTJ  it will take awhile for me but thats only beca...   \n",
       "38097       38097  INFJ  wow really it depends on what you find intelle...   \n",
       "94340       94340  ESFJ  im sure you are right that it does take a shit...   \n",
       "71619       71619  ISFP  color come to realize that i need to spend mor...   \n",
       "82674       82674  ISTP  Ah yea youtube has never and will never be MP3...   \n",
       "20163       20163  ENTJ  Oh you know why I stated she was bipolar Tell ...   \n",
       "\n",
       "      intuition_sensing  \n",
       "63912         Intuition  \n",
       "10099         Intuition  \n",
       "48009         Intuition  \n",
       "71910           Sensing  \n",
       "19481         Intuition  \n",
       "38097         Intuition  \n",
       "94340           Sensing  \n",
       "71619           Sensing  \n",
       "82674           Sensing  \n",
       "20163         Intuition  "
      ]
     },
     "execution_count": 5,
     "metadata": {},
     "output_type": "execute_result"
    }
   ],
   "source": [
    "mbti_df.sample(10)"
   ]
  },
  {
   "cell_type": "markdown",
   "metadata": {},
   "source": [
    "### Consider only posts with length < 32 words"
   ]
  },
  {
   "cell_type": "code",
   "execution_count": 6,
   "metadata": {},
   "outputs": [],
   "source": [
    "mbti_df = mbti_df[mbti_df['tweet'].str.split().str.len() < 32]"
   ]
  },
  {
   "cell_type": "code",
   "execution_count": 7,
   "metadata": {},
   "outputs": [
    {
     "data": {
      "text/html": [
       "<div>\n",
       "<style scoped>\n",
       "    .dataframe tbody tr th:only-of-type {\n",
       "        vertical-align: middle;\n",
       "    }\n",
       "\n",
       "    .dataframe tbody tr th {\n",
       "        vertical-align: top;\n",
       "    }\n",
       "\n",
       "    .dataframe thead th {\n",
       "        text-align: right;\n",
       "    }\n",
       "</style>\n",
       "<table border=\"1\" class=\"dataframe\">\n",
       "  <thead>\n",
       "    <tr style=\"text-align: right;\">\n",
       "      <th></th>\n",
       "      <th>Unnamed: 0</th>\n",
       "      <th>type</th>\n",
       "      <th>tweet</th>\n",
       "      <th>intuition_sensing</th>\n",
       "    </tr>\n",
       "  </thead>\n",
       "  <tbody>\n",
       "    <tr>\n",
       "      <th>0</th>\n",
       "      <td>0</td>\n",
       "      <td>ISFJ</td>\n",
       "      <td>Mindhunter, Broadchurch, The Sinner, Orphan Bl...</td>\n",
       "      <td>Sensing</td>\n",
       "    </tr>\n",
       "    <tr>\n",
       "      <th>1</th>\n",
       "      <td>1</td>\n",
       "      <td>ISFJ</td>\n",
       "      <td>Tinder has your health in mind.</td>\n",
       "      <td>Sensing</td>\n",
       "    </tr>\n",
       "    <tr>\n",
       "      <th>2</th>\n",
       "      <td>2</td>\n",
       "      <td>ISFJ</td>\n",
       "      <td>5 of 5 stars to Pretty Face by Lucy Parker</td>\n",
       "      <td>Sensing</td>\n",
       "    </tr>\n",
       "    <tr>\n",
       "      <th>3</th>\n",
       "      <td>3</td>\n",
       "      <td>ISFJ</td>\n",
       "      <td>Outstanding faculty from and more at Winter Co...</td>\n",
       "      <td>Sensing</td>\n",
       "    </tr>\n",
       "    <tr>\n",
       "      <th>4</th>\n",
       "      <td>4</td>\n",
       "      <td>ISFJ</td>\n",
       "      <td>Using pray and wait on God, can be a means of ...</td>\n",
       "      <td>Sensing</td>\n",
       "    </tr>\n",
       "    <tr>\n",
       "      <th>...</th>\n",
       "      <td>...</td>\n",
       "      <td>...</td>\n",
       "      <td>...</td>\n",
       "      <td>...</td>\n",
       "    </tr>\n",
       "    <tr>\n",
       "      <th>106313</th>\n",
       "      <td>106313</td>\n",
       "      <td>ESTP</td>\n",
       "      <td>True I do end up the mentor but I feel like Yo...</td>\n",
       "      <td>Sensing</td>\n",
       "    </tr>\n",
       "    <tr>\n",
       "      <th>106321</th>\n",
       "      <td>106321</td>\n",
       "      <td>ESFP</td>\n",
       "      <td>LOL and thats why I got sort of mad because th...</td>\n",
       "      <td>Sensing</td>\n",
       "    </tr>\n",
       "    <tr>\n",
       "      <th>106322</th>\n",
       "      <td>106322</td>\n",
       "      <td>ESTP</td>\n",
       "      <td>This is so legit holy shit lol I work in rando...</td>\n",
       "      <td>Sensing</td>\n",
       "    </tr>\n",
       "    <tr>\n",
       "      <th>106324</th>\n",
       "      <td>106324</td>\n",
       "      <td>ESTJ</td>\n",
       "      <td>Im more worried about the idea that we are sla...</td>\n",
       "      <td>Sensing</td>\n",
       "    </tr>\n",
       "    <tr>\n",
       "      <th>106325</th>\n",
       "      <td>106325</td>\n",
       "      <td>ESTP</td>\n",
       "      <td>Believing you dont have ethics is still an eth...</td>\n",
       "      <td>Sensing</td>\n",
       "    </tr>\n",
       "  </tbody>\n",
       "</table>\n",
       "<p>35554 rows × 4 columns</p>\n",
       "</div>"
      ],
      "text/plain": [
       "        Unnamed: 0  type                                              tweet  \\\n",
       "0                0  ISFJ  Mindhunter, Broadchurch, The Sinner, Orphan Bl...   \n",
       "1                1  ISFJ                    Tinder has your health in mind.   \n",
       "2                2  ISFJ         5 of 5 stars to Pretty Face by Lucy Parker   \n",
       "3                3  ISFJ  Outstanding faculty from and more at Winter Co...   \n",
       "4                4  ISFJ  Using pray and wait on God, can be a means of ...   \n",
       "...            ...   ...                                                ...   \n",
       "106313      106313  ESTP  True I do end up the mentor but I feel like Yo...   \n",
       "106321      106321  ESFP  LOL and thats why I got sort of mad because th...   \n",
       "106322      106322  ESTP  This is so legit holy shit lol I work in rando...   \n",
       "106324      106324  ESTJ  Im more worried about the idea that we are sla...   \n",
       "106325      106325  ESTP  Believing you dont have ethics is still an eth...   \n",
       "\n",
       "       intuition_sensing  \n",
       "0                Sensing  \n",
       "1                Sensing  \n",
       "2                Sensing  \n",
       "3                Sensing  \n",
       "4                Sensing  \n",
       "...                  ...  \n",
       "106313           Sensing  \n",
       "106321           Sensing  \n",
       "106322           Sensing  \n",
       "106324           Sensing  \n",
       "106325           Sensing  \n",
       "\n",
       "[35554 rows x 4 columns]"
      ]
     },
     "execution_count": 7,
     "metadata": {},
     "output_type": "execute_result"
    }
   ],
   "source": [
    "mbti_df"
   ]
  },
  {
   "cell_type": "code",
   "execution_count": 8,
   "metadata": {},
   "outputs": [],
   "source": [
    "mbti_df = mbti_df.drop(columns=['Unnamed: 0'])"
   ]
  },
  {
   "cell_type": "code",
   "execution_count": 9,
   "metadata": {},
   "outputs": [
    {
     "data": {
      "text/html": [
       "<div>\n",
       "<style scoped>\n",
       "    .dataframe tbody tr th:only-of-type {\n",
       "        vertical-align: middle;\n",
       "    }\n",
       "\n",
       "    .dataframe tbody tr th {\n",
       "        vertical-align: top;\n",
       "    }\n",
       "\n",
       "    .dataframe thead th {\n",
       "        text-align: right;\n",
       "    }\n",
       "</style>\n",
       "<table border=\"1\" class=\"dataframe\">\n",
       "  <thead>\n",
       "    <tr style=\"text-align: right;\">\n",
       "      <th></th>\n",
       "      <th>type</th>\n",
       "      <th>tweet</th>\n",
       "      <th>intuition_sensing</th>\n",
       "    </tr>\n",
       "  </thead>\n",
       "  <tbody>\n",
       "    <tr>\n",
       "      <th>64561</th>\n",
       "      <td>INTP</td>\n",
       "      <td>I can stare into someones eyes possibly foreve...</td>\n",
       "      <td>Intuition</td>\n",
       "    </tr>\n",
       "    <tr>\n",
       "      <th>14471</th>\n",
       "      <td>ENFP</td>\n",
       "      <td>welcome i hope you have fun most people here a...</td>\n",
       "      <td>Intuition</td>\n",
       "    </tr>\n",
       "    <tr>\n",
       "      <th>43686</th>\n",
       "      <td>INFP</td>\n",
       "      <td>i dreamt that i was a celebrity it was so depr...</td>\n",
       "      <td>Intuition</td>\n",
       "    </tr>\n",
       "    <tr>\n",
       "      <th>402</th>\n",
       "      <td>ISFJ</td>\n",
       "      <td>Today, with hope rather than fear.</td>\n",
       "      <td>Sensing</td>\n",
       "    </tr>\n",
       "    <tr>\n",
       "      <th>81752</th>\n",
       "      <td>ISTP</td>\n",
       "      <td>In a nonprojective way please so that I dont h...</td>\n",
       "      <td>Sensing</td>\n",
       "    </tr>\n",
       "    <tr>\n",
       "      <th>30352</th>\n",
       "      <td>ENTP</td>\n",
       "      <td>Oh I dont fit in lol But thanks for the advice...</td>\n",
       "      <td>Intuition</td>\n",
       "    </tr>\n",
       "    <tr>\n",
       "      <th>59393</th>\n",
       "      <td>INTP</td>\n",
       "      <td>Bring food and water Maybe a neck pillow If yo...</td>\n",
       "      <td>Intuition</td>\n",
       "    </tr>\n",
       "    <tr>\n",
       "      <th>85617</th>\n",
       "      <td>ISTP</td>\n",
       "      <td>Heyo Former Austinite here We went to a vintag...</td>\n",
       "      <td>Sensing</td>\n",
       "    </tr>\n",
       "    <tr>\n",
       "      <th>51651</th>\n",
       "      <td>INTJ</td>\n",
       "      <td>no you start itrolleyestongue this is a sword ...</td>\n",
       "      <td>Intuition</td>\n",
       "    </tr>\n",
       "    <tr>\n",
       "      <th>100128</th>\n",
       "      <td>ESFP</td>\n",
       "      <td>Davis is I s t j Jaime is e s t p Ramsey e n t...</td>\n",
       "      <td>Sensing</td>\n",
       "    </tr>\n",
       "  </tbody>\n",
       "</table>\n",
       "</div>"
      ],
      "text/plain": [
       "        type                                              tweet  \\\n",
       "64561   INTP  I can stare into someones eyes possibly foreve...   \n",
       "14471   ENFP  welcome i hope you have fun most people here a...   \n",
       "43686   INFP  i dreamt that i was a celebrity it was so depr...   \n",
       "402     ISFJ                Today, with hope rather than fear.    \n",
       "81752   ISTP  In a nonprojective way please so that I dont h...   \n",
       "30352   ENTP  Oh I dont fit in lol But thanks for the advice...   \n",
       "59393   INTP  Bring food and water Maybe a neck pillow If yo...   \n",
       "85617   ISTP  Heyo Former Austinite here We went to a vintag...   \n",
       "51651   INTJ  no you start itrolleyestongue this is a sword ...   \n",
       "100128  ESFP  Davis is I s t j Jaime is e s t p Ramsey e n t...   \n",
       "\n",
       "       intuition_sensing  \n",
       "64561          Intuition  \n",
       "14471          Intuition  \n",
       "43686          Intuition  \n",
       "402              Sensing  \n",
       "81752            Sensing  \n",
       "30352          Intuition  \n",
       "59393          Intuition  \n",
       "85617            Sensing  \n",
       "51651          Intuition  \n",
       "100128           Sensing  "
      ]
     },
     "execution_count": 9,
     "metadata": {},
     "output_type": "execute_result"
    }
   ],
   "source": [
    "mbti_df.sample(10)"
   ]
  },
  {
   "cell_type": "code",
   "execution_count": 10,
   "metadata": {},
   "outputs": [
    {
     "name": "stderr",
     "output_type": "stream",
     "text": [
      "C:\\Users\\fizuf\\AppData\\Local\\Temp\\ipykernel_23156\\1952733437.py:6: FutureWarning: \n",
      "\n",
      "Passing `palette` without assigning `hue` is deprecated and will be removed in v0.14.0. Assign the `x` variable to `hue` and set `legend=False` for the same effect.\n",
      "\n",
      "  ax = sns.barplot(data=mbti_df_grouped, x='intuition_sensing', y='n_posts', palette='husl')\n"
     ]
    },
    {
     "data": {
      "image/png": "[encoded data removed]",
      "text/plain": [
       "<Figure size 1000x600 with 1 Axes>"
      ]
     },
     "metadata": {},
     "output_type": "display_data"
    }
   ],
   "source": [
    "mbti_df_grouped = mbti_df.groupby('intuition_sensing').size().reset_index(name='n_posts')\n",
    "mbti_df_grouped = mbti_df_grouped.sort_values(by='n_posts', ascending=False)\n",
    "mbti_df_grouped.columns = ['intuition_sensing', 'n_posts']\n",
    "\n",
    "plt.figure(figsize=(10, 6))\n",
    "ax = sns.barplot(data=mbti_df_grouped, x='intuition_sensing', y='n_posts', palette='husl')\n",
    "\n",
    "# Add annotations (number of users above each bar)\n",
    "for p in ax.patches:\n",
    "    ax.annotate(f'{int(p.get_height())}', \n",
    "                (p.get_x() + p.get_width() / 2, p.get_height()), \n",
    "                ha='center', va='bottom', fontsize=8, color='black')\n",
    "\n",
    "plt.title('Distribution by intuition and sensing', fontsize=16, fontweight='bold', pad=16)\n",
    "plt.xlabel('Intuition (N) or Sensing (S)', fontsize=12)\n",
    "plt.ylabel('Number of posts', fontsize=12)\n",
    "\n",
    "plt.show()"
   ]
  },
  {
   "cell_type": "code",
   "execution_count": 11,
   "metadata": {},
   "outputs": [],
   "source": [
    "mbti_labels_dict = {\n",
    "    'Intuition': 0,\n",
    "    'Sensing': 1,\n",
    "}"
   ]
  },
  {
   "cell_type": "markdown",
   "metadata": {},
   "source": [
    "### Split datasets"
   ]
  },
  {
   "cell_type": "code",
   "execution_count": 12,
   "metadata": {},
   "outputs": [],
   "source": [
    "X = mbti_df['tweet']\n",
    "y = mbti_df['intuition_sensing']\n",
    "\n",
    "y = y.map(mbti_labels_dict)"
   ]
  },
  {
   "cell_type": "code",
   "execution_count": 13,
   "metadata": {},
   "outputs": [
    {
     "name": "stdout",
     "output_type": "stream",
     "text": [
      "Using device: cpu\n"
     ]
    }
   ],
   "source": [
    "device = torch.device(\"cuda\" if torch.cuda.is_available() else \"cpu\")\n",
    "\n",
    "print(f\"Using device: {device}\")"
   ]
  },
  {
   "cell_type": "markdown",
   "metadata": {},
   "source": [
    "### Fine Tune BERT"
   ]
  },
  {
   "cell_type": "code",
   "execution_count": 14,
   "metadata": {},
   "outputs": [
    {
     "name": "stderr",
     "output_type": "stream",
     "text": [
      "Some weights of BertForSequenceClassification were not initialized from the model checkpoint at bert-base-uncased and are newly initialized: ['classifier.bias', 'classifier.weight']\n",
      "You should probably TRAIN this model on a down-stream task to be able to use it for predictions and inference.\n"
     ]
    }
   ],
   "source": [
    "tokenizer = BertTokenizer.from_pretrained('bert-base-uncased')\n",
    "model = BertForSequenceClassification.from_pretrained('bert-base-uncased', num_labels=2)  \n",
    "model.config.hidden_dropout_prob = 0.3"
   ]
  },
  {
   "cell_type": "code",
   "execution_count": 15,
   "metadata": {},
   "outputs": [],
   "source": [
    "inputs = tokenizer(X.tolist(), padding=True, truncation=True, max_length=32, return_tensors='pt')\n",
    "labels = torch.tensor(y.values) \n",
    "\n",
    "train_dataset = torch.utils.data.TensorDataset(inputs['input_ids'], inputs['attention_mask'], labels)\n",
    "\n",
    "train_dataset, val_dataset = train_test_split(train_dataset, test_size=0.3)\n",
    "\n",
    "train_dataloader = DataLoader(train_dataset, batch_size=16, shuffle=True)\n",
    "val_dataloader = DataLoader(val_dataset, batch_size=16)"
   ]
  },
  {
   "cell_type": "code",
   "execution_count": 16,
   "metadata": {},
   "outputs": [
    {
     "name": "stderr",
     "output_type": "stream",
     "text": [
      "c:\\Users\\fizuf\\anaconda3\\envs\\vidovax-env\\Lib\\site-packages\\transformers\\optimization.py:591: FutureWarning: This implementation of AdamW is deprecated and will be removed in a future version. Use the PyTorch implementation torch.optim.AdamW instead, or set `no_deprecation_warning=True` to disable this warning\n",
      "  warnings.warn(\n"
     ]
    },
    {
     "name": "stdout",
     "output_type": "stream",
     "text": [
      "Epoch 1/10, Loss: 0.6758029142772937\n",
      "Accuracy: 0.5834, Precision: 0.5598, Recall: 0.5834, F1-Score: 0.5230\n",
      "Epoch 2/10, Loss: 0.6363924746341755\n",
      "Accuracy: 0.6316, Precision: 0.6245, Recall: 0.6316, F1-Score: 0.6101\n",
      "Epoch 3/10, Loss: 0.548577724891334\n",
      "Accuracy: 0.7161, Precision: 0.7138, Recall: 0.7161, F1-Score: 0.7111\n",
      "Epoch 4/10, Loss: 0.3687905502244639\n",
      "Accuracy: 0.8370, Precision: 0.8365, Recall: 0.8370, F1-Score: 0.8361\n",
      "Epoch 5/10, Loss: 0.20798665793986085\n",
      "Accuracy: 0.9164, Precision: 0.9163, Recall: 0.9164, F1-Score: 0.9162\n",
      "Epoch 6/10, Loss: 0.11973427595920229\n",
      "Accuracy: 0.9540, Precision: 0.9539, Recall: 0.9540, F1-Score: 0.9539\n",
      "Epoch 7/10, Loss: 0.08551960929798484\n",
      "Accuracy: 0.9671, Precision: 0.9670, Recall: 0.9671, F1-Score: 0.9670\n",
      "Epoch 8/10, Loss: 0.06612746879513942\n",
      "Accuracy: 0.9752, Precision: 0.9752, Recall: 0.9752, F1-Score: 0.9752\n",
      "Epoch 9/10, Loss: 0.05453462919212398\n",
      "Accuracy: 0.9797, Precision: 0.9797, Recall: 0.9797, F1-Score: 0.9797\n",
      "Epoch 10/10, Loss: 0.04432263313069913\n",
      "Accuracy: 0.9838, Precision: 0.9838, Recall: 0.9838, F1-Score: 0.9838\n"
     ]
    },
    {
     "data": {
      "text/plain": [
       "['data/tokenizer_4.joblib']"
      ]
     },
     "execution_count": 16,
     "metadata": {},
     "output_type": "execute_result"
    }
   ],
   "source": [
    "import joblib\n",
    "\n",
    "optimizer = AdamW(model.parameters(), lr=1e-5, weight_decay=0.01)\n",
    "criterion = torch.nn.CrossEntropyLoss()\n",
    "\n",
    "# Training loop\n",
    "device = torch.device(\"cuda\" if torch.cuda.is_available() else \"cpu\")\n",
    "model.to(device)\n",
    "\n",
    "num_epochs = 10\n",
    "\n",
    "losses = []\n",
    "acc = []\n",
    "prec = []\n",
    "recalls = []\n",
    "f1score = []\n",
    "\n",
    "for epoch in range(num_epochs):\n",
    "    model.train()  # Set model to training mode\n",
    "    running_loss = 0.0\n",
    "    all_preds = []\n",
    "    all_labels = []\n",
    "    \n",
    "    for batch in train_dataloader:\n",
    "        input_ids, attention_mask, labels = [b.to(device) for b in batch]\n",
    "        \n",
    "        # Zero gradients\n",
    "        optimizer.zero_grad()\n",
    "        \n",
    "        # Forward pass\n",
    "        outputs = model(input_ids, attention_mask=attention_mask)\n",
    "        logits = outputs.logits\n",
    "        \n",
    "        # Calculate loss\n",
    "        loss = criterion(logits, labels)\n",
    "        \n",
    "        # Backward pass and optimize\n",
    "        loss.backward()\n",
    "        optimizer.step()\n",
    "        \n",
    "        # Track loss\n",
    "        running_loss += loss.item()\n",
    "        \n",
    "        # Track predictions and labels\n",
    "        preds = logits.argmax(dim=-1)\n",
    "        all_preds.extend(preds.cpu().numpy())\n",
    "        all_labels.extend(labels.cpu().numpy())\n",
    "    \n",
    "    avg_loss = running_loss / len(train_dataloader)\n",
    "\n",
    "    losses.append(avg_loss)\n",
    "    print(f\"Epoch {epoch + 1}/{num_epochs}, Loss: {avg_loss}\")\n",
    "    \n",
    "    # Calculate metrics (accuracy, precision, recall, F1-score)\n",
    "    accuracy = accuracy_score(all_labels, all_preds)\n",
    "    precision, recall, f1, _ = precision_recall_fscore_support(all_labels, all_preds, average='weighted')\n",
    "\n",
    "    acc.append(accuracy)\n",
    "    prec.append(precision)\n",
    "    recalls.append(recall)\n",
    "    f1score.append(f1)\n",
    "\n",
    "    print(f\"Accuracy: {accuracy:.4f}, Precision: {precision:.4f}, Recall: {recall:.4f}, F1-Score: {f1:.4f}\")\n",
    "\n",
    "\n",
    "joblib.dump(model, 'data/model_4.joblib')\n",
    "joblib.dump(tokenizer, 'data/tokenizer_4.joblib')"
   ]
  },
  {
   "cell_type": "code",
   "execution_count": 31,
   "metadata": {},
   "outputs": [
    {
     "data": {
      "text/plain": [
       "['data/tokenizer_3.joblib']"
      ]
     },
     "execution_count": 31,
     "metadata": {},
     "output_type": "execute_result"
    }
   ],
   "source": [
    "import joblib\n",
    "\n",
    "joblib.dump(model, 'data/model_3.joblib')\n",
    "joblib.dump(tokenizer, 'data/tokenizer_3.joblib')"
   ]
  },
  {
   "cell_type": "markdown",
   "metadata": {},
   "source": [
    "### Loss"
   ]
  },
  {
   "cell_type": "code",
   "execution_count": 17,
   "metadata": {},
   "outputs": [
    {
     "data": {
      "image/png": "[encoded data removed]",
      "text/plain": [
       "<Figure size 1000x600 with 1 Axes>"
      ]
     },
     "metadata": {},
     "output_type": "display_data"
    }
   ],
   "source": [
    "plt.figure(figsize=(10, 6))  # Set the figure size\n",
    "plt.plot(losses, label='Training Loss', color='b', marker='o')  # Plot losses\n",
    "plt.title('Training Loss over Epochs')  # Title of the plot\n",
    "plt.xlabel('Epochs')  # Label for the x-axis\n",
    "plt.ylabel('Loss')  # Label for the y-axis\n",
    "plt.legend()  # Add a legend\n",
    "plt.grid(True)  # Show gridlines for better readability\n",
    "plt.show()  # Display the plot"
   ]
  },
  {
   "cell_type": "markdown",
   "metadata": {},
   "source": [
    "### Accuracy, precision, recall, and f1-score"
   ]
  },
  {
   "cell_type": "code",
   "execution_count": 18,
   "metadata": {},
   "outputs": [
    {
     "name": "stdout",
     "output_type": "stream",
     "text": [
      "              precision    recall  f1-score   support\n",
      "\n",
      "           0       0.99      0.99      0.99     14462\n",
      "           1       0.98      0.98      0.98     10425\n",
      "\n",
      "    accuracy                           0.98     24887\n",
      "   macro avg       0.98      0.98      0.98     24887\n",
      "weighted avg       0.98      0.98      0.98     24887\n",
      "\n"
     ]
    }
   ],
   "source": [
    "from sklearn.metrics import classification_report\n",
    "\n",
    "# Print classification report\n",
    "print(classification_report(all_preds, all_labels))\n"
   ]
  },
  {
   "cell_type": "code",
   "execution_count": 19,
   "metadata": {},
   "outputs": [
    {
     "data": {
      "image/png": "[encoded data removed]",
      "text/plain": [
       "<Figure size 1000x600 with 1 Axes>"
      ]
     },
     "metadata": {},
     "output_type": "display_data"
    }
   ],
   "source": [
    "epochs = range(1, len(acc) + 1)\n",
    "\n",
    "# Plotting the metrics\n",
    "plt.figure(figsize=(10, 6))\n",
    "plt.plot(epochs, acc, label='Accuracy', marker='o')\n",
    "plt.plot(epochs, prec, label='Precision', marker='s')\n",
    "plt.plot(epochs, recalls, label='Recall', marker='d')\n",
    "plt.plot(epochs, f1score, label='F1 Score', marker='^')\n",
    "\n",
    "# Adding labels and title\n",
    "plt.xlabel('Epochs')\n",
    "plt.ylabel('Score')\n",
    "plt.title('Performance Metrics Over Epochs')\n",
    "plt.legend()\n",
    "\n",
    "# Display the plot\n",
    "plt.grid(True)\n",
    "plt.show()"
   ]
  },
  {
   "cell_type": "markdown",
   "metadata": {},
   "source": [
    "## Evaluation"
   ]
  },
  {
   "cell_type": "code",
   "execution_count": 2,
   "metadata": {},
   "outputs": [
    {
     "name": "stderr",
     "output_type": "stream",
     "text": [
      "c:\\Users\\fizuf\\anaconda3\\envs\\vidovax-env\\Lib\\site-packages\\tqdm\\auto.py:21: TqdmWarning: IProgress not found. Please update jupyter and ipywidgets. See https://ipywidgets.readthedocs.io/en/stable/user_install.html\n",
      "  from .autonotebook import tqdm as notebook_tqdm\n"
     ]
    }
   ],
   "source": [
    "import joblib \n",
    "\n",
    "model = joblib.load('data/model_2.joblib')\n",
    "tokenizer = joblib.load('data/tokenizer_2.joblib')"
   ]
  },
  {
   "cell_type": "code",
   "execution_count": 20,
   "metadata": {},
   "outputs": [
    {
     "name": "stderr",
     "output_type": "stream",
     "text": [
      "BertSdpaSelfAttention is used but `torch.nn.functional.scaled_dot_product_attention` does not support non-absolute `position_embedding_type` or `output_attentions=True` or `head_mask`. Falling back to the manual attention implementation, but specifying the manual implementation will be required from Transformers version v5.0.0 onwards. This warning can be removed using the argument `attn_implementation=\"eager\"` when loading the model.\n"
     ]
    },
    {
     "name": "stdout",
     "output_type": "stream",
     "text": [
      "Testing - Accuracy: 0.5750, Precision: 0.5716, Recall: 0.5750, F1-Score: 0.5729\n",
      "              precision    recall  f1-score   support\n",
      "\n",
      "           0       0.63      0.66      0.64      6184\n",
      "           1       0.49      0.46      0.48      4483\n",
      "\n",
      "    accuracy                           0.58     10667\n",
      "   macro avg       0.56      0.56      0.56     10667\n",
      "weighted avg       0.57      0.58      0.57     10667\n",
      "\n"
     ]
    }
   ],
   "source": [
    "import torch\n",
    "\n",
    "model.eval()  # Set model to evaluation mode\n",
    "\n",
    "val_preds = []\n",
    "val_labels = []\n",
    "all_attentions = []\n",
    "\n",
    "with torch.no_grad():\n",
    "    for batch in val_dataloader:\n",
    "        input_ids, attention_mask, labels = [b.to(device) for b in batch]\n",
    "        outputs = model(input_ids, attention_mask=attention_mask, output_attentions=True)\n",
    "        attentions = outputs.attentions\n",
    "        all_attentions.append(attentions)\n",
    "        logits = outputs.logits\n",
    "        preds = logits.argmax(dim=-1)\n",
    "        val_preds.extend(preds.cpu().numpy())\n",
    "        val_labels.extend(labels.cpu().numpy())\n",
    "                        \n",
    "    # Validation metrics\n",
    "    val_accuracy = accuracy_score(val_labels, val_preds)\n",
    "    val_precision, val_recall, val_f1, _ = precision_recall_fscore_support(val_labels, val_preds, average='weighted')\n",
    "\n",
    "    print(f\"Testing - Accuracy: {val_accuracy:.4f}, Precision: {val_precision:.4f}, Recall: {val_recall:.4f}, F1-Score: {val_f1:.4f}\")\n",
    "\n",
    "# Print classification report using val_preds and val_labels\n",
    "print(classification_report(val_labels, val_preds))\n"
   ]
  },
  {
   "cell_type": "code",
   "execution_count": 21,
   "metadata": {},
   "outputs": [
    {
     "data": {
      "image/png": "[encoded data removed]",
      "text/plain": [
       "<Figure size 1000x800 with 2 Axes>"
      ]
     },
     "metadata": {},
     "output_type": "display_data"
    }
   ],
   "source": [
    "layer = 0  # First layer\n",
    "head = 0   # First attention head\n",
    "attention_weights = attentions[layer][0, head].cpu().numpy()\n",
    "\n",
    "plt.figure(figsize=(10, 8))\n",
    "sns.heatmap(attention_weights, annot=False, cmap='viridis')\n",
    "plt.title(f\"Attention Weights - Layer {layer}, Head {head}\")\n",
    "plt.show()"
   ]
  }
 ],
 "metadata": {
  "kernelspec": {
   "display_name": "vidovax-env",
   "language": "python",
   "name": "python3"
  },
  "language_info": {
   "codemirror_mode": {
    "name": "ipython",
    "version": 3
   },
   "file_extension": ".py",
   "mimetype": "text/x-python",
   "name": "python",
   "nbconvert_exporter": "python",
   "pygments_lexer": "ipython3",
   "version": "3.11.11"
  }
 },
 "nbformat": 4,
 "nbformat_minor": 2
}
