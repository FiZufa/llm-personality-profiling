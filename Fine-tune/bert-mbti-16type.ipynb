{
 "cells": [
  {
   "cell_type": "markdown",
   "metadata": {},
   "source": [
    "# Fine Tune"
   ]
  },
  {
   "cell_type": "code",
   "execution_count": 7,
   "metadata": {},
   "outputs": [],
   "source": [
    "import pandas as pd\n",
    "import numpy as np\n",
    "import matplotlib.pyplot as plt\n",
    "import seaborn as sns\n",
    "\n",
    "from transformers import BertTokenizer, BertModel, BertForSequenceClassification, AdamW\n",
    "\n",
    "from sklearn.model_selection import train_test_split\n",
    "from sklearn.utils.class_weight import compute_class_weight\n",
    "from sklearn.preprocessing import LabelEncoder\n",
    "from sklearn.metrics import accuracy_score, precision_recall_fscore_support, classification_report\n",
    "\n",
    "import torch\n",
    "import torch.utils.data\n",
    "from torch.utils.data import DataLoader, TensorDataset\n",
    "\n",
    "import tqdm as tqdm"
   ]
  },
  {
   "cell_type": "markdown",
   "metadata": {},
   "source": [
    "## Prepare Dataset"
   ]
  },
  {
   "cell_type": "code",
   "execution_count": 8,
   "metadata": {},
   "outputs": [],
   "source": [
    "mbti_df = pd.read_csv('../processed/all_data_3.csv')"
   ]
  },
  {
   "cell_type": "code",
   "execution_count": 9,
   "metadata": {},
   "outputs": [
    {
     "data": {
      "text/html": [
       "<div>\n",
       "<style scoped>\n",
       "    .dataframe tbody tr th:only-of-type {\n",
       "        vertical-align: middle;\n",
       "    }\n",
       "\n",
       "    .dataframe tbody tr th {\n",
       "        vertical-align: top;\n",
       "    }\n",
       "\n",
       "    .dataframe thead th {\n",
       "        text-align: right;\n",
       "    }\n",
       "</style>\n",
       "<table border=\"1\" class=\"dataframe\">\n",
       "  <thead>\n",
       "    <tr style=\"text-align: right;\">\n",
       "      <th></th>\n",
       "      <th>Unnamed: 0</th>\n",
       "      <th>type</th>\n",
       "      <th>tweet</th>\n",
       "    </tr>\n",
       "  </thead>\n",
       "  <tbody>\n",
       "    <tr>\n",
       "      <th>0</th>\n",
       "      <td>0</td>\n",
       "      <td>ISFJ</td>\n",
       "      <td>Mindhunter, Broadchurch, The Sinner, Orphan Bl...</td>\n",
       "    </tr>\n",
       "    <tr>\n",
       "      <th>1</th>\n",
       "      <td>1</td>\n",
       "      <td>ISFJ</td>\n",
       "      <td>Tinder has your health in mind.</td>\n",
       "    </tr>\n",
       "    <tr>\n",
       "      <th>2</th>\n",
       "      <td>2</td>\n",
       "      <td>ISFJ</td>\n",
       "      <td>5 of 5 stars to Pretty Face by Lucy Parker</td>\n",
       "    </tr>\n",
       "    <tr>\n",
       "      <th>3</th>\n",
       "      <td>3</td>\n",
       "      <td>ISFJ</td>\n",
       "      <td>Outstanding faculty from and more at Winter Co...</td>\n",
       "    </tr>\n",
       "    <tr>\n",
       "      <th>4</th>\n",
       "      <td>4</td>\n",
       "      <td>ISFJ</td>\n",
       "      <td>Using pray and wait on God, can be a means of ...</td>\n",
       "    </tr>\n",
       "    <tr>\n",
       "      <th>...</th>\n",
       "      <td>...</td>\n",
       "      <td>...</td>\n",
       "      <td>...</td>\n",
       "    </tr>\n",
       "    <tr>\n",
       "      <th>106322</th>\n",
       "      <td>106322</td>\n",
       "      <td>ESTP</td>\n",
       "      <td>This is so legit holy shit lol I work in rando...</td>\n",
       "    </tr>\n",
       "    <tr>\n",
       "      <th>106323</th>\n",
       "      <td>106323</td>\n",
       "      <td>ESTP</td>\n",
       "      <td>Same here When Im in a group Im fairly quiet u...</td>\n",
       "    </tr>\n",
       "    <tr>\n",
       "      <th>106324</th>\n",
       "      <td>106324</td>\n",
       "      <td>ESTJ</td>\n",
       "      <td>Im more worried about the idea that we are sla...</td>\n",
       "    </tr>\n",
       "    <tr>\n",
       "      <th>106325</th>\n",
       "      <td>106325</td>\n",
       "      <td>ESTP</td>\n",
       "      <td>Believing you dont have ethics is still an eth...</td>\n",
       "    </tr>\n",
       "    <tr>\n",
       "      <th>106326</th>\n",
       "      <td>106326</td>\n",
       "      <td>ESFP</td>\n",
       "      <td>You sound like such a spergelord In my experie...</td>\n",
       "    </tr>\n",
       "  </tbody>\n",
       "</table>\n",
       "<p>106327 rows × 3 columns</p>\n",
       "</div>"
      ],
      "text/plain": [
       "        Unnamed: 0  type                                              tweet\n",
       "0                0  ISFJ  Mindhunter, Broadchurch, The Sinner, Orphan Bl...\n",
       "1                1  ISFJ                    Tinder has your health in mind.\n",
       "2                2  ISFJ         5 of 5 stars to Pretty Face by Lucy Parker\n",
       "3                3  ISFJ  Outstanding faculty from and more at Winter Co...\n",
       "4                4  ISFJ  Using pray and wait on God, can be a means of ...\n",
       "...            ...   ...                                                ...\n",
       "106322      106322  ESTP  This is so legit holy shit lol I work in rando...\n",
       "106323      106323  ESTP  Same here When Im in a group Im fairly quiet u...\n",
       "106324      106324  ESTJ  Im more worried about the idea that we are sla...\n",
       "106325      106325  ESTP  Believing you dont have ethics is still an eth...\n",
       "106326      106326  ESFP  You sound like such a spergelord In my experie...\n",
       "\n",
       "[106327 rows x 3 columns]"
      ]
     },
     "execution_count": 9,
     "metadata": {},
     "output_type": "execute_result"
    }
   ],
   "source": [
    "mbti_df"
   ]
  },
  {
   "cell_type": "code",
   "execution_count": 10,
   "metadata": {},
   "outputs": [],
   "source": [
    "mbti_df = mbti_df.drop(columns=['Unnamed: 0'])"
   ]
  },
  {
   "cell_type": "markdown",
   "metadata": {},
   "source": [
    "### Consider only posts with length < 32 words"
   ]
  },
  {
   "cell_type": "code",
   "execution_count": 11,
   "metadata": {},
   "outputs": [],
   "source": [
    "mbti_df = mbti_df[mbti_df['tweet'].str.split().str.len() < 32]"
   ]
  },
  {
   "cell_type": "code",
   "execution_count": 12,
   "metadata": {},
   "outputs": [
    {
     "data": {
      "text/html": [
       "<div>\n",
       "<style scoped>\n",
       "    .dataframe tbody tr th:only-of-type {\n",
       "        vertical-align: middle;\n",
       "    }\n",
       "\n",
       "    .dataframe tbody tr th {\n",
       "        vertical-align: top;\n",
       "    }\n",
       "\n",
       "    .dataframe thead th {\n",
       "        text-align: right;\n",
       "    }\n",
       "</style>\n",
       "<table border=\"1\" class=\"dataframe\">\n",
       "  <thead>\n",
       "    <tr style=\"text-align: right;\">\n",
       "      <th></th>\n",
       "      <th>type</th>\n",
       "      <th>tweet</th>\n",
       "    </tr>\n",
       "  </thead>\n",
       "  <tbody>\n",
       "    <tr>\n",
       "      <th>0</th>\n",
       "      <td>ISFJ</td>\n",
       "      <td>Mindhunter, Broadchurch, The Sinner, Orphan Bl...</td>\n",
       "    </tr>\n",
       "    <tr>\n",
       "      <th>1</th>\n",
       "      <td>ISFJ</td>\n",
       "      <td>Tinder has your health in mind.</td>\n",
       "    </tr>\n",
       "    <tr>\n",
       "      <th>2</th>\n",
       "      <td>ISFJ</td>\n",
       "      <td>5 of 5 stars to Pretty Face by Lucy Parker</td>\n",
       "    </tr>\n",
       "    <tr>\n",
       "      <th>3</th>\n",
       "      <td>ISFJ</td>\n",
       "      <td>Outstanding faculty from and more at Winter Co...</td>\n",
       "    </tr>\n",
       "    <tr>\n",
       "      <th>4</th>\n",
       "      <td>ISFJ</td>\n",
       "      <td>Using pray and wait on God, can be a means of ...</td>\n",
       "    </tr>\n",
       "    <tr>\n",
       "      <th>...</th>\n",
       "      <td>...</td>\n",
       "      <td>...</td>\n",
       "    </tr>\n",
       "    <tr>\n",
       "      <th>106313</th>\n",
       "      <td>ESTP</td>\n",
       "      <td>True I do end up the mentor but I feel like Yo...</td>\n",
       "    </tr>\n",
       "    <tr>\n",
       "      <th>106321</th>\n",
       "      <td>ESFP</td>\n",
       "      <td>LOL and thats why I got sort of mad because th...</td>\n",
       "    </tr>\n",
       "    <tr>\n",
       "      <th>106322</th>\n",
       "      <td>ESTP</td>\n",
       "      <td>This is so legit holy shit lol I work in rando...</td>\n",
       "    </tr>\n",
       "    <tr>\n",
       "      <th>106324</th>\n",
       "      <td>ESTJ</td>\n",
       "      <td>Im more worried about the idea that we are sla...</td>\n",
       "    </tr>\n",
       "    <tr>\n",
       "      <th>106325</th>\n",
       "      <td>ESTP</td>\n",
       "      <td>Believing you dont have ethics is still an eth...</td>\n",
       "    </tr>\n",
       "  </tbody>\n",
       "</table>\n",
       "<p>35554 rows × 2 columns</p>\n",
       "</div>"
      ],
      "text/plain": [
       "        type                                              tweet\n",
       "0       ISFJ  Mindhunter, Broadchurch, The Sinner, Orphan Bl...\n",
       "1       ISFJ                    Tinder has your health in mind.\n",
       "2       ISFJ         5 of 5 stars to Pretty Face by Lucy Parker\n",
       "3       ISFJ  Outstanding faculty from and more at Winter Co...\n",
       "4       ISFJ  Using pray and wait on God, can be a means of ...\n",
       "...      ...                                                ...\n",
       "106313  ESTP  True I do end up the mentor but I feel like Yo...\n",
       "106321  ESFP  LOL and thats why I got sort of mad because th...\n",
       "106322  ESTP  This is so legit holy shit lol I work in rando...\n",
       "106324  ESTJ  Im more worried about the idea that we are sla...\n",
       "106325  ESTP  Believing you dont have ethics is still an eth...\n",
       "\n",
       "[35554 rows x 2 columns]"
      ]
     },
     "execution_count": 12,
     "metadata": {},
     "output_type": "execute_result"
    }
   ],
   "source": [
    "mbti_df"
   ]
  },
  {
   "cell_type": "code",
   "execution_count": 13,
   "metadata": {},
   "outputs": [
    {
     "name": "stderr",
     "output_type": "stream",
     "text": [
      "C:\\Users\\fizuf\\AppData\\Local\\Temp\\ipykernel_9664\\4277072644.py:6: FutureWarning: \n",
      "\n",
      "Passing `palette` without assigning `hue` is deprecated and will be removed in v0.14.0. Assign the `x` variable to `hue` and set `legend=False` for the same effect.\n",
      "\n",
      "  ax = sns.barplot(data=mbti_df_grouped, x='type', y='n_posts', palette='husl')\n"
     ]
    },
    {
     "data": {
      "image/png": "[encoded data removed]",
      "text/plain": [
       "<Figure size 1000x600 with 1 Axes>"
      ]
     },
     "metadata": {},
     "output_type": "display_data"
    }
   ],
   "source": [
    "mbti_df_grouped = mbti_df.groupby('type').size().reset_index(name='n_posts')\n",
    "mbti_df_grouped = mbti_df_grouped.sort_values(by='n_posts', ascending=False)\n",
    "mbti_df_grouped.columns = ['type', 'n_posts']\n",
    "\n",
    "plt.figure(figsize=(10, 6))\n",
    "ax = sns.barplot(data=mbti_df_grouped, x='type', y='n_posts', palette='husl')\n",
    "\n",
    "# Add annotations (number of users above each bar)\n",
    "for p in ax.patches:\n",
    "    ax.annotate(f'{int(p.get_height())}', \n",
    "                (p.get_x() + p.get_width() / 2, p.get_height()), \n",
    "                ha='center', va='bottom', fontsize=8, color='black')\n",
    "\n",
    "plt.title('Tweets Distribution by MBTI Type', fontsize=16, fontweight='bold', pad=16)\n",
    "plt.xlabel('MBTI Type', fontsize=12)\n",
    "plt.ylabel('Number of posts', fontsize=12)\n",
    "plt.xticks(rotation=45)\n",
    "plt.grid(axis='y', linestyle='--', alpha=0.7)\n",
    "\n",
    "plt.show()"
   ]
  },
  {
   "cell_type": "code",
   "execution_count": 14,
   "metadata": {},
   "outputs": [],
   "source": [
    "mbti_labels_dict = {\n",
    "    'ENFJ': 0,\n",
    "    'ENFP': 1,\n",
    "    'ENTJ': 2,\n",
    "    'ENTP': 3,\n",
    "    'ESFJ': 4,\n",
    "    'ESFP': 5,\n",
    "    'ESTJ': 6,\n",
    "    'ESTP': 7,\n",
    "    'INFJ': 8,\n",
    "    'INFP': 9,\n",
    "    'INTJ': 10,\n",
    "    'INTP': 11,\n",
    "    'ISFJ': 12,\n",
    "    'ISFP': 13,\n",
    "    'ISTJ': 14,\n",
    "    'ISTP': 15,\n",
    "}"
   ]
  },
  {
   "cell_type": "markdown",
   "metadata": {},
   "source": [
    "### Split datasets"
   ]
  },
  {
   "cell_type": "code",
   "execution_count": 15,
   "metadata": {},
   "outputs": [],
   "source": [
    "X = mbti_df['tweet']\n",
    "y = mbti_df['type']\n",
    "\n",
    "y = y.map(mbti_labels_dict)"
   ]
  },
  {
   "cell_type": "code",
   "execution_count": 44,
   "metadata": {},
   "outputs": [
    {
     "name": "stdout",
     "output_type": "stream",
     "text": [
      "Using device: cpu\n"
     ]
    }
   ],
   "source": [
    "device = torch.device(\"cuda\" if torch.cuda.is_available() else \"cpu\")\n",
    "\n",
    "print(f\"Using device: {device}\")"
   ]
  },
  {
   "cell_type": "markdown",
   "metadata": {},
   "source": [
    "### Fine Tune BERT"
   ]
  },
  {
   "cell_type": "code",
   "execution_count": null,
   "metadata": {},
   "outputs": [],
   "source": [
    "tokenizer = BertTokenizer.from_pretrained('bert-base-uncased')\n",
    "model = BertForSequenceClassification.from_pretrained('bert-base-uncased', num_labels=16)  # 16 labels for MBTI\n",
    "model.config.hidden_dropout_prob = 0.3"
   ]
  },
  {
   "cell_type": "code",
   "execution_count": null,
   "metadata": {},
   "outputs": [
    {
     "name": "stderr",
     "output_type": "stream",
     "text": [
      "c:\\Users\\fizuf\\anaconda3\\envs\\vidovax-env\\Lib\\site-packages\\transformers\\optimization.py:591: FutureWarning: This implementation of AdamW is deprecated and will be removed in a future version. Use the PyTorch implementation torch.optim.AdamW instead, or set `no_deprecation_warning=True` to disable this warning\n",
      "  warnings.warn(\n"
     ]
    },
    {
     "data": {
      "text/plain": [
       "BertForSequenceClassification(\n",
       "  (bert): BertModel(\n",
       "    (embeddings): BertEmbeddings(\n",
       "      (word_embeddings): Embedding(30522, 768, padding_idx=0)\n",
       "      (position_embeddings): Embedding(512, 768)\n",
       "      (token_type_embeddings): Embedding(2, 768)\n",
       "      (LayerNorm): LayerNorm((768,), eps=1e-12, elementwise_affine=True)\n",
       "      (dropout): Dropout(p=0.1, inplace=False)\n",
       "    )\n",
       "    (encoder): BertEncoder(\n",
       "      (layer): ModuleList(\n",
       "        (0-11): 12 x BertLayer(\n",
       "          (attention): BertAttention(\n",
       "            (self): BertSdpaSelfAttention(\n",
       "              (query): Linear(in_features=768, out_features=768, bias=True)\n",
       "              (key): Linear(in_features=768, out_features=768, bias=True)\n",
       "              (value): Linear(in_features=768, out_features=768, bias=True)\n",
       "              (dropout): Dropout(p=0.1, inplace=False)\n",
       "            )\n",
       "            (output): BertSelfOutput(\n",
       "              (dense): Linear(in_features=768, out_features=768, bias=True)\n",
       "              (LayerNorm): LayerNorm((768,), eps=1e-12, elementwise_affine=True)\n",
       "              (dropout): Dropout(p=0.1, inplace=False)\n",
       "            )\n",
       "          )\n",
       "          (intermediate): BertIntermediate(\n",
       "            (dense): Linear(in_features=768, out_features=3072, bias=True)\n",
       "            (intermediate_act_fn): GELUActivation()\n",
       "          )\n",
       "          (output): BertOutput(\n",
       "            (dense): Linear(in_features=3072, out_features=768, bias=True)\n",
       "            (LayerNorm): LayerNorm((768,), eps=1e-12, elementwise_affine=True)\n",
       "            (dropout): Dropout(p=0.1, inplace=False)\n",
       "          )\n",
       "        )\n",
       "      )\n",
       "    )\n",
       "    (pooler): BertPooler(\n",
       "      (dense): Linear(in_features=768, out_features=768, bias=True)\n",
       "      (activation): Tanh()\n",
       "    )\n",
       "  )\n",
       "  (dropout): Dropout(p=0.1, inplace=False)\n",
       "  (classifier): Linear(in_features=768, out_features=16, bias=True)\n",
       ")"
      ]
     },
     "execution_count": 16,
     "metadata": {},
     "output_type": "execute_result"
    }
   ],
   "source": [
    "inputs = tokenizer(X.tolist(), padding=True, truncation=True, max_length=32, return_tensors='pt')\n",
    "labels = torch.tensor(y.values) \n",
    "\n",
    "train_dataset = torch.utils.data.TensorDataset(inputs['input_ids'], inputs['attention_mask'], labels)\n",
    "\n",
    "train_dataset, val_dataset = train_test_split(train_dataset, test_size=0.3)\n",
    "\n",
    "train_dataloader = DataLoader(train_dataset, batch_size=16, shuffle=True)\n",
    "val_dataloader = DataLoader(val_dataset, batch_size=16)"
   ]
  },
  {
   "cell_type": "code",
   "execution_count": null,
   "metadata": {},
   "outputs": [
    {
     "name": "stderr",
     "output_type": "stream",
     "text": [
      "Some weights of BertForSequenceClassification were not initialized from the model checkpoint at bert-base-uncased and are newly initialized: ['classifier.bias', 'classifier.weight']\n",
      "You should probably TRAIN this model on a down-stream task to be able to use it for predictions and inference.\n",
      "c:\\Users\\fizuf\\anaconda3\\envs\\vidovax-env\\Lib\\site-packages\\transformers\\optimization.py:591: FutureWarning: This implementation of AdamW is deprecated and will be removed in a future version. Use the PyTorch implementation torch.optim.AdamW instead, or set `no_deprecation_warning=True` to disable this warning\n",
      "  warnings.warn(\n"
     ]
    },
    {
     "name": "stdout",
     "output_type": "stream",
     "text": [
      "Epoch 1/10, Loss: 2.6959244331541283\n",
      "Accuracy: 0.1003, Precision: 0.0941, Recall: 0.1003, F1-Score: 0.0879\n"
     ]
    },
    {
     "name": "stderr",
     "output_type": "stream",
     "text": [
      "c:\\Users\\fizuf\\anaconda3\\envs\\vidovax-env\\Lib\\site-packages\\sklearn\\metrics\\_classification.py:1565: UndefinedMetricWarning: Precision is ill-defined and being set to 0.0 in labels with no predicted samples. Use `zero_division` parameter to control this behavior.\n",
      "  _warn_prf(average, modifier, f\"{metric.capitalize()} is\", len(result))\n"
     ]
    },
    {
     "name": "stdout",
     "output_type": "stream",
     "text": [
      "Epoch 2/10, Loss: 2.584782879426118\n",
      "Accuracy: 0.1508, Precision: 0.1424, Recall: 0.1508, F1-Score: 0.1377\n",
      "Epoch 3/10, Loss: 2.4095091639723445\n",
      "Accuracy: 0.2189, Precision: 0.2141, Recall: 0.2189, F1-Score: 0.2064\n"
     ]
    },
    {
     "name": "stderr",
     "output_type": "stream",
     "text": [
      "c:\\Users\\fizuf\\anaconda3\\envs\\vidovax-env\\Lib\\site-packages\\sklearn\\metrics\\_classification.py:1565: UndefinedMetricWarning: Precision is ill-defined and being set to 0.0 in labels with no predicted samples. Use `zero_division` parameter to control this behavior.\n",
      "  _warn_prf(average, modifier, f\"{metric.capitalize()} is\", len(result))\n"
     ]
    },
    {
     "name": "stdout",
     "output_type": "stream",
     "text": [
      "Epoch 4/10, Loss: 2.1344326783574945\n",
      "Accuracy: 0.3156, Precision: 0.3170, Recall: 0.3156, F1-Score: 0.3040\n",
      "Epoch 5/10, Loss: 1.7745517201166225\n",
      "Accuracy: 0.4342, Precision: 0.4316, Recall: 0.4342, F1-Score: 0.4229\n",
      "Epoch 6/10, Loss: 1.3988858321944975\n",
      "Accuracy: 0.5548, Precision: 0.5517, Recall: 0.5548, F1-Score: 0.5449\n",
      "Epoch 7/10, Loss: 1.0591210239497433\n",
      "Accuracy: 0.6670, Precision: 0.6623, Recall: 0.6670, F1-Score: 0.6597\n",
      "Epoch 8/10, Loss: 0.7762649228609619\n",
      "Accuracy: 0.7585, Precision: 0.7558, Recall: 0.7585, F1-Score: 0.7536\n",
      "Epoch 9/10, Loss: 0.5765125155401031\n",
      "Accuracy: 0.8196, Precision: 0.8172, Recall: 0.8196, F1-Score: 0.8163\n",
      "Epoch 10/10, Loss: 0.42083878574801903\n",
      "Accuracy: 0.8703, Precision: 0.8691, Recall: 0.8703, F1-Score: 0.8687\n"
     ]
    }
   ],
   "source": [
    "optimizer = AdamW(model.parameters(), lr=1e-5, weight_decay=0.01)\n",
    "criterion = torch.nn.CrossEntropyLoss()\n",
    "\n",
    "# Training loop\n",
    "device = torch.device(\"cuda\" if torch.cuda.is_available() else \"cpu\")\n",
    "model.to(device)\n",
    "\n",
    "num_epochs = 10\n",
    "\n",
    "losses = []\n",
    "acc = []\n",
    "prec = []\n",
    "recalls = []\n",
    "f1score = []\n",
    "\n",
    "for epoch in range(num_epochs):\n",
    "    model.train()  # Set model to training mode\n",
    "    running_loss = 0.0\n",
    "    all_preds = []\n",
    "    all_labels = []\n",
    "    \n",
    "    for batch in train_dataloader:\n",
    "        input_ids, attention_mask, labels = [b.to(device) for b in batch]\n",
    "        \n",
    "        # Zero gradients\n",
    "        optimizer.zero_grad()\n",
    "        \n",
    "        # Forward pass\n",
    "        outputs = model(input_ids, attention_mask=attention_mask)\n",
    "        logits = outputs.logits\n",
    "        \n",
    "        # Calculate loss\n",
    "        loss = criterion(logits, labels)\n",
    "        \n",
    "        # Backward pass and optimize\n",
    "        loss.backward()\n",
    "        optimizer.step()\n",
    "        \n",
    "        # Track loss\n",
    "        running_loss += loss.item()\n",
    "        \n",
    "        # Track predictions and labels\n",
    "        preds = logits.argmax(dim=-1)\n",
    "        all_preds.extend(preds.cpu().numpy())\n",
    "        all_labels.extend(labels.cpu().numpy())\n",
    "    \n",
    "    avg_loss = running_loss / len(train_dataloader)\n",
    "\n",
    "    losses.append(avg_loss)\n",
    "    print(f\"Epoch {epoch + 1}/{num_epochs}, Loss: {avg_loss}\")\n",
    "    \n",
    "    # Calculate metrics (accuracy, precision, recall, F1-score)\n",
    "    accuracy = accuracy_score(all_labels, all_preds)\n",
    "    precision, recall, f1, _ = precision_recall_fscore_support(all_labels, all_preds, average='weighted')\n",
    "\n",
    "    acc.append(accuracy)\n",
    "    prec.append(precision)\n",
    "    recalls.append(recall)\n",
    "    f1score.append(f1)\n",
    "\n",
    "    print(f\"Accuracy: {accuracy:.4f}, Precision: {precision:.4f}, Recall: {recall:.4f}, F1-Score: {f1:.4f}\")"
   ]
  },
  {
   "cell_type": "markdown",
   "metadata": {},
   "source": [
    "### Loss"
   ]
  },
  {
   "cell_type": "markdown",
   "metadata": {},
   "source": [
    "### Accuracy, precision, recall, and f1-score"
   ]
  },
  {
   "cell_type": "code",
   "execution_count": 45,
   "metadata": {},
   "outputs": [
    {
     "name": "stdout",
     "output_type": "stream",
     "text": [
      "              precision    recall  f1-score   support\n",
      "\n",
      "           0       0.85      0.84      0.85      1665\n",
      "           1       0.85      0.85      0.85      1848\n",
      "           2       0.91      0.91      0.91      1940\n",
      "           3       0.93      0.91      0.92      2050\n",
      "           4       0.40      0.73      0.52       253\n",
      "           5       0.71      0.81      0.75       699\n",
      "           6       0.78      0.71      0.74       678\n",
      "           7       0.84      0.83      0.83      1378\n",
      "           8       0.84      0.84      0.84      1591\n",
      "           9       0.89      0.89      0.89      1707\n",
      "          10       0.88      0.88      0.88      1808\n",
      "          11       0.92      0.89      0.91      1990\n",
      "          12       0.90      0.89      0.89      1553\n",
      "          13       0.89      0.88      0.89      1895\n",
      "          14       0.91      0.89      0.90      1834\n",
      "          15       0.89      0.89      0.89      1998\n",
      "\n",
      "    accuracy                           0.87     24887\n",
      "   macro avg       0.84      0.85      0.84     24887\n",
      "weighted avg       0.87      0.87      0.87     24887\n",
      "\n"
     ]
    }
   ],
   "source": [
    "from sklearn.metrics import classification_report\n",
    "\n",
    "# Print classification report\n",
    "print(classification_report(all_preds, all_labels))\n"
   ]
  },
  {
   "cell_type": "code",
   "execution_count": 46,
   "metadata": {},
   "outputs": [
    {
     "data": {
      "image/png": "[encoded data removed]",
      "text/plain": [
       "<Figure size 1000x600 with 1 Axes>"
      ]
     },
     "metadata": {},
     "output_type": "display_data"
    }
   ],
   "source": [
    "epochs = range(1, len(acc) + 1)\n",
    "\n",
    "# Plotting the metrics\n",
    "plt.figure(figsize=(10, 6))\n",
    "plt.plot(epochs, acc, label='Accuracy', marker='o')\n",
    "plt.plot(epochs, prec, label='Precision', marker='s')\n",
    "plt.plot(epochs, recalls, label='Recall', marker='d')\n",
    "plt.plot(epochs, f1score, label='F1 Score', marker='^')\n",
    "\n",
    "# Adding labels and title\n",
    "plt.xlabel('Epochs')\n",
    "plt.ylabel('Score')\n",
    "plt.title('Performance Metrics Over Epochs')\n",
    "plt.legend()\n",
    "\n",
    "# Display the plot\n",
    "plt.grid(True)\n",
    "plt.show()"
   ]
  },
  {
   "cell_type": "markdown",
   "metadata": {},
   "source": [
    "## Evaluation"
   ]
  },
  {
   "cell_type": "code",
   "execution_count": 2,
   "metadata": {},
   "outputs": [
    {
     "name": "stderr",
     "output_type": "stream",
     "text": [
      "c:\\Users\\fizuf\\anaconda3\\envs\\vidovax-env\\Lib\\site-packages\\tqdm\\auto.py:21: TqdmWarning: IProgress not found. Please update jupyter and ipywidgets. See https://ipywidgets.readthedocs.io/en/stable/user_install.html\n",
      "  from .autonotebook import tqdm as notebook_tqdm\n"
     ]
    }
   ],
   "source": [
    "import joblib \n",
    "\n",
    "model = joblib.load('data/model_2.joblib')\n",
    "tokenizer = joblib.load('data/tokenizer_2.joblib')"
   ]
  },
  {
   "cell_type": "code",
   "execution_count": 17,
   "metadata": {},
   "outputs": [
    {
     "name": "stderr",
     "output_type": "stream",
     "text": [
      "BertSdpaSelfAttention is used but `torch.nn.functional.scaled_dot_product_attention` does not support non-absolute `position_embedding_type` or `output_attentions=True` or `head_mask`. Falling back to the manual attention implementation, but specifying the manual implementation will be required from Transformers version v5.0.0 onwards. This warning can be removed using the argument `attn_implementation=\"eager\"` when loading the model.\n"
     ]
    },
    {
     "name": "stdout",
     "output_type": "stream",
     "text": [
      "Testing - Accuracy: 0.7185, Precision: 0.7295, Recall: 0.7185, F1-Score: 0.7200\n",
      "              precision    recall  f1-score   support\n",
      "\n",
      "           0       0.73      0.73      0.73       677\n",
      "           1       0.68      0.75      0.71       854\n",
      "           2       0.79      0.71      0.75       882\n",
      "           3       0.84      0.73      0.78       849\n",
      "           4       0.70      0.41      0.52       186\n",
      "           5       0.74      0.66      0.70       361\n",
      "           6       0.64      0.69      0.66       256\n",
      "           7       0.78      0.72      0.75       589\n",
      "           8       0.77      0.69      0.73       691\n",
      "           9       0.54      0.79      0.64       688\n",
      "          10       0.64      0.72      0.68       747\n",
      "          11       0.72      0.74      0.73       802\n",
      "          12       0.77      0.72      0.75       686\n",
      "          13       0.66      0.75      0.71       735\n",
      "          14       0.81      0.70      0.75       819\n",
      "          15       0.75      0.71      0.73       845\n",
      "\n",
      "    accuracy                           0.72     10667\n",
      "   macro avg       0.72      0.70      0.71     10667\n",
      "weighted avg       0.73      0.72      0.72     10667\n",
      "\n"
     ]
    }
   ],
   "source": [
    "import torch\n",
    "\n",
    "model.eval()  # Set model to evaluation mode\n",
    "\n",
    "val_preds = []\n",
    "val_labels = []\n",
    "all_attentions = []\n",
    "\n",
    "with torch.no_grad():\n",
    "    for batch in val_dataloader:\n",
    "        input_ids, attention_mask, labels = [b.to(device) for b in batch]\n",
    "        outputs = model(input_ids, attention_mask=attention_mask, output_attentions=True)\n",
    "        attentions = outputs.attentions\n",
    "        all_attentions.append(attentions)\n",
    "        logits = outputs.logits\n",
    "        preds = logits.argmax(dim=-1)\n",
    "        val_preds.extend(preds.cpu().numpy())\n",
    "        val_labels.extend(labels.cpu().numpy())\n",
    "                        \n",
    "    # Validation metrics\n",
    "    val_accuracy = accuracy_score(val_labels, val_preds)\n",
    "    val_precision, val_recall, val_f1, _ = precision_recall_fscore_support(val_labels, val_preds, average='weighted')\n",
    "\n",
    "    print(f\"Testing - Accuracy: {val_accuracy:.4f}, Precision: {val_precision:.4f}, Recall: {val_recall:.4f}, F1-Score: {val_f1:.4f}\")\n",
    "\n",
    "# Print classification report using val_preds and val_labels\n",
    "print(classification_report(val_labels, val_preds))\n"
   ]
  }
 ],
 "metadata": {
  "kernelspec": {
   "display_name": "vidovax-env",
   "language": "python",
   "name": "python3"
  },
  "language_info": {
   "codemirror_mode": {
    "name": "ipython",
    "version": 3
   },
   "file_extension": ".py",
   "mimetype": "text/x-python",
   "name": "python",
   "nbconvert_exporter": "python",
   "pygments_lexer": "ipython3",
   "version": "3.11.11"
  }
 },
 "nbformat": 4,
 "nbformat_minor": 2
}
