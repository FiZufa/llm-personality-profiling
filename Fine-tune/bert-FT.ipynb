{
 "cells": [
  {
   "cell_type": "markdown",
   "metadata": {},
   "source": [
    "# Fine Tune"
   ]
  },
  {
   "cell_type": "code",
   "execution_count": 1,
   "metadata": {},
   "outputs": [
    {
     "name": "stderr",
     "output_type": "stream",
     "text": [
      "c:\\Users\\fizuf\\anaconda3\\envs\\vidovax-env\\Lib\\site-packages\\tqdm\\auto.py:21: TqdmWarning: IProgress not found. Please update jupyter and ipywidgets. See https://ipywidgets.readthedocs.io/en/stable/user_install.html\n",
      "  from .autonotebook import tqdm as notebook_tqdm\n"
     ]
    }
   ],
   "source": [
    "import pandas as pd\n",
    "import numpy as np\n",
    "import matplotlib.pyplot as plt\n",
    "import seaborn as sns\n",
    "\n",
    "from transformers import BertTokenizer, BertModel, BertForSequenceClassification, AdamW\n",
    "\n",
    "from sklearn.model_selection import train_test_split\n",
    "from sklearn.utils.class_weight import compute_class_weight\n",
    "from sklearn.preprocessing import LabelEncoder\n",
    "from sklearn.metrics import accuracy_score, precision_recall_fscore_support, classification_report\n",
    "\n",
    "import torch\n",
    "import torch.utils.data\n",
    "from torch.utils.data import DataLoader, TensorDataset\n",
    "\n",
    "import tqdm as tqdm"
   ]
  },
  {
   "cell_type": "markdown",
   "metadata": {},
   "source": [
    "## Prepare Dataset"
   ]
  },
  {
   "cell_type": "code",
   "execution_count": 2,
   "metadata": {},
   "outputs": [],
   "source": [
    "mbti_df = pd.read_csv('../processed/all_data_3.csv')"
   ]
  },
  {
   "cell_type": "code",
   "execution_count": 3,
   "metadata": {},
   "outputs": [
    {
     "data": {
      "text/html": [
       "<div>\n",
       "<style scoped>\n",
       "    .dataframe tbody tr th:only-of-type {\n",
       "        vertical-align: middle;\n",
       "    }\n",
       "\n",
       "    .dataframe tbody tr th {\n",
       "        vertical-align: top;\n",
       "    }\n",
       "\n",
       "    .dataframe thead th {\n",
       "        text-align: right;\n",
       "    }\n",
       "</style>\n",
       "<table border=\"1\" class=\"dataframe\">\n",
       "  <thead>\n",
       "    <tr style=\"text-align: right;\">\n",
       "      <th></th>\n",
       "      <th>Unnamed: 0</th>\n",
       "      <th>type</th>\n",
       "      <th>tweet</th>\n",
       "    </tr>\n",
       "  </thead>\n",
       "  <tbody>\n",
       "    <tr>\n",
       "      <th>0</th>\n",
       "      <td>0</td>\n",
       "      <td>ISFJ</td>\n",
       "      <td>Mindhunter, Broadchurch, The Sinner, Orphan Bl...</td>\n",
       "    </tr>\n",
       "    <tr>\n",
       "      <th>1</th>\n",
       "      <td>1</td>\n",
       "      <td>ISFJ</td>\n",
       "      <td>Tinder has your health in mind.</td>\n",
       "    </tr>\n",
       "    <tr>\n",
       "      <th>2</th>\n",
       "      <td>2</td>\n",
       "      <td>ISFJ</td>\n",
       "      <td>5 of 5 stars to Pretty Face by Lucy Parker</td>\n",
       "    </tr>\n",
       "    <tr>\n",
       "      <th>3</th>\n",
       "      <td>3</td>\n",
       "      <td>ISFJ</td>\n",
       "      <td>Outstanding faculty from and more at Winter Co...</td>\n",
       "    </tr>\n",
       "    <tr>\n",
       "      <th>4</th>\n",
       "      <td>4</td>\n",
       "      <td>ISFJ</td>\n",
       "      <td>Using pray and wait on God, can be a means of ...</td>\n",
       "    </tr>\n",
       "    <tr>\n",
       "      <th>...</th>\n",
       "      <td>...</td>\n",
       "      <td>...</td>\n",
       "      <td>...</td>\n",
       "    </tr>\n",
       "    <tr>\n",
       "      <th>106322</th>\n",
       "      <td>106322</td>\n",
       "      <td>ESTP</td>\n",
       "      <td>This is so legit holy shit lol I work in rando...</td>\n",
       "    </tr>\n",
       "    <tr>\n",
       "      <th>106323</th>\n",
       "      <td>106323</td>\n",
       "      <td>ESTP</td>\n",
       "      <td>Same here When Im in a group Im fairly quiet u...</td>\n",
       "    </tr>\n",
       "    <tr>\n",
       "      <th>106324</th>\n",
       "      <td>106324</td>\n",
       "      <td>ESTJ</td>\n",
       "      <td>Im more worried about the idea that we are sla...</td>\n",
       "    </tr>\n",
       "    <tr>\n",
       "      <th>106325</th>\n",
       "      <td>106325</td>\n",
       "      <td>ESTP</td>\n",
       "      <td>Believing you dont have ethics is still an eth...</td>\n",
       "    </tr>\n",
       "    <tr>\n",
       "      <th>106326</th>\n",
       "      <td>106326</td>\n",
       "      <td>ESFP</td>\n",
       "      <td>You sound like such a spergelord In my experie...</td>\n",
       "    </tr>\n",
       "  </tbody>\n",
       "</table>\n",
       "<p>106327 rows × 3 columns</p>\n",
       "</div>"
      ],
      "text/plain": [
       "        Unnamed: 0  type                                              tweet\n",
       "0                0  ISFJ  Mindhunter, Broadchurch, The Sinner, Orphan Bl...\n",
       "1                1  ISFJ                    Tinder has your health in mind.\n",
       "2                2  ISFJ         5 of 5 stars to Pretty Face by Lucy Parker\n",
       "3                3  ISFJ  Outstanding faculty from and more at Winter Co...\n",
       "4                4  ISFJ  Using pray and wait on God, can be a means of ...\n",
       "...            ...   ...                                                ...\n",
       "106322      106322  ESTP  This is so legit holy shit lol I work in rando...\n",
       "106323      106323  ESTP  Same here When Im in a group Im fairly quiet u...\n",
       "106324      106324  ESTJ  Im more worried about the idea that we are sla...\n",
       "106325      106325  ESTP  Believing you dont have ethics is still an eth...\n",
       "106326      106326  ESFP  You sound like such a spergelord In my experie...\n",
       "\n",
       "[106327 rows x 3 columns]"
      ]
     },
     "execution_count": 3,
     "metadata": {},
     "output_type": "execute_result"
    }
   ],
   "source": [
    "mbti_df"
   ]
  },
  {
   "cell_type": "markdown",
   "metadata": {},
   "source": [
    "### Add column `introvert_extrovert`"
   ]
  },
  {
   "cell_type": "code",
   "execution_count": 4,
   "metadata": {},
   "outputs": [],
   "source": [
    "mbti_df['feeling_thinking'] = mbti_df['type'].apply(lambda x: 'Feeling' if x[2] == 'F' else 'Thinking')"
   ]
  },
  {
   "cell_type": "code",
   "execution_count": 5,
   "metadata": {},
   "outputs": [
    {
     "data": {
      "text/html": [
       "<div>\n",
       "<style scoped>\n",
       "    .dataframe tbody tr th:only-of-type {\n",
       "        vertical-align: middle;\n",
       "    }\n",
       "\n",
       "    .dataframe tbody tr th {\n",
       "        vertical-align: top;\n",
       "    }\n",
       "\n",
       "    .dataframe thead th {\n",
       "        text-align: right;\n",
       "    }\n",
       "</style>\n",
       "<table border=\"1\" class=\"dataframe\">\n",
       "  <thead>\n",
       "    <tr style=\"text-align: right;\">\n",
       "      <th></th>\n",
       "      <th>Unnamed: 0</th>\n",
       "      <th>type</th>\n",
       "      <th>tweet</th>\n",
       "      <th>feeling_thinking</th>\n",
       "    </tr>\n",
       "  </thead>\n",
       "  <tbody>\n",
       "    <tr>\n",
       "      <th>92904</th>\n",
       "      <td>92904</td>\n",
       "      <td>ISFJ</td>\n",
       "      <td>you know youre a sensor when the reason you wa...</td>\n",
       "      <td>Feeling</td>\n",
       "    </tr>\n",
       "    <tr>\n",
       "      <th>1902</th>\n",
       "      <td>1902</td>\n",
       "      <td>ENFJ</td>\n",
       "      <td>haha well i think it was unlikely hormones or ...</td>\n",
       "      <td>Feeling</td>\n",
       "    </tr>\n",
       "    <tr>\n",
       "      <th>54610</th>\n",
       "      <td>54610</td>\n",
       "      <td>INTJ</td>\n",
       "      <td>so why cant she bring her friend along then yo...</td>\n",
       "      <td>Thinking</td>\n",
       "    </tr>\n",
       "    <tr>\n",
       "      <th>103782</th>\n",
       "      <td>103782</td>\n",
       "      <td>ESTJ</td>\n",
       "      <td>I sometimes enjoy being a snarky bastard But I...</td>\n",
       "      <td>Thinking</td>\n",
       "    </tr>\n",
       "    <tr>\n",
       "      <th>74035</th>\n",
       "      <td>74035</td>\n",
       "      <td>ISTJ</td>\n",
       "      <td>when i was together with my exgirlfriend she p...</td>\n",
       "      <td>Thinking</td>\n",
       "    </tr>\n",
       "    <tr>\n",
       "      <th>53227</th>\n",
       "      <td>53227</td>\n",
       "      <td>INTJ</td>\n",
       "      <td>gt Sociability is required for success This ca...</td>\n",
       "      <td>Thinking</td>\n",
       "    </tr>\n",
       "    <tr>\n",
       "      <th>89379</th>\n",
       "      <td>89379</td>\n",
       "      <td>ESFP</td>\n",
       "      <td>i think im just going to go by cognitive funct...</td>\n",
       "      <td>Feeling</td>\n",
       "    </tr>\n",
       "    <tr>\n",
       "      <th>66702</th>\n",
       "      <td>66702</td>\n",
       "      <td>ISFP</td>\n",
       "      <td>i like stuff i like a nice distance every now ...</td>\n",
       "      <td>Feeling</td>\n",
       "    </tr>\n",
       "    <tr>\n",
       "      <th>72548</th>\n",
       "      <td>72548</td>\n",
       "      <td>ISFP</td>\n",
       "      <td>Arrgh when people dont close their mouth when ...</td>\n",
       "      <td>Feeling</td>\n",
       "    </tr>\n",
       "    <tr>\n",
       "      <th>29439</th>\n",
       "      <td>29439</td>\n",
       "      <td>ENTP</td>\n",
       "      <td>Should we start doing it for everyone I bet th...</td>\n",
       "      <td>Thinking</td>\n",
       "    </tr>\n",
       "  </tbody>\n",
       "</table>\n",
       "</div>"
      ],
      "text/plain": [
       "        Unnamed: 0  type                                              tweet  \\\n",
       "92904        92904  ISFJ  you know youre a sensor when the reason you wa...   \n",
       "1902          1902  ENFJ  haha well i think it was unlikely hormones or ...   \n",
       "54610        54610  INTJ  so why cant she bring her friend along then yo...   \n",
       "103782      103782  ESTJ  I sometimes enjoy being a snarky bastard But I...   \n",
       "74035        74035  ISTJ  when i was together with my exgirlfriend she p...   \n",
       "53227        53227  INTJ  gt Sociability is required for success This ca...   \n",
       "89379        89379  ESFP  i think im just going to go by cognitive funct...   \n",
       "66702        66702  ISFP  i like stuff i like a nice distance every now ...   \n",
       "72548        72548  ISFP  Arrgh when people dont close their mouth when ...   \n",
       "29439        29439  ENTP  Should we start doing it for everyone I bet th...   \n",
       "\n",
       "       feeling_thinking  \n",
       "92904           Feeling  \n",
       "1902            Feeling  \n",
       "54610          Thinking  \n",
       "103782         Thinking  \n",
       "74035          Thinking  \n",
       "53227          Thinking  \n",
       "89379           Feeling  \n",
       "66702           Feeling  \n",
       "72548           Feeling  \n",
       "29439          Thinking  "
      ]
     },
     "execution_count": 5,
     "metadata": {},
     "output_type": "execute_result"
    }
   ],
   "source": [
    "mbti_df.sample(10)"
   ]
  },
  {
   "cell_type": "markdown",
   "metadata": {},
   "source": [
    "### Consider only posts with length < 32 words"
   ]
  },
  {
   "cell_type": "code",
   "execution_count": 6,
   "metadata": {},
   "outputs": [],
   "source": [
    "mbti_df = mbti_df[mbti_df['tweet'].str.split().str.len() < 32]"
   ]
  },
  {
   "cell_type": "code",
   "execution_count": 7,
   "metadata": {},
   "outputs": [
    {
     "data": {
      "text/html": [
       "<div>\n",
       "<style scoped>\n",
       "    .dataframe tbody tr th:only-of-type {\n",
       "        vertical-align: middle;\n",
       "    }\n",
       "\n",
       "    .dataframe tbody tr th {\n",
       "        vertical-align: top;\n",
       "    }\n",
       "\n",
       "    .dataframe thead th {\n",
       "        text-align: right;\n",
       "    }\n",
       "</style>\n",
       "<table border=\"1\" class=\"dataframe\">\n",
       "  <thead>\n",
       "    <tr style=\"text-align: right;\">\n",
       "      <th></th>\n",
       "      <th>Unnamed: 0</th>\n",
       "      <th>type</th>\n",
       "      <th>tweet</th>\n",
       "      <th>feeling_thinking</th>\n",
       "    </tr>\n",
       "  </thead>\n",
       "  <tbody>\n",
       "    <tr>\n",
       "      <th>0</th>\n",
       "      <td>0</td>\n",
       "      <td>ISFJ</td>\n",
       "      <td>Mindhunter, Broadchurch, The Sinner, Orphan Bl...</td>\n",
       "      <td>Feeling</td>\n",
       "    </tr>\n",
       "    <tr>\n",
       "      <th>1</th>\n",
       "      <td>1</td>\n",
       "      <td>ISFJ</td>\n",
       "      <td>Tinder has your health in mind.</td>\n",
       "      <td>Feeling</td>\n",
       "    </tr>\n",
       "    <tr>\n",
       "      <th>2</th>\n",
       "      <td>2</td>\n",
       "      <td>ISFJ</td>\n",
       "      <td>5 of 5 stars to Pretty Face by Lucy Parker</td>\n",
       "      <td>Feeling</td>\n",
       "    </tr>\n",
       "    <tr>\n",
       "      <th>3</th>\n",
       "      <td>3</td>\n",
       "      <td>ISFJ</td>\n",
       "      <td>Outstanding faculty from and more at Winter Co...</td>\n",
       "      <td>Feeling</td>\n",
       "    </tr>\n",
       "    <tr>\n",
       "      <th>4</th>\n",
       "      <td>4</td>\n",
       "      <td>ISFJ</td>\n",
       "      <td>Using pray and wait on God, can be a means of ...</td>\n",
       "      <td>Feeling</td>\n",
       "    </tr>\n",
       "    <tr>\n",
       "      <th>...</th>\n",
       "      <td>...</td>\n",
       "      <td>...</td>\n",
       "      <td>...</td>\n",
       "      <td>...</td>\n",
       "    </tr>\n",
       "    <tr>\n",
       "      <th>106313</th>\n",
       "      <td>106313</td>\n",
       "      <td>ESTP</td>\n",
       "      <td>True I do end up the mentor but I feel like Yo...</td>\n",
       "      <td>Thinking</td>\n",
       "    </tr>\n",
       "    <tr>\n",
       "      <th>106321</th>\n",
       "      <td>106321</td>\n",
       "      <td>ESFP</td>\n",
       "      <td>LOL and thats why I got sort of mad because th...</td>\n",
       "      <td>Feeling</td>\n",
       "    </tr>\n",
       "    <tr>\n",
       "      <th>106322</th>\n",
       "      <td>106322</td>\n",
       "      <td>ESTP</td>\n",
       "      <td>This is so legit holy shit lol I work in rando...</td>\n",
       "      <td>Thinking</td>\n",
       "    </tr>\n",
       "    <tr>\n",
       "      <th>106324</th>\n",
       "      <td>106324</td>\n",
       "      <td>ESTJ</td>\n",
       "      <td>Im more worried about the idea that we are sla...</td>\n",
       "      <td>Thinking</td>\n",
       "    </tr>\n",
       "    <tr>\n",
       "      <th>106325</th>\n",
       "      <td>106325</td>\n",
       "      <td>ESTP</td>\n",
       "      <td>Believing you dont have ethics is still an eth...</td>\n",
       "      <td>Thinking</td>\n",
       "    </tr>\n",
       "  </tbody>\n",
       "</table>\n",
       "<p>35554 rows × 4 columns</p>\n",
       "</div>"
      ],
      "text/plain": [
       "        Unnamed: 0  type                                              tweet  \\\n",
       "0                0  ISFJ  Mindhunter, Broadchurch, The Sinner, Orphan Bl...   \n",
       "1                1  ISFJ                    Tinder has your health in mind.   \n",
       "2                2  ISFJ         5 of 5 stars to Pretty Face by Lucy Parker   \n",
       "3                3  ISFJ  Outstanding faculty from and more at Winter Co...   \n",
       "4                4  ISFJ  Using pray and wait on God, can be a means of ...   \n",
       "...            ...   ...                                                ...   \n",
       "106313      106313  ESTP  True I do end up the mentor but I feel like Yo...   \n",
       "106321      106321  ESFP  LOL and thats why I got sort of mad because th...   \n",
       "106322      106322  ESTP  This is so legit holy shit lol I work in rando...   \n",
       "106324      106324  ESTJ  Im more worried about the idea that we are sla...   \n",
       "106325      106325  ESTP  Believing you dont have ethics is still an eth...   \n",
       "\n",
       "       feeling_thinking  \n",
       "0               Feeling  \n",
       "1               Feeling  \n",
       "2               Feeling  \n",
       "3               Feeling  \n",
       "4               Feeling  \n",
       "...                 ...  \n",
       "106313         Thinking  \n",
       "106321          Feeling  \n",
       "106322         Thinking  \n",
       "106324         Thinking  \n",
       "106325         Thinking  \n",
       "\n",
       "[35554 rows x 4 columns]"
      ]
     },
     "execution_count": 7,
     "metadata": {},
     "output_type": "execute_result"
    }
   ],
   "source": [
    "mbti_df"
   ]
  },
  {
   "cell_type": "code",
   "execution_count": 8,
   "metadata": {},
   "outputs": [],
   "source": [
    "mbti_df = mbti_df.drop(columns=['Unnamed: 0'])"
   ]
  },
  {
   "cell_type": "code",
   "execution_count": 9,
   "metadata": {},
   "outputs": [
    {
     "data": {
      "text/html": [
       "<div>\n",
       "<style scoped>\n",
       "    .dataframe tbody tr th:only-of-type {\n",
       "        vertical-align: middle;\n",
       "    }\n",
       "\n",
       "    .dataframe tbody tr th {\n",
       "        vertical-align: top;\n",
       "    }\n",
       "\n",
       "    .dataframe thead th {\n",
       "        text-align: right;\n",
       "    }\n",
       "</style>\n",
       "<table border=\"1\" class=\"dataframe\">\n",
       "  <thead>\n",
       "    <tr style=\"text-align: right;\">\n",
       "      <th></th>\n",
       "      <th>type</th>\n",
       "      <th>tweet</th>\n",
       "      <th>feeling_thinking</th>\n",
       "    </tr>\n",
       "  </thead>\n",
       "  <tbody>\n",
       "    <tr>\n",
       "      <th>114</th>\n",
       "      <td>ISFJ</td>\n",
       "      <td>On page 30 of 146 of Saga, Vol. 8, by Brian K....</td>\n",
       "      <td>Feeling</td>\n",
       "    </tr>\n",
       "    <tr>\n",
       "      <th>63889</th>\n",
       "      <td>INTP</td>\n",
       "      <td>ill just take whoever is left thank you i only...</td>\n",
       "      <td>Thinking</td>\n",
       "    </tr>\n",
       "    <tr>\n",
       "      <th>81910</th>\n",
       "      <td>ISTP</td>\n",
       "      <td>My favorite is 25Quiz It tests on the function...</td>\n",
       "      <td>Thinking</td>\n",
       "    </tr>\n",
       "    <tr>\n",
       "      <th>78946</th>\n",
       "      <td>ISTJ</td>\n",
       "      <td>There was talk of charades and pictionary whic...</td>\n",
       "      <td>Thinking</td>\n",
       "    </tr>\n",
       "    <tr>\n",
       "      <th>61631</th>\n",
       "      <td>INTP</td>\n",
       "      <td>lol theres games made just for that xd have yo...</td>\n",
       "      <td>Thinking</td>\n",
       "    </tr>\n",
       "    <tr>\n",
       "      <th>55125</th>\n",
       "      <td>INTJ</td>\n",
       "      <td>this although i noticed i dont like actually p...</td>\n",
       "      <td>Thinking</td>\n",
       "    </tr>\n",
       "    <tr>\n",
       "      <th>4898</th>\n",
       "      <td>ENFJ</td>\n",
       "      <td>Wow I cant relate to her at all even in my mos...</td>\n",
       "      <td>Feeling</td>\n",
       "    </tr>\n",
       "    <tr>\n",
       "      <th>58422</th>\n",
       "      <td>INTP</td>\n",
       "      <td>I never really use G I have a bunch of friends...</td>\n",
       "      <td>Thinking</td>\n",
       "    </tr>\n",
       "    <tr>\n",
       "      <th>19401</th>\n",
       "      <td>ENTJ</td>\n",
       "      <td>For example when I facebook message them stuff...</td>\n",
       "      <td>Thinking</td>\n",
       "    </tr>\n",
       "    <tr>\n",
       "      <th>40818</th>\n",
       "      <td>INFP</td>\n",
       "      <td>for in much wisdom is much vexation and he who...</td>\n",
       "      <td>Feeling</td>\n",
       "    </tr>\n",
       "  </tbody>\n",
       "</table>\n",
       "</div>"
      ],
      "text/plain": [
       "       type                                              tweet  \\\n",
       "114    ISFJ  On page 30 of 146 of Saga, Vol. 8, by Brian K....   \n",
       "63889  INTP  ill just take whoever is left thank you i only...   \n",
       "81910  ISTP  My favorite is 25Quiz It tests on the function...   \n",
       "78946  ISTJ  There was talk of charades and pictionary whic...   \n",
       "61631  INTP  lol theres games made just for that xd have yo...   \n",
       "55125  INTJ  this although i noticed i dont like actually p...   \n",
       "4898   ENFJ  Wow I cant relate to her at all even in my mos...   \n",
       "58422  INTP  I never really use G I have a bunch of friends...   \n",
       "19401  ENTJ  For example when I facebook message them stuff...   \n",
       "40818  INFP  for in much wisdom is much vexation and he who...   \n",
       "\n",
       "      feeling_thinking  \n",
       "114            Feeling  \n",
       "63889         Thinking  \n",
       "81910         Thinking  \n",
       "78946         Thinking  \n",
       "61631         Thinking  \n",
       "55125         Thinking  \n",
       "4898           Feeling  \n",
       "58422         Thinking  \n",
       "19401         Thinking  \n",
       "40818          Feeling  "
      ]
     },
     "execution_count": 9,
     "metadata": {},
     "output_type": "execute_result"
    }
   ],
   "source": [
    "mbti_df.sample(10)"
   ]
  },
  {
   "cell_type": "code",
   "execution_count": 11,
   "metadata": {},
   "outputs": [
    {
     "name": "stderr",
     "output_type": "stream",
     "text": [
      "C:\\Users\\fizuf\\AppData\\Local\\Temp\\ipykernel_19068\\4235719063.py:6: FutureWarning: \n",
      "\n",
      "Passing `palette` without assigning `hue` is deprecated and will be removed in v0.14.0. Assign the `x` variable to `hue` and set `legend=False` for the same effect.\n",
      "\n",
      "  ax = sns.barplot(data=mbti_df_grouped, x='feeling_thinking', y='n_posts', palette='husl')\n"
     ]
    },
    {
     "data": {
      "image/png": "[encoded data removed]",
      "text/plain": [
       "<Figure size 1000x600 with 1 Axes>"
      ]
     },
     "metadata": {},
     "output_type": "display_data"
    }
   ],
   "source": [
    "mbti_df_grouped = mbti_df.groupby('feeling_thinking').size().reset_index(name='n_posts')\n",
    "mbti_df_grouped = mbti_df_grouped.sort_values(by='n_posts', ascending=False)\n",
    "mbti_df_grouped.columns = ['feeling_thinking', 'n_posts']\n",
    "\n",
    "plt.figure(figsize=(10, 6))\n",
    "ax = sns.barplot(data=mbti_df_grouped, x='feeling_thinking', y='n_posts', palette='husl')\n",
    "\n",
    "# Add annotations (number of users above each bar)\n",
    "for p in ax.patches:\n",
    "    ax.annotate(f'{int(p.get_height())}', \n",
    "                (p.get_x() + p.get_width() / 2, p.get_height()), \n",
    "                ha='center', va='bottom', fontsize=8, color='black')\n",
    "\n",
    "plt.title('Distribution by feeling and thinking', fontsize=16, fontweight='bold', pad=16)\n",
    "plt.xlabel('Feeling (F) or Thinking (T)', fontsize=12)\n",
    "plt.ylabel('Number of posts', fontsize=12)\n",
    "\n",
    "plt.show()"
   ]
  },
  {
   "cell_type": "code",
   "execution_count": 12,
   "metadata": {},
   "outputs": [],
   "source": [
    "mbti_labels_dict = {\n",
    "    'Feeling': 0,\n",
    "    'Thinking': 1,\n",
    "}"
   ]
  },
  {
   "cell_type": "markdown",
   "metadata": {},
   "source": [
    "### Split datasets"
   ]
  },
  {
   "cell_type": "code",
   "execution_count": 13,
   "metadata": {},
   "outputs": [],
   "source": [
    "X = mbti_df['tweet']\n",
    "y = mbti_df['feeling_thinking']\n",
    "\n",
    "y = y.map(mbti_labels_dict)"
   ]
  },
  {
   "cell_type": "code",
   "execution_count": 14,
   "metadata": {},
   "outputs": [
    {
     "name": "stdout",
     "output_type": "stream",
     "text": [
      "Using device: cpu\n"
     ]
    }
   ],
   "source": [
    "device = torch.device(\"cuda\" if torch.cuda.is_available() else \"cpu\")\n",
    "\n",
    "print(f\"Using device: {device}\")"
   ]
  },
  {
   "cell_type": "markdown",
   "metadata": {},
   "source": [
    "### Fine Tune BERT"
   ]
  },
  {
   "cell_type": "code",
   "execution_count": 15,
   "metadata": {},
   "outputs": [
    {
     "name": "stderr",
     "output_type": "stream",
     "text": [
      "Some weights of BertForSequenceClassification were not initialized from the model checkpoint at bert-base-uncased and are newly initialized: ['classifier.bias', 'classifier.weight']\n",
      "You should probably TRAIN this model on a down-stream task to be able to use it for predictions and inference.\n"
     ]
    }
   ],
   "source": [
    "tokenizer = BertTokenizer.from_pretrained('bert-base-uncased')\n",
    "model = BertForSequenceClassification.from_pretrained('bert-base-uncased', num_labels=2)  \n",
    "model.config.hidden_dropout_prob = 0.3"
   ]
  },
  {
   "cell_type": "code",
   "execution_count": 16,
   "metadata": {},
   "outputs": [],
   "source": [
    "inputs = tokenizer(X.tolist(), padding=True, truncation=True, max_length=32, return_tensors='pt')\n",
    "labels = torch.tensor(y.values) \n",
    "\n",
    "train_dataset = torch.utils.data.TensorDataset(inputs['input_ids'], inputs['attention_mask'], labels)\n",
    "\n",
    "train_dataset, val_dataset = train_test_split(train_dataset, test_size=0.3)\n",
    "\n",
    "train_dataloader = DataLoader(train_dataset, batch_size=16, shuffle=True)\n",
    "val_dataloader = DataLoader(val_dataset, batch_size=16)"
   ]
  },
  {
   "cell_type": "code",
   "execution_count": 18,
   "metadata": {},
   "outputs": [
    {
     "name": "stdout",
     "output_type": "stream",
     "text": [
      "Epoch 1/10, Loss: 0.6755402294444854\n",
      "Accuracy: 0.5816, Precision: 0.5775, Recall: 0.5816, F1-Score: 0.5660\n",
      "Epoch 2/10, Loss: 0.632331579712945\n",
      "Accuracy: 0.6468, Precision: 0.6454, Recall: 0.6468, F1-Score: 0.6428\n",
      "Epoch 3/10, Loss: 0.5314533023647293\n",
      "Accuracy: 0.7369, Precision: 0.7365, Recall: 0.7369, F1-Score: 0.7357\n",
      "Epoch 4/10, Loss: 0.35058789481923636\n",
      "Accuracy: 0.8516, Precision: 0.8515, Recall: 0.8516, F1-Score: 0.8514\n",
      "Epoch 5/10, Loss: 0.19543328992232373\n",
      "Accuracy: 0.9243, Precision: 0.9243, Recall: 0.9243, F1-Score: 0.9243\n",
      "Epoch 6/10, Loss: 0.1137969840547204\n",
      "Accuracy: 0.9571, Precision: 0.9571, Recall: 0.9571, F1-Score: 0.9571\n",
      "Epoch 7/10, Loss: 0.0805784103466296\n",
      "Accuracy: 0.9707, Precision: 0.9707, Recall: 0.9707, F1-Score: 0.9707\n",
      "Epoch 8/10, Loss: 0.0646265822422037\n",
      "Accuracy: 0.9770, Precision: 0.9770, Recall: 0.9770, F1-Score: 0.9770\n",
      "Epoch 9/10, Loss: 0.048317252781044914\n",
      "Accuracy: 0.9820, Precision: 0.9820, Recall: 0.9820, F1-Score: 0.9820\n",
      "Epoch 10/10, Loss: 0.042966994109028885\n",
      "Accuracy: 0.9849, Precision: 0.9849, Recall: 0.9849, F1-Score: 0.9849\n"
     ]
    },
    {
     "data": {
      "text/plain": [
       "['data/tokenizer_5.joblib']"
      ]
     },
     "execution_count": 18,
     "metadata": {},
     "output_type": "execute_result"
    }
   ],
   "source": [
    "import joblib\n",
    "\n",
    "optimizer = AdamW(model.parameters(), lr=1e-5, weight_decay=0.01)\n",
    "criterion = torch.nn.CrossEntropyLoss()\n",
    "\n",
    "# Training loop\n",
    "device = torch.device(\"cuda\" if torch.cuda.is_available() else \"cpu\")\n",
    "model.to(device)\n",
    "\n",
    "num_epochs = 10\n",
    "\n",
    "losses = []\n",
    "acc = []\n",
    "prec = []\n",
    "recalls = []\n",
    "f1score = []\n",
    "\n",
    "for epoch in range(num_epochs):\n",
    "    model.train()  # Set model to training mode\n",
    "    running_loss = 0.0\n",
    "    all_preds = []\n",
    "    all_labels = []\n",
    "    \n",
    "    for batch in train_dataloader:\n",
    "        input_ids, attention_mask, labels = [b.to(device) for b in batch]\n",
    "        \n",
    "        # Zero gradients\n",
    "        optimizer.zero_grad()\n",
    "        \n",
    "        # Forward pass\n",
    "        outputs = model(input_ids, attention_mask=attention_mask)\n",
    "        logits = outputs.logits\n",
    "        \n",
    "        # Calculate loss\n",
    "        loss = criterion(logits, labels)\n",
    "        \n",
    "        # Backward pass and optimize\n",
    "        loss.backward()\n",
    "        optimizer.step()\n",
    "        \n",
    "        # Track loss\n",
    "        running_loss += loss.item()\n",
    "        \n",
    "        # Track predictions and labels\n",
    "        preds = logits.argmax(dim=-1)\n",
    "        all_preds.extend(preds.cpu().numpy())\n",
    "        all_labels.extend(labels.cpu().numpy())\n",
    "    \n",
    "    avg_loss = running_loss / len(train_dataloader)\n",
    "\n",
    "    losses.append(avg_loss)\n",
    "    print(f\"Epoch {epoch + 1}/{num_epochs}, Loss: {avg_loss}\")\n",
    "    \n",
    "    # Calculate metrics (accuracy, precision, recall, F1-score)\n",
    "    accuracy = accuracy_score(all_labels, all_preds)\n",
    "    precision, recall, f1, _ = precision_recall_fscore_support(all_labels, all_preds, average='weighted')\n",
    "\n",
    "    acc.append(accuracy)\n",
    "    prec.append(precision)\n",
    "    recalls.append(recall)\n",
    "    f1score.append(f1)\n",
    "\n",
    "    print(f\"Accuracy: {accuracy:.4f}, Precision: {precision:.4f}, Recall: {recall:.4f}, F1-Score: {f1:.4f}\")\n",
    "\n",
    "\n",
    "joblib.dump(model, 'data/model_5.joblib')\n",
    "joblib.dump(tokenizer, 'data/tokenizer_5.joblib')"
   ]
  },
  {
   "cell_type": "code",
   "execution_count": 31,
   "metadata": {},
   "outputs": [
    {
     "data": {
      "text/plain": [
       "['data/tokenizer_3.joblib']"
      ]
     },
     "execution_count": 31,
     "metadata": {},
     "output_type": "execute_result"
    }
   ],
   "source": [
    "import joblib\n",
    "\n",
    "joblib.dump(model, 'data/model_3.joblib')\n",
    "joblib.dump(tokenizer, 'data/tokenizer_3.joblib')"
   ]
  },
  {
   "cell_type": "markdown",
   "metadata": {},
   "source": [
    "### Loss"
   ]
  },
  {
   "cell_type": "code",
   "execution_count": 19,
   "metadata": {},
   "outputs": [
    {
     "data": {
      "image/png": "[encoded data removed]",
      "text/plain": [
       "<Figure size 1000x600 with 1 Axes>"
      ]
     },
     "metadata": {},
     "output_type": "display_data"
    }
   ],
   "source": [
    "plt.figure(figsize=(10, 6))  # Set the figure size\n",
    "plt.plot(losses, label='Training Loss', color='b', marker='o')  # Plot losses\n",
    "plt.title('Training Loss over Epochs')  # Title of the plot\n",
    "plt.xlabel('Epochs')  # Label for the x-axis\n",
    "plt.ylabel('Loss')  # Label for the y-axis\n",
    "plt.legend()  # Add a legend\n",
    "plt.grid(True)  # Show gridlines for better readability\n",
    "plt.show()  # Display the plot"
   ]
  },
  {
   "cell_type": "markdown",
   "metadata": {},
   "source": [
    "### Accuracy, precision, recall, and f1-score"
   ]
  },
  {
   "cell_type": "code",
   "execution_count": 20,
   "metadata": {},
   "outputs": [
    {
     "name": "stdout",
     "output_type": "stream",
     "text": [
      "              precision    recall  f1-score   support\n",
      "\n",
      "           0       0.98      0.98      0.98     11391\n",
      "           1       0.99      0.99      0.99     13496\n",
      "\n",
      "    accuracy                           0.98     24887\n",
      "   macro avg       0.98      0.98      0.98     24887\n",
      "weighted avg       0.98      0.98      0.98     24887\n",
      "\n"
     ]
    }
   ],
   "source": [
    "from sklearn.metrics import classification_report\n",
    "\n",
    "# Print classification report\n",
    "print(classification_report(all_preds, all_labels))\n"
   ]
  },
  {
   "cell_type": "code",
   "execution_count": 21,
   "metadata": {},
   "outputs": [
    {
     "data": {
      "image/png": "[encoded data removed]",
      "text/plain": [
       "<Figure size 1000x600 with 1 Axes>"
      ]
     },
     "metadata": {},
     "output_type": "display_data"
    }
   ],
   "source": [
    "epochs = range(1, len(acc) + 1)\n",
    "\n",
    "# Plotting the metrics\n",
    "plt.figure(figsize=(10, 6))\n",
    "plt.plot(epochs, acc, label='Accuracy', marker='o')\n",
    "plt.plot(epochs, prec, label='Precision', marker='s')\n",
    "plt.plot(epochs, recalls, label='Recall', marker='d')\n",
    "plt.plot(epochs, f1score, label='F1 Score', marker='^')\n",
    "\n",
    "# Adding labels and title\n",
    "plt.xlabel('Epochs')\n",
    "plt.ylabel('Score')\n",
    "plt.title('Performance Metrics Over Epochs')\n",
    "plt.legend()\n",
    "\n",
    "# Display the plot\n",
    "plt.grid(True)\n",
    "plt.show()"
   ]
  },
  {
   "cell_type": "markdown",
   "metadata": {},
   "source": [
    "## Evaluation"
   ]
  },
  {
   "cell_type": "code",
   "execution_count": 2,
   "metadata": {},
   "outputs": [
    {
     "name": "stderr",
     "output_type": "stream",
     "text": [
      "c:\\Users\\fizuf\\anaconda3\\envs\\vidovax-env\\Lib\\site-packages\\tqdm\\auto.py:21: TqdmWarning: IProgress not found. Please update jupyter and ipywidgets. See https://ipywidgets.readthedocs.io/en/stable/user_install.html\n",
      "  from .autonotebook import tqdm as notebook_tqdm\n"
     ]
    }
   ],
   "source": [
    "import joblib \n",
    "\n",
    "model = joblib.load('data/model_2.joblib')\n",
    "tokenizer = joblib.load('data/tokenizer_2.joblib')"
   ]
  },
  {
   "cell_type": "code",
   "execution_count": 22,
   "metadata": {},
   "outputs": [
    {
     "name": "stderr",
     "output_type": "stream",
     "text": [
      "BertSdpaSelfAttention is used but `torch.nn.functional.scaled_dot_product_attention` does not support non-absolute `position_embedding_type` or `output_attentions=True` or `head_mask`. Falling back to the manual attention implementation, but specifying the manual implementation will be required from Transformers version v5.0.0 onwards. This warning can be removed using the argument `attn_implementation=\"eager\"` when loading the model.\n"
     ]
    },
    {
     "name": "stdout",
     "output_type": "stream",
     "text": [
      "Testing - Accuracy: 0.5772, Precision: 0.5745, Recall: 0.5772, F1-Score: 0.5731\n",
      "              precision    recall  f1-score   support\n",
      "\n",
      "           0       0.55      0.47      0.51      4962\n",
      "           1       0.59      0.67      0.63      5705\n",
      "\n",
      "    accuracy                           0.58     10667\n",
      "   macro avg       0.57      0.57      0.57     10667\n",
      "weighted avg       0.57      0.58      0.57     10667\n",
      "\n"
     ]
    }
   ],
   "source": [
    "import torch\n",
    "\n",
    "model.eval()  # Set model to evaluation mode\n",
    "\n",
    "val_preds = []\n",
    "val_labels = []\n",
    "all_attentions = []\n",
    "\n",
    "with torch.no_grad():\n",
    "    for batch in val_dataloader:\n",
    "        input_ids, attention_mask, labels = [b.to(device) for b in batch]\n",
    "        outputs = model(input_ids, attention_mask=attention_mask, output_attentions=True)\n",
    "        attentions = outputs.attentions\n",
    "        all_attentions.append(attentions)\n",
    "        logits = outputs.logits\n",
    "        preds = logits.argmax(dim=-1)\n",
    "        val_preds.extend(preds.cpu().numpy())\n",
    "        val_labels.extend(labels.cpu().numpy())\n",
    "                        \n",
    "    # Validation metrics\n",
    "    val_accuracy = accuracy_score(val_labels, val_preds)\n",
    "    val_precision, val_recall, val_f1, _ = precision_recall_fscore_support(val_labels, val_preds, average='weighted')\n",
    "\n",
    "    print(f\"Testing - Accuracy: {val_accuracy:.4f}, Precision: {val_precision:.4f}, Recall: {val_recall:.4f}, F1-Score: {val_f1:.4f}\")\n",
    "\n",
    "# Print classification report using val_preds and val_labels\n",
    "print(classification_report(val_labels, val_preds))\n"
   ]
  },
  {
   "cell_type": "code",
   "execution_count": 23,
   "metadata": {},
   "outputs": [
    {
     "data": {
      "image/png": "[encoded data removed]",
      "text/plain": [
       "<Figure size 1000x800 with 2 Axes>"
      ]
     },
     "metadata": {},
     "output_type": "display_data"
    }
   ],
   "source": [
    "layer = 0  # First layer\n",
    "head = 0   # First attention head\n",
    "attention_weights = attentions[layer][0, head].cpu().numpy()\n",
    "\n",
    "plt.figure(figsize=(10, 8))\n",
    "sns.heatmap(attention_weights, annot=False, cmap='viridis')\n",
    "plt.title(f\"Attention Weights - Layer {layer}, Head {head}\")\n",
    "plt.show()"
   ]
  }
 ],
 "metadata": {
  "kernelspec": {
   "display_name": "vidovax-env",
   "language": "python",
   "name": "python3"
  },
  "language_info": {
   "codemirror_mode": {
    "name": "ipython",
    "version": 3
   },
   "file_extension": ".py",
   "mimetype": "text/x-python",
   "name": "python",
   "nbconvert_exporter": "python",
   "pygments_lexer": "ipython3",
   "version": "3.11.11"
  }
 },
 "nbformat": 4,
 "nbformat_minor": 2
}
