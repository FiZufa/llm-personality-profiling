{
 "cells": [
  {
   "cell_type": "markdown",
   "metadata": {},
   "source": [
    "# Fine Tune"
   ]
  },
  {
   "cell_type": "code",
   "execution_count": 1,
   "metadata": {},
   "outputs": [
    {
     "name": "stderr",
     "output_type": "stream",
     "text": [
      "c:\\Users\\fizuf\\anaconda3\\envs\\vidovax-env\\Lib\\site-packages\\tqdm\\auto.py:21: TqdmWarning: IProgress not found. Please update jupyter and ipywidgets. See https://ipywidgets.readthedocs.io/en/stable/user_install.html\n",
      "  from .autonotebook import tqdm as notebook_tqdm\n"
     ]
    }
   ],
   "source": [
    "import pandas as pd\n",
    "import numpy as np\n",
    "import matplotlib.pyplot as plt\n",
    "import seaborn as sns\n",
    "\n",
    "from transformers import BertTokenizer, BertModel, BertForSequenceClassification, AdamW\n",
    "\n",
    "from sklearn.model_selection import train_test_split\n",
    "from sklearn.utils.class_weight import compute_class_weight\n",
    "from sklearn.preprocessing import LabelEncoder\n",
    "from sklearn.metrics import accuracy_score, precision_recall_fscore_support, classification_report\n",
    "\n",
    "import torch\n",
    "import torch.utils.data\n",
    "from torch.utils.data import DataLoader, TensorDataset\n",
    "\n",
    "import tqdm as tqdm"
   ]
  },
  {
   "cell_type": "markdown",
   "metadata": {},
   "source": [
    "## Prepare Dataset"
   ]
  },
  {
   "cell_type": "code",
   "execution_count": 2,
   "metadata": {},
   "outputs": [],
   "source": [
    "mbti_df = pd.read_csv('../processed/all_data_3.csv')"
   ]
  },
  {
   "cell_type": "code",
   "execution_count": 3,
   "metadata": {},
   "outputs": [
    {
     "data": {
      "text/html": [
       "<div>\n",
       "<style scoped>\n",
       "    .dataframe tbody tr th:only-of-type {\n",
       "        vertical-align: middle;\n",
       "    }\n",
       "\n",
       "    .dataframe tbody tr th {\n",
       "        vertical-align: top;\n",
       "    }\n",
       "\n",
       "    .dataframe thead th {\n",
       "        text-align: right;\n",
       "    }\n",
       "</style>\n",
       "<table border=\"1\" class=\"dataframe\">\n",
       "  <thead>\n",
       "    <tr style=\"text-align: right;\">\n",
       "      <th></th>\n",
       "      <th>Unnamed: 0</th>\n",
       "      <th>type</th>\n",
       "      <th>tweet</th>\n",
       "    </tr>\n",
       "  </thead>\n",
       "  <tbody>\n",
       "    <tr>\n",
       "      <th>0</th>\n",
       "      <td>0</td>\n",
       "      <td>ISFJ</td>\n",
       "      <td>Mindhunter, Broadchurch, The Sinner, Orphan Bl...</td>\n",
       "    </tr>\n",
       "    <tr>\n",
       "      <th>1</th>\n",
       "      <td>1</td>\n",
       "      <td>ISFJ</td>\n",
       "      <td>Tinder has your health in mind.</td>\n",
       "    </tr>\n",
       "    <tr>\n",
       "      <th>2</th>\n",
       "      <td>2</td>\n",
       "      <td>ISFJ</td>\n",
       "      <td>5 of 5 stars to Pretty Face by Lucy Parker</td>\n",
       "    </tr>\n",
       "    <tr>\n",
       "      <th>3</th>\n",
       "      <td>3</td>\n",
       "      <td>ISFJ</td>\n",
       "      <td>Outstanding faculty from and more at Winter Co...</td>\n",
       "    </tr>\n",
       "    <tr>\n",
       "      <th>4</th>\n",
       "      <td>4</td>\n",
       "      <td>ISFJ</td>\n",
       "      <td>Using pray and wait on God, can be a means of ...</td>\n",
       "    </tr>\n",
       "    <tr>\n",
       "      <th>...</th>\n",
       "      <td>...</td>\n",
       "      <td>...</td>\n",
       "      <td>...</td>\n",
       "    </tr>\n",
       "    <tr>\n",
       "      <th>106322</th>\n",
       "      <td>106322</td>\n",
       "      <td>ESTP</td>\n",
       "      <td>This is so legit holy shit lol I work in rando...</td>\n",
       "    </tr>\n",
       "    <tr>\n",
       "      <th>106323</th>\n",
       "      <td>106323</td>\n",
       "      <td>ESTP</td>\n",
       "      <td>Same here When Im in a group Im fairly quiet u...</td>\n",
       "    </tr>\n",
       "    <tr>\n",
       "      <th>106324</th>\n",
       "      <td>106324</td>\n",
       "      <td>ESTJ</td>\n",
       "      <td>Im more worried about the idea that we are sla...</td>\n",
       "    </tr>\n",
       "    <tr>\n",
       "      <th>106325</th>\n",
       "      <td>106325</td>\n",
       "      <td>ESTP</td>\n",
       "      <td>Believing you dont have ethics is still an eth...</td>\n",
       "    </tr>\n",
       "    <tr>\n",
       "      <th>106326</th>\n",
       "      <td>106326</td>\n",
       "      <td>ESFP</td>\n",
       "      <td>You sound like such a spergelord In my experie...</td>\n",
       "    </tr>\n",
       "  </tbody>\n",
       "</table>\n",
       "<p>106327 rows × 3 columns</p>\n",
       "</div>"
      ],
      "text/plain": [
       "        Unnamed: 0  type                                              tweet\n",
       "0                0  ISFJ  Mindhunter, Broadchurch, The Sinner, Orphan Bl...\n",
       "1                1  ISFJ                    Tinder has your health in mind.\n",
       "2                2  ISFJ         5 of 5 stars to Pretty Face by Lucy Parker\n",
       "3                3  ISFJ  Outstanding faculty from and more at Winter Co...\n",
       "4                4  ISFJ  Using pray and wait on God, can be a means of ...\n",
       "...            ...   ...                                                ...\n",
       "106322      106322  ESTP  This is so legit holy shit lol I work in rando...\n",
       "106323      106323  ESTP  Same here When Im in a group Im fairly quiet u...\n",
       "106324      106324  ESTJ  Im more worried about the idea that we are sla...\n",
       "106325      106325  ESTP  Believing you dont have ethics is still an eth...\n",
       "106326      106326  ESFP  You sound like such a spergelord In my experie...\n",
       "\n",
       "[106327 rows x 3 columns]"
      ]
     },
     "execution_count": 3,
     "metadata": {},
     "output_type": "execute_result"
    }
   ],
   "source": [
    "mbti_df"
   ]
  },
  {
   "cell_type": "markdown",
   "metadata": {},
   "source": [
    "### Add column `introvert_extrovert`"
   ]
  },
  {
   "cell_type": "code",
   "execution_count": 4,
   "metadata": {},
   "outputs": [],
   "source": [
    "mbti_df['perceiving_judging'] = mbti_df['type'].apply(lambda x: 'Perceiving' if x[3] == 'P' else 'Judging')"
   ]
  },
  {
   "cell_type": "code",
   "execution_count": 5,
   "metadata": {},
   "outputs": [
    {
     "data": {
      "text/html": [
       "<div>\n",
       "<style scoped>\n",
       "    .dataframe tbody tr th:only-of-type {\n",
       "        vertical-align: middle;\n",
       "    }\n",
       "\n",
       "    .dataframe tbody tr th {\n",
       "        vertical-align: top;\n",
       "    }\n",
       "\n",
       "    .dataframe thead th {\n",
       "        text-align: right;\n",
       "    }\n",
       "</style>\n",
       "<table border=\"1\" class=\"dataframe\">\n",
       "  <thead>\n",
       "    <tr style=\"text-align: right;\">\n",
       "      <th></th>\n",
       "      <th>Unnamed: 0</th>\n",
       "      <th>type</th>\n",
       "      <th>tweet</th>\n",
       "      <th>perceiving_judging</th>\n",
       "    </tr>\n",
       "  </thead>\n",
       "  <tbody>\n",
       "    <tr>\n",
       "      <th>10454</th>\n",
       "      <td>10454</td>\n",
       "      <td>ENFP</td>\n",
       "      <td>gt the whole demographic is inherently dumb or...</td>\n",
       "      <td>Perceiving</td>\n",
       "    </tr>\n",
       "    <tr>\n",
       "      <th>62799</th>\n",
       "      <td>62799</td>\n",
       "      <td>INTP</td>\n",
       "      <td>No its not If you think Redpill summarizes all...</td>\n",
       "      <td>Perceiving</td>\n",
       "    </tr>\n",
       "    <tr>\n",
       "      <th>59944</th>\n",
       "      <td>59944</td>\n",
       "      <td>INTP</td>\n",
       "      <td>I get that more from other Chinese particularl...</td>\n",
       "      <td>Perceiving</td>\n",
       "    </tr>\n",
       "    <tr>\n",
       "      <th>54784</th>\n",
       "      <td>54784</td>\n",
       "      <td>INTJ</td>\n",
       "      <td>Its only stiff and awkward if you think of it ...</td>\n",
       "      <td>Judging</td>\n",
       "    </tr>\n",
       "    <tr>\n",
       "      <th>12258</th>\n",
       "      <td>12258</td>\n",
       "      <td>ENFP</td>\n",
       "      <td>do you see how limited you are in your view yo...</td>\n",
       "      <td>Perceiving</td>\n",
       "    </tr>\n",
       "    <tr>\n",
       "      <th>79890</th>\n",
       "      <td>79890</td>\n",
       "      <td>ISTJ</td>\n",
       "      <td>Loud music usually doesnt bother me Many times...</td>\n",
       "      <td>Judging</td>\n",
       "    </tr>\n",
       "    <tr>\n",
       "      <th>105250</th>\n",
       "      <td>105250</td>\n",
       "      <td>ESTP</td>\n",
       "      <td>I learned about it in a college class and then...</td>\n",
       "      <td>Perceiving</td>\n",
       "    </tr>\n",
       "    <tr>\n",
       "      <th>79197</th>\n",
       "      <td>79197</td>\n",
       "      <td>ISTJ</td>\n",
       "      <td>Ive not heard of it but have just checked it o...</td>\n",
       "      <td>Judging</td>\n",
       "    </tr>\n",
       "    <tr>\n",
       "      <th>6445</th>\n",
       "      <td>6445</td>\n",
       "      <td>ENFJ</td>\n",
       "      <td>Annoying article as a whole Theres so much dis...</td>\n",
       "      <td>Judging</td>\n",
       "    </tr>\n",
       "    <tr>\n",
       "      <th>97299</th>\n",
       "      <td>97299</td>\n",
       "      <td>ISFJ</td>\n",
       "      <td>i do find it amusing how almost no one has rea...</td>\n",
       "      <td>Judging</td>\n",
       "    </tr>\n",
       "  </tbody>\n",
       "</table>\n",
       "</div>"
      ],
      "text/plain": [
       "        Unnamed: 0  type                                              tweet  \\\n",
       "10454        10454  ENFP  gt the whole demographic is inherently dumb or...   \n",
       "62799        62799  INTP  No its not If you think Redpill summarizes all...   \n",
       "59944        59944  INTP  I get that more from other Chinese particularl...   \n",
       "54784        54784  INTJ  Its only stiff and awkward if you think of it ...   \n",
       "12258        12258  ENFP  do you see how limited you are in your view yo...   \n",
       "79890        79890  ISTJ  Loud music usually doesnt bother me Many times...   \n",
       "105250      105250  ESTP  I learned about it in a college class and then...   \n",
       "79197        79197  ISTJ  Ive not heard of it but have just checked it o...   \n",
       "6445          6445  ENFJ  Annoying article as a whole Theres so much dis...   \n",
       "97299        97299  ISFJ  i do find it amusing how almost no one has rea...   \n",
       "\n",
       "       perceiving_judging  \n",
       "10454          Perceiving  \n",
       "62799          Perceiving  \n",
       "59944          Perceiving  \n",
       "54784             Judging  \n",
       "12258          Perceiving  \n",
       "79890             Judging  \n",
       "105250         Perceiving  \n",
       "79197             Judging  \n",
       "6445              Judging  \n",
       "97299             Judging  "
      ]
     },
     "execution_count": 5,
     "metadata": {},
     "output_type": "execute_result"
    }
   ],
   "source": [
    "mbti_df.sample(10)"
   ]
  },
  {
   "cell_type": "markdown",
   "metadata": {},
   "source": [
    "### Consider only posts with length < 32 words"
   ]
  },
  {
   "cell_type": "code",
   "execution_count": 6,
   "metadata": {},
   "outputs": [],
   "source": [
    "mbti_df = mbti_df[mbti_df['tweet'].str.split().str.len() < 32]"
   ]
  },
  {
   "cell_type": "code",
   "execution_count": 7,
   "metadata": {},
   "outputs": [
    {
     "data": {
      "text/html": [
       "<div>\n",
       "<style scoped>\n",
       "    .dataframe tbody tr th:only-of-type {\n",
       "        vertical-align: middle;\n",
       "    }\n",
       "\n",
       "    .dataframe tbody tr th {\n",
       "        vertical-align: top;\n",
       "    }\n",
       "\n",
       "    .dataframe thead th {\n",
       "        text-align: right;\n",
       "    }\n",
       "</style>\n",
       "<table border=\"1\" class=\"dataframe\">\n",
       "  <thead>\n",
       "    <tr style=\"text-align: right;\">\n",
       "      <th></th>\n",
       "      <th>Unnamed: 0</th>\n",
       "      <th>type</th>\n",
       "      <th>tweet</th>\n",
       "      <th>perceiving_judging</th>\n",
       "    </tr>\n",
       "  </thead>\n",
       "  <tbody>\n",
       "    <tr>\n",
       "      <th>0</th>\n",
       "      <td>0</td>\n",
       "      <td>ISFJ</td>\n",
       "      <td>Mindhunter, Broadchurch, The Sinner, Orphan Bl...</td>\n",
       "      <td>Judging</td>\n",
       "    </tr>\n",
       "    <tr>\n",
       "      <th>1</th>\n",
       "      <td>1</td>\n",
       "      <td>ISFJ</td>\n",
       "      <td>Tinder has your health in mind.</td>\n",
       "      <td>Judging</td>\n",
       "    </tr>\n",
       "    <tr>\n",
       "      <th>2</th>\n",
       "      <td>2</td>\n",
       "      <td>ISFJ</td>\n",
       "      <td>5 of 5 stars to Pretty Face by Lucy Parker</td>\n",
       "      <td>Judging</td>\n",
       "    </tr>\n",
       "    <tr>\n",
       "      <th>3</th>\n",
       "      <td>3</td>\n",
       "      <td>ISFJ</td>\n",
       "      <td>Outstanding faculty from and more at Winter Co...</td>\n",
       "      <td>Judging</td>\n",
       "    </tr>\n",
       "    <tr>\n",
       "      <th>4</th>\n",
       "      <td>4</td>\n",
       "      <td>ISFJ</td>\n",
       "      <td>Using pray and wait on God, can be a means of ...</td>\n",
       "      <td>Judging</td>\n",
       "    </tr>\n",
       "    <tr>\n",
       "      <th>...</th>\n",
       "      <td>...</td>\n",
       "      <td>...</td>\n",
       "      <td>...</td>\n",
       "      <td>...</td>\n",
       "    </tr>\n",
       "    <tr>\n",
       "      <th>106313</th>\n",
       "      <td>106313</td>\n",
       "      <td>ESTP</td>\n",
       "      <td>True I do end up the mentor but I feel like Yo...</td>\n",
       "      <td>Perceiving</td>\n",
       "    </tr>\n",
       "    <tr>\n",
       "      <th>106321</th>\n",
       "      <td>106321</td>\n",
       "      <td>ESFP</td>\n",
       "      <td>LOL and thats why I got sort of mad because th...</td>\n",
       "      <td>Perceiving</td>\n",
       "    </tr>\n",
       "    <tr>\n",
       "      <th>106322</th>\n",
       "      <td>106322</td>\n",
       "      <td>ESTP</td>\n",
       "      <td>This is so legit holy shit lol I work in rando...</td>\n",
       "      <td>Perceiving</td>\n",
       "    </tr>\n",
       "    <tr>\n",
       "      <th>106324</th>\n",
       "      <td>106324</td>\n",
       "      <td>ESTJ</td>\n",
       "      <td>Im more worried about the idea that we are sla...</td>\n",
       "      <td>Judging</td>\n",
       "    </tr>\n",
       "    <tr>\n",
       "      <th>106325</th>\n",
       "      <td>106325</td>\n",
       "      <td>ESTP</td>\n",
       "      <td>Believing you dont have ethics is still an eth...</td>\n",
       "      <td>Perceiving</td>\n",
       "    </tr>\n",
       "  </tbody>\n",
       "</table>\n",
       "<p>35554 rows × 4 columns</p>\n",
       "</div>"
      ],
      "text/plain": [
       "        Unnamed: 0  type                                              tweet  \\\n",
       "0                0  ISFJ  Mindhunter, Broadchurch, The Sinner, Orphan Bl...   \n",
       "1                1  ISFJ                    Tinder has your health in mind.   \n",
       "2                2  ISFJ         5 of 5 stars to Pretty Face by Lucy Parker   \n",
       "3                3  ISFJ  Outstanding faculty from and more at Winter Co...   \n",
       "4                4  ISFJ  Using pray and wait on God, can be a means of ...   \n",
       "...            ...   ...                                                ...   \n",
       "106313      106313  ESTP  True I do end up the mentor but I feel like Yo...   \n",
       "106321      106321  ESFP  LOL and thats why I got sort of mad because th...   \n",
       "106322      106322  ESTP  This is so legit holy shit lol I work in rando...   \n",
       "106324      106324  ESTJ  Im more worried about the idea that we are sla...   \n",
       "106325      106325  ESTP  Believing you dont have ethics is still an eth...   \n",
       "\n",
       "       perceiving_judging  \n",
       "0                 Judging  \n",
       "1                 Judging  \n",
       "2                 Judging  \n",
       "3                 Judging  \n",
       "4                 Judging  \n",
       "...                   ...  \n",
       "106313         Perceiving  \n",
       "106321         Perceiving  \n",
       "106322         Perceiving  \n",
       "106324            Judging  \n",
       "106325         Perceiving  \n",
       "\n",
       "[35554 rows x 4 columns]"
      ]
     },
     "execution_count": 7,
     "metadata": {},
     "output_type": "execute_result"
    }
   ],
   "source": [
    "mbti_df"
   ]
  },
  {
   "cell_type": "code",
   "execution_count": 8,
   "metadata": {},
   "outputs": [],
   "source": [
    "mbti_df = mbti_df.drop(columns=['Unnamed: 0'])"
   ]
  },
  {
   "cell_type": "code",
   "execution_count": 9,
   "metadata": {},
   "outputs": [
    {
     "data": {
      "text/html": [
       "<div>\n",
       "<style scoped>\n",
       "    .dataframe tbody tr th:only-of-type {\n",
       "        vertical-align: middle;\n",
       "    }\n",
       "\n",
       "    .dataframe tbody tr th {\n",
       "        vertical-align: top;\n",
       "    }\n",
       "\n",
       "    .dataframe thead th {\n",
       "        text-align: right;\n",
       "    }\n",
       "</style>\n",
       "<table border=\"1\" class=\"dataframe\">\n",
       "  <thead>\n",
       "    <tr style=\"text-align: right;\">\n",
       "      <th></th>\n",
       "      <th>type</th>\n",
       "      <th>tweet</th>\n",
       "      <th>perceiving_judging</th>\n",
       "    </tr>\n",
       "  </thead>\n",
       "  <tbody>\n",
       "    <tr>\n",
       "      <th>62240</th>\n",
       "      <td>INTP</td>\n",
       "      <td>a few more i liked this one because of the cap...</td>\n",
       "      <td>Perceiving</td>\n",
       "    </tr>\n",
       "    <tr>\n",
       "      <th>75838</th>\n",
       "      <td>ISTJ</td>\n",
       "      <td>just a general question how important is a cle...</td>\n",
       "      <td>Judging</td>\n",
       "    </tr>\n",
       "    <tr>\n",
       "      <th>62894</th>\n",
       "      <td>INTP</td>\n",
       "      <td>feeling at peace with ones self at least thats...</td>\n",
       "      <td>Perceiving</td>\n",
       "    </tr>\n",
       "    <tr>\n",
       "      <th>100907</th>\n",
       "      <td>ESFJ</td>\n",
       "      <td>Im on Facebook way too much for my own good Ge...</td>\n",
       "      <td>Judging</td>\n",
       "    </tr>\n",
       "    <tr>\n",
       "      <th>19141</th>\n",
       "      <td>ENTJ</td>\n",
       "      <td>Correct me if Im wrong but I thought each ques...</td>\n",
       "      <td>Judging</td>\n",
       "    </tr>\n",
       "    <tr>\n",
       "      <th>98495</th>\n",
       "      <td>ISFJ</td>\n",
       "      <td>Ok from what im getting you are some sort of E...</td>\n",
       "      <td>Judging</td>\n",
       "    </tr>\n",
       "    <tr>\n",
       "      <th>64084</th>\n",
       "      <td>INTP</td>\n",
       "      <td>Lol sounds much like the relationship between ...</td>\n",
       "      <td>Perceiving</td>\n",
       "    </tr>\n",
       "    <tr>\n",
       "      <th>20067</th>\n",
       "      <td>ENTJ</td>\n",
       "      <td>has there ever been a moment in which you just...</td>\n",
       "      <td>Judging</td>\n",
       "    </tr>\n",
       "    <tr>\n",
       "      <th>23955</th>\n",
       "      <td>ENTJ</td>\n",
       "      <td>especially philosophy who are as dedicated to ...</td>\n",
       "      <td>Judging</td>\n",
       "    </tr>\n",
       "    <tr>\n",
       "      <th>55435</th>\n",
       "      <td>INTJ</td>\n",
       "      <td>going by the dictionary definitiona person who...</td>\n",
       "      <td>Judging</td>\n",
       "    </tr>\n",
       "  </tbody>\n",
       "</table>\n",
       "</div>"
      ],
      "text/plain": [
       "        type                                              tweet  \\\n",
       "62240   INTP  a few more i liked this one because of the cap...   \n",
       "75838   ISTJ  just a general question how important is a cle...   \n",
       "62894   INTP  feeling at peace with ones self at least thats...   \n",
       "100907  ESFJ  Im on Facebook way too much for my own good Ge...   \n",
       "19141   ENTJ  Correct me if Im wrong but I thought each ques...   \n",
       "98495   ISFJ  Ok from what im getting you are some sort of E...   \n",
       "64084   INTP  Lol sounds much like the relationship between ...   \n",
       "20067   ENTJ  has there ever been a moment in which you just...   \n",
       "23955   ENTJ  especially philosophy who are as dedicated to ...   \n",
       "55435   INTJ  going by the dictionary definitiona person who...   \n",
       "\n",
       "       perceiving_judging  \n",
       "62240          Perceiving  \n",
       "75838             Judging  \n",
       "62894          Perceiving  \n",
       "100907            Judging  \n",
       "19141             Judging  \n",
       "98495             Judging  \n",
       "64084          Perceiving  \n",
       "20067             Judging  \n",
       "23955             Judging  \n",
       "55435             Judging  "
      ]
     },
     "execution_count": 9,
     "metadata": {},
     "output_type": "execute_result"
    }
   ],
   "source": [
    "mbti_df.sample(10)"
   ]
  },
  {
   "cell_type": "code",
   "execution_count": 10,
   "metadata": {},
   "outputs": [
    {
     "name": "stderr",
     "output_type": "stream",
     "text": [
      "C:\\Users\\fizuf\\AppData\\Local\\Temp\\ipykernel_3316\\3459639367.py:6: FutureWarning: \n",
      "\n",
      "Passing `palette` without assigning `hue` is deprecated and will be removed in v0.14.0. Assign the `x` variable to `hue` and set `legend=False` for the same effect.\n",
      "\n",
      "  ax = sns.barplot(data=mbti_df_grouped, x='perceiving_judging', y='n_posts', palette='husl')\n"
     ]
    },
    {
     "data": {
      "image/png": "[encoded data removed]",
      "text/plain": [
       "<Figure size 1000x600 with 1 Axes>"
      ]
     },
     "metadata": {},
     "output_type": "display_data"
    }
   ],
   "source": [
    "mbti_df_grouped = mbti_df.groupby('perceiving_judging').size().reset_index(name='n_posts')\n",
    "mbti_df_grouped = mbti_df_grouped.sort_values(by='n_posts', ascending=False)\n",
    "mbti_df_grouped.columns = ['perceiving_judging', 'n_posts']\n",
    "\n",
    "plt.figure(figsize=(10, 6))\n",
    "ax = sns.barplot(data=mbti_df_grouped, x='perceiving_judging', y='n_posts', palette='husl')\n",
    "\n",
    "# Add annotations (number of users above each bar)\n",
    "for p in ax.patches:\n",
    "    ax.annotate(f'{int(p.get_height())}', \n",
    "                (p.get_x() + p.get_width() / 2, p.get_height()), \n",
    "                ha='center', va='bottom', fontsize=8, color='black')\n",
    "\n",
    "plt.title('Distribution by perceiving and judging', fontsize=16, fontweight='bold', pad=16)\n",
    "plt.xlabel('Perceiving (P) or Judging (J)', fontsize=12)\n",
    "plt.ylabel('Number of posts', fontsize=12)\n",
    "\n",
    "plt.show()"
   ]
  },
  {
   "cell_type": "code",
   "execution_count": 11,
   "metadata": {},
   "outputs": [],
   "source": [
    "mbti_labels_dict = {\n",
    "    'Perceiving': 0,\n",
    "    'Judging': 1,\n",
    "}"
   ]
  },
  {
   "cell_type": "markdown",
   "metadata": {},
   "source": [
    "### Split datasets"
   ]
  },
  {
   "cell_type": "code",
   "execution_count": 12,
   "metadata": {},
   "outputs": [],
   "source": [
    "X = mbti_df['tweet']\n",
    "y = mbti_df['perceiving_judging']\n",
    "\n",
    "y = y.map(mbti_labels_dict)"
   ]
  },
  {
   "cell_type": "code",
   "execution_count": 14,
   "metadata": {},
   "outputs": [
    {
     "name": "stdout",
     "output_type": "stream",
     "text": [
      "Using device: cpu\n"
     ]
    }
   ],
   "source": [
    "device = torch.device(\"cuda\" if torch.cuda.is_available() else \"cpu\")\n",
    "\n",
    "print(f\"Using device: {device}\")"
   ]
  },
  {
   "cell_type": "markdown",
   "metadata": {},
   "source": [
    "### Fine Tune BERT"
   ]
  },
  {
   "cell_type": "code",
   "execution_count": 15,
   "metadata": {},
   "outputs": [
    {
     "name": "stderr",
     "output_type": "stream",
     "text": [
      "Some weights of BertForSequenceClassification were not initialized from the model checkpoint at bert-base-uncased and are newly initialized: ['classifier.bias', 'classifier.weight']\n",
      "You should probably TRAIN this model on a down-stream task to be able to use it for predictions and inference.\n"
     ]
    }
   ],
   "source": [
    "tokenizer = BertTokenizer.from_pretrained('bert-base-uncased')\n",
    "model = BertForSequenceClassification.from_pretrained('bert-base-uncased', num_labels=2)  \n",
    "model.config.hidden_dropout_prob = 0.3"
   ]
  },
  {
   "cell_type": "code",
   "execution_count": 16,
   "metadata": {},
   "outputs": [],
   "source": [
    "inputs = tokenizer(X.tolist(), padding=True, truncation=True, max_length=32, return_tensors='pt')\n",
    "labels = torch.tensor(y.values) \n",
    "\n",
    "train_dataset = torch.utils.data.TensorDataset(inputs['input_ids'], inputs['attention_mask'], labels)\n",
    "\n",
    "train_dataset, val_dataset = train_test_split(train_dataset, test_size=0.3)\n",
    "\n",
    "train_dataloader = DataLoader(train_dataset, batch_size=16, shuffle=True)\n",
    "val_dataloader = DataLoader(val_dataset, batch_size=16)"
   ]
  },
  {
   "cell_type": "code",
   "execution_count": 17,
   "metadata": {},
   "outputs": [
    {
     "name": "stderr",
     "output_type": "stream",
     "text": [
      "c:\\Users\\fizuf\\anaconda3\\envs\\vidovax-env\\Lib\\site-packages\\transformers\\optimization.py:591: FutureWarning: This implementation of AdamW is deprecated and will be removed in a future version. Use the PyTorch implementation torch.optim.AdamW instead, or set `no_deprecation_warning=True` to disable this warning\n",
      "  warnings.warn(\n"
     ]
    },
    {
     "name": "stdout",
     "output_type": "stream",
     "text": [
      "Epoch 1/10, Loss: 0.6868187478698005\n",
      "Accuracy: 0.5484, Precision: 0.5411, Recall: 0.5484, F1-Score: 0.5191\n",
      "Epoch 2/10, Loss: 0.6612703315434848\n",
      "Accuracy: 0.6013, Precision: 0.6010, Recall: 0.6013, F1-Score: 0.5886\n",
      "Epoch 3/10, Loss: 0.5762619432780154\n",
      "Accuracy: 0.6986, Precision: 0.6987, Recall: 0.6986, F1-Score: 0.6962\n",
      "Epoch 4/10, Loss: 0.3856147772424249\n",
      "Accuracy: 0.8271, Precision: 0.8271, Recall: 0.8271, F1-Score: 0.8267\n",
      "Epoch 5/10, Loss: 0.20682585148911703\n",
      "Accuracy: 0.9178, Precision: 0.9178, Recall: 0.9178, F1-Score: 0.9177\n",
      "Epoch 6/10, Loss: 0.12541917098011549\n",
      "Accuracy: 0.9532, Precision: 0.9532, Recall: 0.9532, F1-Score: 0.9532\n",
      "Epoch 7/10, Loss: 0.08590334757071966\n",
      "Accuracy: 0.9677, Precision: 0.9677, Recall: 0.9677, F1-Score: 0.9677\n",
      "Epoch 8/10, Loss: 0.0664278767377292\n",
      "Accuracy: 0.9746, Precision: 0.9746, Recall: 0.9746, F1-Score: 0.9746\n",
      "Epoch 9/10, Loss: 0.057627128387894425\n",
      "Accuracy: 0.9774, Precision: 0.9774, Recall: 0.9774, F1-Score: 0.9774\n",
      "Epoch 10/10, Loss: 0.04926607361152992\n",
      "Accuracy: 0.9820, Precision: 0.9820, Recall: 0.9820, F1-Score: 0.9820\n"
     ]
    },
    {
     "data": {
      "text/plain": [
       "['data/tokenizer_6.joblib']"
      ]
     },
     "execution_count": 17,
     "metadata": {},
     "output_type": "execute_result"
    }
   ],
   "source": [
    "import joblib\n",
    "\n",
    "optimizer = AdamW(model.parameters(), lr=1e-5, weight_decay=0.01)\n",
    "criterion = torch.nn.CrossEntropyLoss()\n",
    "\n",
    "# Training loop\n",
    "device = torch.device(\"cuda\" if torch.cuda.is_available() else \"cpu\")\n",
    "model.to(device)\n",
    "\n",
    "num_epochs = 10\n",
    "\n",
    "losses = []\n",
    "acc = []\n",
    "prec = []\n",
    "recalls = []\n",
    "f1score = []\n",
    "\n",
    "for epoch in range(num_epochs):\n",
    "    model.train()  # Set model to training mode\n",
    "    running_loss = 0.0\n",
    "    all_preds = []\n",
    "    all_labels = []\n",
    "    \n",
    "    for batch in train_dataloader:\n",
    "        input_ids, attention_mask, labels = [b.to(device) for b in batch]\n",
    "        \n",
    "        # Zero gradients\n",
    "        optimizer.zero_grad()\n",
    "        \n",
    "        # Forward pass\n",
    "        outputs = model(input_ids, attention_mask=attention_mask)\n",
    "        logits = outputs.logits\n",
    "        \n",
    "        # Calculate loss\n",
    "        loss = criterion(logits, labels)\n",
    "        \n",
    "        # Backward pass and optimize\n",
    "        loss.backward()\n",
    "        optimizer.step()\n",
    "        \n",
    "        # Track loss\n",
    "        running_loss += loss.item()\n",
    "        \n",
    "        # Track predictions and labels\n",
    "        preds = logits.argmax(dim=-1)\n",
    "        all_preds.extend(preds.cpu().numpy())\n",
    "        all_labels.extend(labels.cpu().numpy())\n",
    "    \n",
    "    avg_loss = running_loss / len(train_dataloader)\n",
    "\n",
    "    losses.append(avg_loss)\n",
    "    print(f\"Epoch {epoch + 1}/{num_epochs}, Loss: {avg_loss}\")\n",
    "    \n",
    "    # Calculate metrics (accuracy, precision, recall, F1-score)\n",
    "    accuracy = accuracy_score(all_labels, all_preds)\n",
    "    precision, recall, f1, _ = precision_recall_fscore_support(all_labels, all_preds, average='weighted')\n",
    "\n",
    "    acc.append(accuracy)\n",
    "    prec.append(precision)\n",
    "    recalls.append(recall)\n",
    "    f1score.append(f1)\n",
    "\n",
    "    print(f\"Accuracy: {accuracy:.4f}, Precision: {precision:.4f}, Recall: {recall:.4f}, F1-Score: {f1:.4f}\")\n",
    "\n",
    "\n",
    "joblib.dump(model, 'data/model_6.joblib')\n",
    "joblib.dump(tokenizer, 'data/tokenizer_6.joblib')"
   ]
  },
  {
   "cell_type": "code",
   "execution_count": 31,
   "metadata": {},
   "outputs": [
    {
     "data": {
      "text/plain": [
       "['data/tokenizer_3.joblib']"
      ]
     },
     "execution_count": 31,
     "metadata": {},
     "output_type": "execute_result"
    }
   ],
   "source": [
    "import joblib\n",
    "\n",
    "joblib.dump(model, 'data/model_3.joblib')\n",
    "joblib.dump(tokenizer, 'data/tokenizer_3.joblib')"
   ]
  },
  {
   "cell_type": "markdown",
   "metadata": {},
   "source": [
    "### Loss"
   ]
  },
  {
   "cell_type": "code",
   "execution_count": 18,
   "metadata": {},
   "outputs": [
    {
     "data": {
      "image/png": "[encoded data removed]",
      "text/plain": [
       "<Figure size 1000x600 with 1 Axes>"
      ]
     },
     "metadata": {},
     "output_type": "display_data"
    }
   ],
   "source": [
    "plt.figure(figsize=(10, 6))  # Set the figure size\n",
    "plt.plot(losses, label='Training Loss', color='b', marker='o')  # Plot losses\n",
    "plt.title('Training Loss over Epochs')  # Title of the plot\n",
    "plt.xlabel('Epochs')  # Label for the x-axis\n",
    "plt.ylabel('Loss')  # Label for the y-axis\n",
    "plt.legend()  # Add a legend\n",
    "plt.grid(True)  # Show gridlines for better readability\n",
    "plt.show()  # Display the plot"
   ]
  },
  {
   "cell_type": "markdown",
   "metadata": {},
   "source": [
    "### Accuracy, precision, recall, and f1-score"
   ]
  },
  {
   "cell_type": "code",
   "execution_count": 19,
   "metadata": {},
   "outputs": [
    {
     "name": "stdout",
     "output_type": "stream",
     "text": [
      "              precision    recall  f1-score   support\n",
      "\n",
      "           0       0.98      0.98      0.98     13365\n",
      "           1       0.98      0.98      0.98     11522\n",
      "\n",
      "    accuracy                           0.98     24887\n",
      "   macro avg       0.98      0.98      0.98     24887\n",
      "weighted avg       0.98      0.98      0.98     24887\n",
      "\n"
     ]
    }
   ],
   "source": [
    "from sklearn.metrics import classification_report\n",
    "\n",
    "# Print classification report\n",
    "print(classification_report(all_preds, all_labels))\n"
   ]
  },
  {
   "cell_type": "code",
   "execution_count": 20,
   "metadata": {},
   "outputs": [
    {
     "data": {
      "image/png": "[encoded data removed]",
      "text/plain": [
       "<Figure size 1000x600 with 1 Axes>"
      ]
     },
     "metadata": {},
     "output_type": "display_data"
    }
   ],
   "source": [
    "epochs = range(1, len(acc) + 1)\n",
    "\n",
    "# Plotting the metrics\n",
    "plt.figure(figsize=(10, 6))\n",
    "plt.plot(epochs, acc, label='Accuracy', marker='o')\n",
    "plt.plot(epochs, prec, label='Precision', marker='s')\n",
    "plt.plot(epochs, recalls, label='Recall', marker='d')\n",
    "plt.plot(epochs, f1score, label='F1 Score', marker='^')\n",
    "\n",
    "# Adding labels and title\n",
    "plt.xlabel('Epochs')\n",
    "plt.ylabel('Score')\n",
    "plt.title('Performance Metrics Over Epochs')\n",
    "plt.legend()\n",
    "\n",
    "# Display the plot\n",
    "plt.grid(True)\n",
    "plt.show()"
   ]
  },
  {
   "cell_type": "markdown",
   "metadata": {},
   "source": [
    "## Evaluation"
   ]
  },
  {
   "cell_type": "code",
   "execution_count": 2,
   "metadata": {},
   "outputs": [
    {
     "name": "stderr",
     "output_type": "stream",
     "text": [
      "c:\\Users\\fizuf\\anaconda3\\envs\\vidovax-env\\Lib\\site-packages\\tqdm\\auto.py:21: TqdmWarning: IProgress not found. Please update jupyter and ipywidgets. See https://ipywidgets.readthedocs.io/en/stable/user_install.html\n",
      "  from .autonotebook import tqdm as notebook_tqdm\n"
     ]
    }
   ],
   "source": [
    "import joblib \n",
    "\n",
    "model = joblib.load('data/model_2.joblib')\n",
    "tokenizer = joblib.load('data/tokenizer_2.joblib')"
   ]
  },
  {
   "cell_type": "code",
   "execution_count": 21,
   "metadata": {},
   "outputs": [
    {
     "name": "stderr",
     "output_type": "stream",
     "text": [
      "BertSdpaSelfAttention is used but `torch.nn.functional.scaled_dot_product_attention` does not support non-absolute `position_embedding_type` or `output_attentions=True` or `head_mask`. Falling back to the manual attention implementation, but specifying the manual implementation will be required from Transformers version v5.0.0 onwards. This warning can be removed using the argument `attn_implementation=\"eager\"` when loading the model.\n"
     ]
    },
    {
     "name": "stdout",
     "output_type": "stream",
     "text": [
      "Testing - Accuracy: 0.5291, Precision: 0.5419, Recall: 0.5291, F1-Score: 0.5270\n",
      "              precision    recall  f1-score   support\n",
      "\n",
      "           0       0.59      0.45      0.51      5813\n",
      "           1       0.49      0.62      0.55      4854\n",
      "\n",
      "    accuracy                           0.53     10667\n",
      "   macro avg       0.54      0.54      0.53     10667\n",
      "weighted avg       0.54      0.53      0.53     10667\n",
      "\n"
     ]
    }
   ],
   "source": [
    "import torch\n",
    "\n",
    "model.eval()  # Set model to evaluation mode\n",
    "\n",
    "val_preds = []\n",
    "val_labels = []\n",
    "all_attentions = []\n",
    "\n",
    "with torch.no_grad():\n",
    "    for batch in val_dataloader:\n",
    "        input_ids, attention_mask, labels = [b.to(device) for b in batch]\n",
    "        outputs = model(input_ids, attention_mask=attention_mask, output_attentions=True)\n",
    "        attentions = outputs.attentions\n",
    "        all_attentions.append(attentions)\n",
    "        logits = outputs.logits\n",
    "        preds = logits.argmax(dim=-1)\n",
    "        val_preds.extend(preds.cpu().numpy())\n",
    "        val_labels.extend(labels.cpu().numpy())\n",
    "                        \n",
    "    # Validation metrics\n",
    "    val_accuracy = accuracy_score(val_labels, val_preds)\n",
    "    val_precision, val_recall, val_f1, _ = precision_recall_fscore_support(val_labels, val_preds, average='weighted')\n",
    "\n",
    "    print(f\"Testing - Accuracy: {val_accuracy:.4f}, Precision: {val_precision:.4f}, Recall: {val_recall:.4f}, F1-Score: {val_f1:.4f}\")\n",
    "\n",
    "# Print classification report using val_preds and val_labels\n",
    "print(classification_report(val_labels, val_preds))\n"
   ]
  },
  {
   "cell_type": "code",
   "execution_count": 22,
   "metadata": {},
   "outputs": [
    {
     "data": {
      "image/png": "[encoded data removed]",
      "text/plain": [
       "<Figure size 1000x800 with 2 Axes>"
      ]
     },
     "metadata": {},
     "output_type": "display_data"
    }
   ],
   "source": [
    "layer = 0  # First layer\n",
    "head = 0   # First attention head\n",
    "attention_weights = attentions[layer][0, head].cpu().numpy()\n",
    "\n",
    "plt.figure(figsize=(10, 8))\n",
    "sns.heatmap(attention_weights, annot=False, cmap='viridis')\n",
    "plt.title(f\"Attention Weights - Layer {layer}, Head {head}\")\n",
    "plt.show()"
   ]
  }
 ],
 "metadata": {
  "kernelspec": {
   "display_name": "vidovax-env",
   "language": "python",
   "name": "python3"
  },
  "language_info": {
   "codemirror_mode": {
    "name": "ipython",
    "version": 3
   },
   "file_extension": ".py",
   "mimetype": "text/x-python",
   "name": "python",
   "nbconvert_exporter": "python",
   "pygments_lexer": "ipython3",
   "version": "3.11.11"
  }
 },
 "nbformat": 4,
 "nbformat_minor": 2
}
