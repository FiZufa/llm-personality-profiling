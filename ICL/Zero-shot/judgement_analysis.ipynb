{
 "cells": [
  {
   "cell_type": "markdown",
   "id": "af6f672a",
   "metadata": {},
   "source": [
    "# LLM-as-a-judge Analysis"
   ]
  },
  {
   "cell_type": "code",
   "execution_count": 1,
   "id": "5d8e3c4f",
   "metadata": {},
   "outputs": [],
   "source": [
    "import json\n",
    "import pandas as pd"
   ]
  },
  {
   "cell_type": "markdown",
   "id": "4e007e7c",
   "metadata": {},
   "source": [
    "## Calculate scores"
   ]
  },
  {
   "cell_type": "code",
   "execution_count": 5,
   "id": "54417a78",
   "metadata": {},
   "outputs": [],
   "source": [
    "def calculate_score(df):\n",
    "    trait_consistency = df['judgment'].str.extract(r'Trait Consistency:\\s*(\\d+)')[0].astype(int).mean()\n",
    "    evidence_quality = df['judgment'].str.extract(r'Evidence Quality:\\s*(\\d+)')[0].astype(int).mean()\n",
    "    logical_flow = df['judgment'].str.extract(r'Logical Flow:\\s*(\\d+)')[0].astype(int).mean()\n",
    "    acc = df['judgment'].str.extract(r'Type Accuracy:\\s*(\\d+)')[0].astype(int).sum()\n",
    "\n",
    "    return {\n",
    "        'Trait Consistency (avg)': float(trait_consistency),\n",
    "        'Evidence Quality (avg)': float(evidence_quality),\n",
    "        'Logical Flow (avg)': float(logical_flow),\n",
    "        'Type Accuracy (sum)': int(acc)\n",
    "    }\n"
   ]
  },
  {
   "cell_type": "markdown",
   "id": "257db77e",
   "metadata": {},
   "source": [
    "### GPT"
   ]
  },
  {
   "cell_type": "code",
   "execution_count": 9,
   "id": "832c4d2f",
   "metadata": {},
   "outputs": [
    {
     "data": {
      "text/html": [
       "<div>\n",
       "<style scoped>\n",
       "    .dataframe tbody tr th:only-of-type {\n",
       "        vertical-align: middle;\n",
       "    }\n",
       "\n",
       "    .dataframe tbody tr th {\n",
       "        vertical-align: top;\n",
       "    }\n",
       "\n",
       "    .dataframe thead th {\n",
       "        text-align: right;\n",
       "    }\n",
       "</style>\n",
       "<table border=\"1\" class=\"dataframe\">\n",
       "  <thead>\n",
       "    <tr style=\"text-align: right;\">\n",
       "      <th></th>\n",
       "      <th>text</th>\n",
       "      <th>mbti_actual</th>\n",
       "      <th>reasoning</th>\n",
       "      <th>judgment</th>\n",
       "    </tr>\n",
       "  </thead>\n",
       "  <tbody>\n",
       "    <tr>\n",
       "      <th>0</th>\n",
       "      <td>Yes and due to it being shapes and objects tha...</td>\n",
       "      <td>INTJ</td>\n",
       "      <td>Based on the text provided, we need to analyze...</td>\n",
       "      <td>SCORES:\\nTrait Consistency: 2/5\\nEvidence Qual...</td>\n",
       "    </tr>\n",
       "    <tr>\n",
       "      <th>1</th>\n",
       "      <td>Also a logical fallacy Just because celebritie...</td>\n",
       "      <td>INTP</td>\n",
       "      <td>MBTI Type Prediction: INTP\\n\\nReasoning:\\n\\n1....</td>\n",
       "      <td>SCORES:\\nTrait Consistency: 4/5\\nEvidence Qual...</td>\n",
       "    </tr>\n",
       "    <tr>\n",
       "      <th>2</th>\n",
       "      <td>i dont know if its a just a rant or you actual...</td>\n",
       "      <td>ENTJ</td>\n",
       "      <td>MBTI Type Prediction: INTP\\n\\nReasoning:\\n\\n1....</td>\n",
       "      <td>SCORES:\\nTrait Consistency: 3/5\\nEvidence Qual...</td>\n",
       "    </tr>\n",
       "    <tr>\n",
       "      <th>3</th>\n",
       "      <td>Very well could also be a sign of immaturity o...</td>\n",
       "      <td>ENTP</td>\n",
       "      <td>To predict an MBTI personality type from this ...</td>\n",
       "      <td>SCORES:\\nTrait Consistency: 3/5\\nEvidence Qual...</td>\n",
       "    </tr>\n",
       "    <tr>\n",
       "      <th>4</th>\n",
       "      <td>Thank you Youre right theres nothing to miss o...</td>\n",
       "      <td>INFJ</td>\n",
       "      <td>MBTI Type Prediction: ISFP\\n\\nReasoning:\\n\\n1....</td>\n",
       "      <td>SCORES:\\nTrait Consistency: 3/5\\nEvidence Qual...</td>\n",
       "    </tr>\n",
       "    <tr>\n",
       "      <th>...</th>\n",
       "      <td>...</td>\n",
       "      <td>...</td>\n",
       "      <td>...</td>\n",
       "      <td>...</td>\n",
       "    </tr>\n",
       "    <tr>\n",
       "      <th>59</th>\n",
       "      <td>indifferent towards the type of pencil as long...</td>\n",
       "      <td>ISTJ</td>\n",
       "      <td>To predict the MBTI personality type based on ...</td>\n",
       "      <td>SCORES:\\nTrait Consistency: 4/5\\nEvidence Qual...</td>\n",
       "    </tr>\n",
       "    <tr>\n",
       "      <th>60</th>\n",
       "      <td>whoa now just because i like rope and leather ...</td>\n",
       "      <td>ISTJ</td>\n",
       "      <td>MBTI Type Prediction: ESTP\\n\\n**Reasoning:**\\n...</td>\n",
       "      <td>SCORES:\\nTrait Consistency: 2/5\\nEvidence Qual...</td>\n",
       "    </tr>\n",
       "    <tr>\n",
       "      <th>61</th>\n",
       "      <td>I can usually tell within about 510 seconds if...</td>\n",
       "      <td>ISTP</td>\n",
       "      <td>MBTI Type Prediction: ESTP\\n\\nReasoning:\\n\\n1....</td>\n",
       "      <td>SCORES:\\nTrait Consistency: 3/5\\nEvidence Qual...</td>\n",
       "    </tr>\n",
       "    <tr>\n",
       "      <th>62</th>\n",
       "      <td>Yeah I notice I do it often it annoys some of ...</td>\n",
       "      <td>ISTP</td>\n",
       "      <td>MBTI Type Prediction: ENFP\\n\\nReasoning:\\n\\n1....</td>\n",
       "      <td>SCORES:\\nTrait Consistency: 2/5\\nEvidence Qual...</td>\n",
       "    </tr>\n",
       "    <tr>\n",
       "      <th>63</th>\n",
       "      <td>holy moley this post is gonna be revealing how...</td>\n",
       "      <td>ISFJ</td>\n",
       "      <td>MBTI Type Prediction: ISTJ (Introverted, Sensi...</td>\n",
       "      <td>SCORES:\\nTrait Consistency: 3/5\\nEvidence Qual...</td>\n",
       "    </tr>\n",
       "  </tbody>\n",
       "</table>\n",
       "<p>64 rows × 4 columns</p>\n",
       "</div>"
      ],
      "text/plain": [
       "                                                 text mbti_actual  \\\n",
       "0   Yes and due to it being shapes and objects tha...        INTJ   \n",
       "1   Also a logical fallacy Just because celebritie...        INTP   \n",
       "2   i dont know if its a just a rant or you actual...        ENTJ   \n",
       "3   Very well could also be a sign of immaturity o...        ENTP   \n",
       "4   Thank you Youre right theres nothing to miss o...        INFJ   \n",
       "..                                                ...         ...   \n",
       "59  indifferent towards the type of pencil as long...        ISTJ   \n",
       "60  whoa now just because i like rope and leather ...        ISTJ   \n",
       "61  I can usually tell within about 510 seconds if...        ISTP   \n",
       "62  Yeah I notice I do it often it annoys some of ...        ISTP   \n",
       "63  holy moley this post is gonna be revealing how...        ISFJ   \n",
       "\n",
       "                                            reasoning  \\\n",
       "0   Based on the text provided, we need to analyze...   \n",
       "1   MBTI Type Prediction: INTP\\n\\nReasoning:\\n\\n1....   \n",
       "2   MBTI Type Prediction: INTP\\n\\nReasoning:\\n\\n1....   \n",
       "3   To predict an MBTI personality type from this ...   \n",
       "4   MBTI Type Prediction: ISFP\\n\\nReasoning:\\n\\n1....   \n",
       "..                                                ...   \n",
       "59  To predict the MBTI personality type based on ...   \n",
       "60  MBTI Type Prediction: ESTP\\n\\n**Reasoning:**\\n...   \n",
       "61  MBTI Type Prediction: ESTP\\n\\nReasoning:\\n\\n1....   \n",
       "62  MBTI Type Prediction: ENFP\\n\\nReasoning:\\n\\n1....   \n",
       "63  MBTI Type Prediction: ISTJ (Introverted, Sensi...   \n",
       "\n",
       "                                             judgment  \n",
       "0   SCORES:\\nTrait Consistency: 2/5\\nEvidence Qual...  \n",
       "1   SCORES:\\nTrait Consistency: 4/5\\nEvidence Qual...  \n",
       "2   SCORES:\\nTrait Consistency: 3/5\\nEvidence Qual...  \n",
       "3   SCORES:\\nTrait Consistency: 3/5\\nEvidence Qual...  \n",
       "4   SCORES:\\nTrait Consistency: 3/5\\nEvidence Qual...  \n",
       "..                                                ...  \n",
       "59  SCORES:\\nTrait Consistency: 4/5\\nEvidence Qual...  \n",
       "60  SCORES:\\nTrait Consistency: 2/5\\nEvidence Qual...  \n",
       "61  SCORES:\\nTrait Consistency: 3/5\\nEvidence Qual...  \n",
       "62  SCORES:\\nTrait Consistency: 2/5\\nEvidence Qual...  \n",
       "63  SCORES:\\nTrait Consistency: 3/5\\nEvidence Qual...  \n",
       "\n",
       "[64 rows x 4 columns]"
      ]
     },
     "execution_count": 9,
     "metadata": {},
     "output_type": "execute_result"
    }
   ],
   "source": [
    "gpt_N0"
   ]
  },
  {
   "cell_type": "code",
   "execution_count": 4,
   "id": "0aa1aec7",
   "metadata": {},
   "outputs": [],
   "source": [
    "gpt_N0 = pd.read_json('judge_GPT_N0.json')\n",
    "gpt_N16 = pd.read_json('judge_GPT_N16.json')\n",
    "gpt_N32 = pd.read_json('judge_GPT_N32.json')\n",
    "gpt_N48 = pd.read_json('judge_GPT_N48.json')"
   ]
  },
  {
   "cell_type": "code",
   "execution_count": 14,
   "id": "23325cab",
   "metadata": {},
   "outputs": [
    {
     "data": {
      "text/plain": [
       "{'Trait Consistency (avg)': 2.609375,\n",
       " 'Evidence Quality (avg)': 1.609375,\n",
       " 'Logical Flow (avg)': 3.03125,\n",
       " 'Type Accuracy (sum)': 4}"
      ]
     },
     "execution_count": 14,
     "metadata": {},
     "output_type": "execute_result"
    }
   ],
   "source": [
    "calculate_score(gpt_N0)"
   ]
  },
  {
   "cell_type": "code",
   "execution_count": 15,
   "id": "7d8cd6f2",
   "metadata": {},
   "outputs": [
    {
     "data": {
      "text/plain": [
       "{'Trait Consistency (avg)': 2.734375,\n",
       " 'Evidence Quality (avg)': 1.734375,\n",
       " 'Logical Flow (avg)': 3.203125,\n",
       " 'Type Accuracy (sum)': 5}"
      ]
     },
     "execution_count": 15,
     "metadata": {},
     "output_type": "execute_result"
    }
   ],
   "source": [
    "calculate_score(gpt_N16)"
   ]
  },
  {
   "cell_type": "code",
   "execution_count": 16,
   "id": "8c19e0fe",
   "metadata": {},
   "outputs": [
    {
     "data": {
      "text/plain": [
       "{'Trait Consistency (avg)': 2.6875,\n",
       " 'Evidence Quality (avg)': 1.703125,\n",
       " 'Logical Flow (avg)': 3.171875,\n",
       " 'Type Accuracy (sum)': 3}"
      ]
     },
     "execution_count": 16,
     "metadata": {},
     "output_type": "execute_result"
    }
   ],
   "source": [
    "calculate_score(gpt_N32)"
   ]
  },
  {
   "cell_type": "code",
   "execution_count": 17,
   "id": "13472819",
   "metadata": {},
   "outputs": [
    {
     "data": {
      "text/plain": [
       "{'Trait Consistency (avg)': 2.71875,\n",
       " 'Evidence Quality (avg)': 1.734375,\n",
       " 'Logical Flow (avg)': 3.140625,\n",
       " 'Type Accuracy (sum)': 3}"
      ]
     },
     "execution_count": 17,
     "metadata": {},
     "output_type": "execute_result"
    }
   ],
   "source": [
    "calculate_score(gpt_N48)"
   ]
  },
  {
   "cell_type": "markdown",
   "id": "13a5ddf0",
   "metadata": {},
   "source": [
    "### Deepseek"
   ]
  },
  {
   "cell_type": "code",
   "execution_count": 2,
   "id": "abbaa398",
   "metadata": {},
   "outputs": [],
   "source": [
    "ds_N0 = pd.read_json('judge_Deepseek_N0.json')\n",
    "ds_N16 = pd.read_json('judge_Deepseek_N16.json')\n",
    "ds_N32 = pd.read_json('judge_Deepseek_N32.json')\n",
    "ds_N48 = pd.read_json('judge_Deepseek_N48.json')"
   ]
  },
  {
   "cell_type": "code",
   "execution_count": 19,
   "id": "f05da1f7",
   "metadata": {},
   "outputs": [
    {
     "data": {
      "text/plain": [
       "{'Trait Consistency (avg)': 2.859375,\n",
       " 'Evidence Quality (avg)': 1.859375,\n",
       " 'Logical Flow (avg)': 3.421875,\n",
       " 'Type Accuracy (sum)': 8}"
      ]
     },
     "execution_count": 19,
     "metadata": {},
     "output_type": "execute_result"
    }
   ],
   "source": [
    "calculate_score(ds_N0)"
   ]
  },
  {
   "cell_type": "code",
   "execution_count": 20,
   "id": "7ca79eb4",
   "metadata": {},
   "outputs": [
    {
     "data": {
      "text/plain": [
       "{'Trait Consistency (avg)': 2.671875,\n",
       " 'Evidence Quality (avg)': 1.671875,\n",
       " 'Logical Flow (avg)': 3.234375,\n",
       " 'Type Accuracy (sum)': 3}"
      ]
     },
     "execution_count": 20,
     "metadata": {},
     "output_type": "execute_result"
    }
   ],
   "source": [
    "calculate_score(ds_N16)"
   ]
  },
  {
   "cell_type": "code",
   "execution_count": 7,
   "id": "618abb66",
   "metadata": {},
   "outputs": [],
   "source": [
    "ds_N32.to_csv('judge_Deepseek_N32.csv', index=False)"
   ]
  },
  {
   "cell_type": "code",
   "execution_count": 26,
   "id": "882d66b5",
   "metadata": {},
   "outputs": [
    {
     "data": {
      "text/plain": [
       "{'Trait Consistency (avg)': 2.8125,\n",
       " 'Evidence Quality (avg)': 1.84375,\n",
       " 'Logical Flow (avg)': 3.4375,\n",
       " 'Type Accuracy (sum)': 6}"
      ]
     },
     "execution_count": 26,
     "metadata": {},
     "output_type": "execute_result"
    }
   ],
   "source": [
    "calculate_score(ds_N48)"
   ]
  },
  {
   "cell_type": "markdown",
   "id": "1b638caa",
   "metadata": {},
   "source": [
    "### LlaMa"
   ]
  },
  {
   "cell_type": "code",
   "execution_count": 28,
   "id": "075ca6bd",
   "metadata": {},
   "outputs": [],
   "source": [
    "df.to_csv(\"judge_gpt_N32.csv\", index=False)"
   ]
  },
  {
   "cell_type": "code",
   "execution_count": 34,
   "id": "0193486a",
   "metadata": {},
   "outputs": [],
   "source": [
    "judge_llama_n32 = pd.read_json('judge_llama_N32.json')"
   ]
  },
  {
   "cell_type": "code",
   "execution_count": 35,
   "id": "8f70761f",
   "metadata": {},
   "outputs": [],
   "source": [
    "judge_llama_n32.to_csv(\"judge_llama_N32.csv\", index=False)"
   ]
  }
 ],
 "metadata": {
  "kernelspec": {
   "display_name": "vidovax-env",
   "language": "python",
   "name": "python3"
  },
  "language_info": {
   "codemirror_mode": {
    "name": "ipython",
    "version": 3
   },
   "file_extension": ".py",
   "mimetype": "text/x-python",
   "name": "python",
   "nbconvert_exporter": "python",
   "pygments_lexer": "ipython3",
   "version": "3.11.11"
  }
 },
 "nbformat": 4,
 "nbformat_minor": 5
}
